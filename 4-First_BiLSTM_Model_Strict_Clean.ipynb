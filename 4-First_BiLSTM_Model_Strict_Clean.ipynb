{
 "cells": [
  {
   "cell_type": "markdown",
   "metadata": {},
   "source": [
    "##                                                            EDA ON NER Training dataset "
   ]
  },
  {
   "cell_type": "code",
   "execution_count": 1,
   "metadata": {},
   "outputs": [],
   "source": [
    "#Importing dependencies for EDA\n",
    "import matplotlib.pyplot as plt\n",
    "import pandas as pd\n",
    "import numpy as np\n",
    "import re\n",
    "import itertools\n",
    "import spacy\n",
    "from spacy import displacy\n",
    "\n",
    "#Importing the below block to display all outputs \n",
    "from IPython.core.interactiveshell import InteractiveShell\n",
    "InteractiveShell.ast_node_interactivity = \"all\""
   ]
  },
  {
   "cell_type": "code",
   "execution_count": 2,
   "metadata": {},
   "outputs": [
    {
     "data": {
      "text/html": [
       "<div>\n",
       "<style scoped>\n",
       "    .dataframe tbody tr th:only-of-type {\n",
       "        vertical-align: middle;\n",
       "    }\n",
       "\n",
       "    .dataframe tbody tr th {\n",
       "        vertical-align: top;\n",
       "    }\n",
       "\n",
       "    .dataframe thead th {\n",
       "        text-align: right;\n",
       "    }\n",
       "</style>\n",
       "<table border=\"1\" class=\"dataframe\">\n",
       "  <thead>\n",
       "    <tr style=\"text-align: right;\">\n",
       "      <th></th>\n",
       "      <th>Sentence #</th>\n",
       "      <th>Word</th>\n",
       "      <th>POS</th>\n",
       "      <th>Tag</th>\n",
       "    </tr>\n",
       "  </thead>\n",
       "  <tbody>\n",
       "    <tr>\n",
       "      <th>0</th>\n",
       "      <td>Sentence: 1</td>\n",
       "      <td>Thousands</td>\n",
       "      <td>NNS</td>\n",
       "      <td>O</td>\n",
       "    </tr>\n",
       "    <tr>\n",
       "      <th>1</th>\n",
       "      <td>NaN</td>\n",
       "      <td>of</td>\n",
       "      <td>IN</td>\n",
       "      <td>O</td>\n",
       "    </tr>\n",
       "    <tr>\n",
       "      <th>2</th>\n",
       "      <td>NaN</td>\n",
       "      <td>demonstrators</td>\n",
       "      <td>NNS</td>\n",
       "      <td>O</td>\n",
       "    </tr>\n",
       "    <tr>\n",
       "      <th>3</th>\n",
       "      <td>NaN</td>\n",
       "      <td>have</td>\n",
       "      <td>VBP</td>\n",
       "      <td>O</td>\n",
       "    </tr>\n",
       "    <tr>\n",
       "      <th>4</th>\n",
       "      <td>NaN</td>\n",
       "      <td>marched</td>\n",
       "      <td>VBN</td>\n",
       "      <td>O</td>\n",
       "    </tr>\n",
       "  </tbody>\n",
       "</table>\n",
       "</div>"
      ],
      "text/plain": [
       "    Sentence #           Word  POS Tag\n",
       "0  Sentence: 1      Thousands  NNS   O\n",
       "1          NaN             of   IN   O\n",
       "2          NaN  demonstrators  NNS   O\n",
       "3          NaN           have  VBP   O\n",
       "4          NaN        marched  VBN   O"
      ]
     },
     "execution_count": 2,
     "metadata": {},
     "output_type": "execute_result"
    },
    {
     "data": {
      "text/plain": [
       "(1048575, 4)"
      ]
     },
     "execution_count": 2,
     "metadata": {},
     "output_type": "execute_result"
    }
   ],
   "source": [
    "#Reading the file\n",
    "df = pd.read_csv(\"ner_datasetreference.csv\", encoding='latin')\n",
    "df.head()\n",
    "df.shape"
   ]
  },
  {
   "cell_type": "code",
   "execution_count": 3,
   "metadata": {},
   "outputs": [
    {
     "data": {
      "text/html": [
       "<div>\n",
       "<style scoped>\n",
       "    .dataframe tbody tr th:only-of-type {\n",
       "        vertical-align: middle;\n",
       "    }\n",
       "\n",
       "    .dataframe tbody tr th {\n",
       "        vertical-align: top;\n",
       "    }\n",
       "\n",
       "    .dataframe thead th {\n",
       "        text-align: right;\n",
       "    }\n",
       "</style>\n",
       "<table border=\"1\" class=\"dataframe\">\n",
       "  <thead>\n",
       "    <tr style=\"text-align: right;\">\n",
       "      <th></th>\n",
       "      <th>Sentence #</th>\n",
       "      <th>Word</th>\n",
       "      <th>POS</th>\n",
       "      <th>Tag</th>\n",
       "    </tr>\n",
       "  </thead>\n",
       "  <tbody>\n",
       "    <tr>\n",
       "      <th>0</th>\n",
       "      <td>1</td>\n",
       "      <td>Thousands</td>\n",
       "      <td>NNS</td>\n",
       "      <td>O</td>\n",
       "    </tr>\n",
       "    <tr>\n",
       "      <th>1</th>\n",
       "      <td>1</td>\n",
       "      <td>of</td>\n",
       "      <td>IN</td>\n",
       "      <td>O</td>\n",
       "    </tr>\n",
       "    <tr>\n",
       "      <th>2</th>\n",
       "      <td>1</td>\n",
       "      <td>demonstrators</td>\n",
       "      <td>NNS</td>\n",
       "      <td>O</td>\n",
       "    </tr>\n",
       "    <tr>\n",
       "      <th>3</th>\n",
       "      <td>1</td>\n",
       "      <td>have</td>\n",
       "      <td>VBP</td>\n",
       "      <td>O</td>\n",
       "    </tr>\n",
       "    <tr>\n",
       "      <th>4</th>\n",
       "      <td>1</td>\n",
       "      <td>marched</td>\n",
       "      <td>VBN</td>\n",
       "      <td>O</td>\n",
       "    </tr>\n",
       "  </tbody>\n",
       "</table>\n",
       "</div>"
      ],
      "text/plain": [
       "   Sentence #           Word  POS Tag\n",
       "0           1      Thousands  NNS   O\n",
       "1           1             of   IN   O\n",
       "2           1  demonstrators  NNS   O\n",
       "3           1           have  VBP   O\n",
       "4           1        marched  VBN   O"
      ]
     },
     "execution_count": 3,
     "metadata": {},
     "output_type": "execute_result"
    }
   ],
   "source": [
    "# Column 1 represents sentences, Words represents each word in a sentence , POS is Parts of Speach tagging of individual words.\n",
    "# Tag Represents the NER tag of each words\n",
    "df = df.fillna(method='ffill')\n",
    "df[\"Sentence #\"] = df[\"Sentence #\"].apply(lambda s: s[9:]).astype(\"int32\")\n",
    "df.head()"
   ]
  },
  {
   "cell_type": "code",
   "execution_count": 4,
   "metadata": {},
   "outputs": [
    {
     "name": "stdout",
     "output_type": "stream",
     "text": [
      "Total number of sentences in the dataset: 47,959\n",
      "Total words in the dataset: 1,048,575\n"
     ]
    }
   ],
   "source": [
    "print(\"Total number of sentences in the dataset: {:,}\".format(df[\"Sentence #\"].nunique()))\n",
    "print(\"Total words in the dataset: {:,}\".format(df.shape[0]))"
   ]
  },
  {
   "cell_type": "code",
   "execution_count": 5,
   "metadata": {},
   "outputs": [
    {
     "data": {
      "text/plain": [
       "<matplotlib.axes._subplots.AxesSubplot at 0x1e3af590a48>"
      ]
     },
     "execution_count": 5,
     "metadata": {},
     "output_type": "execute_result"
    },
    {
     "data": {
      "image/png": "[encoded data removed]",
      "text/plain": [
       "<Figure size 720x360 with 1 Axes>"
      ]
     },
     "metadata": {
      "needs_background": "light"
     },
     "output_type": "display_data"
    }
   ],
   "source": [
    "#Plotting the no of each tags\n",
    "df[\"Tag\"].value_counts().plot(kind=\"bar\", figsize=(10,5)) "
   ]
  },
  {
   "cell_type": "code",
   "execution_count": 6,
   "metadata": {},
   "outputs": [
    {
     "data": {
      "text/plain": [
       "<matplotlib.axes._subplots.AxesSubplot at 0x1e3b29b8f48>"
      ]
     },
     "execution_count": 6,
     "metadata": {},
     "output_type": "execute_result"
    },
    {
     "data": {
      "image/png": "[encoded data removed]",
      "text/plain": [
       "<Figure size 720x360 with 1 Axes>"
      ]
     },
     "metadata": {
      "needs_background": "light"
     },
     "output_type": "display_data"
    }
   ],
   "source": [
    "df[df[\"Tag\"]!=\"O\"][\"Tag\"].value_counts().plot(kind=\"bar\", figsize=(10,5)) #Data has more O tags plotting without the O tags"
   ]
  },
  {
   "cell_type": "code",
   "execution_count": 7,
   "metadata": {},
   "outputs": [
    {
     "data": {
      "text/plain": [
       "B-geo    37644\n",
       "B-tim    20333\n",
       "B-org    20143\n",
       "I-per    17251\n",
       "B-per    16990\n",
       "I-org    16784\n",
       "B-gpe    15870\n",
       "I-geo     7414\n",
       "I-tim     6528\n",
       "B-art      402\n",
       "B-eve      308\n",
       "I-art      297\n",
       "I-eve      253\n",
       "B-nat      201\n",
       "I-gpe      198\n",
       "I-nat       51\n",
       "Name: Tag, dtype: int64"
      ]
     },
     "execution_count": 7,
     "metadata": {},
     "output_type": "execute_result"
    }
   ],
   "source": [
    "df[df[\"Tag\"]!=\"O\"][\"Tag\"].value_counts()"
   ]
  },
  {
   "cell_type": "code",
   "execution_count": 8,
   "metadata": {},
   "outputs": [
    {
     "data": {
      "text/plain": [
       "the    52573\n",
       ".      47761\n",
       ",      32754\n",
       "of     26354\n",
       "in     26323\n",
       "to     23213\n",
       "a      20481\n",
       "and    19936\n",
       "The    11313\n",
       "'s     10923\n",
       "Name: Word, dtype: int64"
      ]
     },
     "execution_count": 8,
     "metadata": {},
     "output_type": "execute_result"
    }
   ],
   "source": [
    "# Looking at the top 10 most used words\n",
    "# Exploring at the\n",
    "df.Word.value_counts()[:10]"
   ]
  },
  {
   "cell_type": "code",
   "execution_count": 9,
   "metadata": {},
   "outputs": [],
   "source": [
    "#Upon investigate found out there were unwanted characters as below hence removing those latin characters \n",
    "replacement_dict = {'ë':'e','ü':'u',\"\\xa0\":' ', 'é':'e', '\\x93':' ','\\x91':' ','\\x97':' ','\\x85':' ','\\x94':' ','ö':'o' ,'°':' ', \n",
    "                   '\\x92':' ','\\x96':' '}\n",
    "\n",
    "def cleanunicode(uncleanstring):\n",
    "    returnstring = re.sub(r'[\\xa0|é|ë|ü|\\x93|\\x91|\\x97|\\x85|\\x94|ö|°|\\x92|\\x96]', lambda m: replacement_dict.get(m.group()), uncleanstring)\n",
    "    returnstring = re.sub(r'http\\S+',' ',returnstring) #removes hyperlinks if any\n",
    "    returnstring = re.sub(r\"[^\\w\\s\\d\\.\\,\\-]\", '',returnstring ) #Removes punctuation except period, comma and hyphen\n",
    "    returnstring = re.sub(r'\\.(?!\\d)','',returnstring) #removes periods after a word but not before a number\n",
    "    returnstring = re.sub(r'\\,(?!\\d)','',returnstring) #removes commas after a word but not before a number \n",
    "    returnstring = re.sub(r\"\\-(?!\\w)\", '',returnstring) #removes hyphen is its not bounded by a word\n",
    "    return returnstring\n",
    "\n",
    "df['Word'] = df['Word'].apply(lambda x : cleanunicode(x))"
   ]
  },
  {
   "cell_type": "code",
   "execution_count": 10,
   "metadata": {},
   "outputs": [
    {
     "name": "stdout",
     "output_type": "stream",
     "text": [
      "Shape of actual dataframe :  (1048575, 4)\n",
      "Shapre of unwanted rows :  (89311, 4)\n",
      "Shape after removing unwanted words:  (959264, 4)\n"
     ]
    }
   ],
   "source": [
    "print(\"Shape of actual dataframe : \",df.shape)\n",
    "print(\"Shapre of unwanted rows : \", df[(df['Word'] == ' ') | (df['Word'] == '')].shape)\n",
    "df = df[(df['Word'] != ' ') & (df['Word'] != '')]\n",
    "print(\"Shape after removing unwanted words: \", df.shape)"
   ]
  },
  {
   "cell_type": "code",
   "execution_count": 17,
   "metadata": {},
   "outputs": [
    {
     "data": {
      "text/html": [
       "<div>\n",
       "<style scoped>\n",
       "    .dataframe tbody tr th:only-of-type {\n",
       "        vertical-align: middle;\n",
       "    }\n",
       "\n",
       "    .dataframe tbody tr th {\n",
       "        vertical-align: top;\n",
       "    }\n",
       "\n",
       "    .dataframe thead th {\n",
       "        text-align: right;\n",
       "    }\n",
       "</style>\n",
       "<table border=\"1\" class=\"dataframe\">\n",
       "  <thead>\n",
       "    <tr style=\"text-align: right;\">\n",
       "      <th></th>\n",
       "      <th>Sentence #</th>\n",
       "      <th>Word</th>\n",
       "      <th>POS</th>\n",
       "      <th>Tag</th>\n",
       "    </tr>\n",
       "  </thead>\n",
       "  <tbody>\n",
       "  </tbody>\n",
       "</table>\n",
       "</div>"
      ],
      "text/plain": [
       "Empty DataFrame\n",
       "Columns: [Sentence #, Word, POS, Tag]\n",
       "Index: []"
      ]
     },
     "execution_count": 17,
     "metadata": {},
     "output_type": "execute_result"
    },
    {
     "data": {
      "text/html": [
       "<div>\n",
       "<style scoped>\n",
       "    .dataframe tbody tr th:only-of-type {\n",
       "        vertical-align: middle;\n",
       "    }\n",
       "\n",
       "    .dataframe tbody tr th {\n",
       "        vertical-align: top;\n",
       "    }\n",
       "\n",
       "    .dataframe thead th {\n",
       "        text-align: right;\n",
       "    }\n",
       "</style>\n",
       "<table border=\"1\" class=\"dataframe\">\n",
       "  <thead>\n",
       "    <tr style=\"text-align: right;\">\n",
       "      <th></th>\n",
       "      <th>Sentence #</th>\n",
       "      <th>Word</th>\n",
       "      <th>POS</th>\n",
       "      <th>Tag</th>\n",
       "    </tr>\n",
       "  </thead>\n",
       "  <tbody>\n",
       "    <tr>\n",
       "      <th>0</th>\n",
       "      <td>1</td>\n",
       "      <td>Thousands</td>\n",
       "      <td>NNS</td>\n",
       "      <td>O</td>\n",
       "    </tr>\n",
       "    <tr>\n",
       "      <th>1</th>\n",
       "      <td>1</td>\n",
       "      <td>of</td>\n",
       "      <td>IN</td>\n",
       "      <td>O</td>\n",
       "    </tr>\n",
       "    <tr>\n",
       "      <th>2</th>\n",
       "      <td>1</td>\n",
       "      <td>demonstrators</td>\n",
       "      <td>NNS</td>\n",
       "      <td>O</td>\n",
       "    </tr>\n",
       "    <tr>\n",
       "      <th>3</th>\n",
       "      <td>1</td>\n",
       "      <td>have</td>\n",
       "      <td>VBP</td>\n",
       "      <td>O</td>\n",
       "    </tr>\n",
       "    <tr>\n",
       "      <th>4</th>\n",
       "      <td>1</td>\n",
       "      <td>marched</td>\n",
       "      <td>VBN</td>\n",
       "      <td>O</td>\n",
       "    </tr>\n",
       "  </tbody>\n",
       "</table>\n",
       "</div>"
      ],
      "text/plain": [
       "   Sentence #           Word  POS Tag\n",
       "0           1      Thousands  NNS   O\n",
       "1           1             of   IN   O\n",
       "2           1  demonstrators  NNS   O\n",
       "3           1           have  VBP   O\n",
       "4           1        marched  VBN   O"
      ]
     },
     "execution_count": 17,
     "metadata": {},
     "output_type": "execute_result"
    }
   ],
   "source": [
    "#Checking for null values\n",
    "df[df.isnull().all(1)]\n",
    "df.head()"
   ]
  },
  {
   "cell_type": "code",
   "execution_count": 18,
   "metadata": {
    "scrolled": false
   },
   "outputs": [
    {
     "data": {
      "text/plain": [
       "array([[<matplotlib.axes._subplots.AxesSubplot object at 0x000001E3B05C87C8>]],\n",
       "      dtype=object)"
      ]
     },
     "execution_count": 18,
     "metadata": {},
     "output_type": "execute_result"
    },
    {
     "data": {
      "text/plain": [
       "Text(0.5, 0, 'Bins of sentence with no of words')"
      ]
     },
     "execution_count": 18,
     "metadata": {},
     "output_type": "execute_result"
    },
    {
     "data": {
      "text/plain": [
       "Text(0, 0.5, 'No of words in sentences')"
      ]
     },
     "execution_count": 18,
     "metadata": {},
     "output_type": "execute_result"
    },
    {
     "data": {
      "image/png": "[encoded data removed]",
      "text/plain": [
       "<Figure size 864x432 with 1 Axes>"
      ]
     },
     "metadata": {
      "needs_background": "light"
     },
     "output_type": "display_data"
    }
   ],
   "source": [
    "# Looking at the number of words in each sentence and plotting in a Histogram to look at the spread.\n",
    "word_counts = df.groupby(\"Sentence #\")[\"Word\"].agg([\"count\"])\n",
    "word_counts = word_counts.rename(columns={\"count\": \"Word count\"})\n",
    "\n",
    "plotting_bins=np.arange(0,120,1)\n",
    "word_counts.hist(bins=plotting_bins,figsize=(12,6))\n",
    "\n",
    "# word_counts.hist(bins=100, figsize=(10,6))\n",
    "plt.xlabel(\"Bins of sentence with no of words\")\n",
    "plt.ylabel(\"No of words in sentences\")\n",
    "plt.show()"
   ]
  },
  {
   "cell_type": "code",
   "execution_count": 19,
   "metadata": {},
   "outputs": [
    {
     "name": "stdout",
     "output_type": "stream",
     "text": [
      "Longest sentence in the corpus contains 77 words.\n"
     ]
    }
   ],
   "source": [
    "MAX_SENTENCE = word_counts.max()[0]\n",
    "MIN_SENTENCE = word_counts.min()[0]\n",
    "print(\"Longest sentence in the corpus contains {} words.\".format(MAX_SENTENCE))"
   ]
  },
  {
   "cell_type": "code",
   "execution_count": 20,
   "metadata": {},
   "outputs": [
    {
     "name": "stdout",
     "output_type": "stream",
     "text": [
      "ID of the longest sentence is 22480.\n",
      "ID of the Shortest sentence is 8412.\n"
     ]
    }
   ],
   "source": [
    "longest_sentence_id = word_counts[word_counts[\"Word count\"]==MAX_SENTENCE].index[0]\n",
    "print(\"ID of the longest sentence is {}.\".format(longest_sentence_id))\n",
    "shortest_sentence_id = word_counts[word_counts[\"Word count\"]==MIN_SENTENCE].index[0]\n",
    "print(\"ID of the Shortest sentence is {}.\".format(shortest_sentence_id))"
   ]
  },
  {
   "cell_type": "code",
   "execution_count": 21,
   "metadata": {},
   "outputs": [
    {
     "name": "stdout",
     "output_type": "stream",
     "text": [
      "Longest Sentence :\n",
      "  Fisheries in 2006 7 landed 1,26,976 metric tons of which 82 1,04,586 tons was krill Euphausia superba and 9.5 12,027 tons Patagonian toothfish Dissostichus eleginoides also known as Chilean sea bass compared to 1,27,910 tons in 2005 6 of which 83 1,06,591 tons was krill and 9.7 12,396 tons Patagonian toothfish estimated fishing from the area covered by the Convention of the Conservation of Antarctic Marine Living Resources CCAMLR which extends slightly beyond the Southern Ocean area\n",
      "\n",
      "Shortest Sentence :\n",
      "  The\n"
     ]
    }
   ],
   "source": [
    "print(\"Longest Sentence :\\n \", ' '.join(df[df[\"Sentence #\"] == longest_sentence_id][\"Word\"]))\n",
    "print(\"\\nShortest Sentence :\\n \", ' '.join(df[df[\"Sentence #\"] == shortest_sentence_id][\"Word\"]))"
   ]
  },
  {
   "cell_type": "code",
   "execution_count": 22,
   "metadata": {},
   "outputs": [
    {
     "name": "stdout",
     "output_type": "stream",
     "text": [
      "Sentence :  The\n",
      "Sentence :  Thursday\n",
      "Sentence :  Questions\n",
      "Sentence :  John Garang\n",
      "Sentence :  Bermet Akayeva\n",
      "Sentence :  Fifteen dollars\n",
      "Sentence :  It was\n",
      "Sentence :  IRAQ-POVERTY Washington\n",
      "Sentence :  Janice Karpinski\n",
      "Sentence :  Ojedokun Tuesday\n",
      "Sentence :  Niger 154th\n",
      "Sentence :  John Garang\n",
      "Sentence :  Jim Bertel narrates\n",
      "Sentence :  She remains hospitalized\n",
      "Sentence :  Diapers remained unchanged\n",
      "Sentence :  Abstain and enjoy\n",
      "Sentence :  Paul Sisco reports\n",
      "Sentence :  Jim Bertel narrates\n",
      "Sentence :  Paper was stationary\n",
      "Sentence :  The NASA Missions\n"
     ]
    }
   ],
   "source": [
    "#Exploring top twenty short sentences\n",
    "for index, row in word_counts.sort_values('Word count', ascending=True).head(20).iterrows():\n",
    "    print(\"Sentence : \", ' '.join(df[df[\"Sentence #\"] == index][\"Word\"]))"
   ]
  },
  {
   "cell_type": "code",
   "execution_count": 28,
   "metadata": {},
   "outputs": [],
   "source": [
    "#Lowering all the words to reduce the no of words in vocab\n",
    "df[\"Word\"] = df[\"Word\"].apply(lambda x: x.lower())"
   ]
  },
  {
   "cell_type": "code",
   "execution_count": 29,
   "metadata": {},
   "outputs": [
    {
     "name": "stdout",
     "output_type": "stream",
     "text": [
      "Number of unique words: 31672\n",
      "Number of unique tags : 17\n"
     ]
    }
   ],
   "source": [
    "# Creating a list of all unique words and unique tags\n",
    "all_words = list(set(df[\"Word\"].values))\n",
    "all_tags = list(set(df[\"Tag\"].values))\n",
    "print(\"Number of unique words: {}\".format(len(all_words)))\n",
    "print(\"Number of unique tags : {}\".format(len(all_tags)))"
   ]
  },
  {
   "cell_type": "code",
   "execution_count": 30,
   "metadata": {},
   "outputs": [
    {
     "name": "stdout",
     "output_type": "stream",
     "text": [
      "{'dwarfed': 2, '158': 3, 'downpour': 4, 'symbolize': 5, 'forwarded': 6}\n",
      "{'B-gpe': 1, 'I-tim': 2, 'I-org': 3, 'B-nat': 4, 'I-eve': 5}\n"
     ]
    }
   ],
   "source": [
    "# Creating a dictionary of of unique words and assigning a unique index number similarly to NER tags as well \n",
    "word2index = {word: idx + 2 for idx, word in enumerate(all_words)}\n",
    "word2index[\"UNKNOWN_WORD\"]=0\n",
    "word2index[\"PADDING\"]= 1\n",
    "tag2index = {tag: idx + 1 for idx, tag in enumerate(all_tags)}\n",
    "tag2index[\"PADDING\"] = 0\n",
    "print(dict(list(word2index.items())[0:5])) ## Dislaying 5 samples\n",
    "print(dict(list(tag2index.items())[0:5]))"
   ]
  },
  {
   "cell_type": "code",
   "execution_count": 31,
   "metadata": {},
   "outputs": [
    {
     "data": {
      "text/plain": [
       "31674"
      ]
     },
     "execution_count": 31,
     "metadata": {},
     "output_type": "execute_result"
    },
    {
     "data": {
      "text/plain": [
       "18"
      ]
     },
     "execution_count": 31,
     "metadata": {},
     "output_type": "execute_result"
    }
   ],
   "source": [
    "len(word2index)\n",
    "len(tag2index)"
   ]
  },
  {
   "cell_type": "code",
   "execution_count": 33,
   "metadata": {},
   "outputs": [
    {
     "data": {
      "text/html": [
       "<div>\n",
       "<style scoped>\n",
       "    .dataframe tbody tr th:only-of-type {\n",
       "        vertical-align: middle;\n",
       "    }\n",
       "\n",
       "    .dataframe tbody tr th {\n",
       "        vertical-align: top;\n",
       "    }\n",
       "\n",
       "    .dataframe thead th {\n",
       "        text-align: right;\n",
       "    }\n",
       "</style>\n",
       "<table border=\"1\" class=\"dataframe\">\n",
       "  <thead>\n",
       "    <tr style=\"text-align: right;\">\n",
       "      <th></th>\n",
       "      <th>Sentence #</th>\n",
       "      <th>Word</th>\n",
       "      <th>POS</th>\n",
       "      <th>Tag</th>\n",
       "      <th>Word_Index</th>\n",
       "      <th>Tag_index</th>\n",
       "    </tr>\n",
       "  </thead>\n",
       "  <tbody>\n",
       "    <tr>\n",
       "      <th>0</th>\n",
       "      <td>1</td>\n",
       "      <td>thousands</td>\n",
       "      <td>NNS</td>\n",
       "      <td>O</td>\n",
       "      <td>23178</td>\n",
       "      <td>15</td>\n",
       "    </tr>\n",
       "    <tr>\n",
       "      <th>1</th>\n",
       "      <td>1</td>\n",
       "      <td>of</td>\n",
       "      <td>IN</td>\n",
       "      <td>O</td>\n",
       "      <td>6354</td>\n",
       "      <td>15</td>\n",
       "    </tr>\n",
       "    <tr>\n",
       "      <th>2</th>\n",
       "      <td>1</td>\n",
       "      <td>demonstrators</td>\n",
       "      <td>NNS</td>\n",
       "      <td>O</td>\n",
       "      <td>10195</td>\n",
       "      <td>15</td>\n",
       "    </tr>\n",
       "    <tr>\n",
       "      <th>3</th>\n",
       "      <td>1</td>\n",
       "      <td>have</td>\n",
       "      <td>VBP</td>\n",
       "      <td>O</td>\n",
       "      <td>7329</td>\n",
       "      <td>15</td>\n",
       "    </tr>\n",
       "    <tr>\n",
       "      <th>4</th>\n",
       "      <td>1</td>\n",
       "      <td>marched</td>\n",
       "      <td>VBN</td>\n",
       "      <td>O</td>\n",
       "      <td>5463</td>\n",
       "      <td>15</td>\n",
       "    </tr>\n",
       "  </tbody>\n",
       "</table>\n",
       "</div>"
      ],
      "text/plain": [
       "   Sentence #           Word  POS Tag  Word_Index  Tag_index\n",
       "0           1      thousands  NNS   O       23178         15\n",
       "1           1             of   IN   O        6354         15\n",
       "2           1  demonstrators  NNS   O       10195         15\n",
       "3           1           have  VBP   O        7329         15\n",
       "4           1        marched  VBN   O        5463         15"
      ]
     },
     "execution_count": 33,
     "metadata": {},
     "output_type": "execute_result"
    }
   ],
   "source": [
    "#Creating a colum with unique indexes for words and NER tags\n",
    "df['Word_Index'] = df['Word'].map(word2index)\n",
    "df['Tag_index'] = df['Tag'].map(tag2index) \n",
    "df.head()"
   ]
  },
  {
   "cell_type": "code",
   "execution_count": 34,
   "metadata": {},
   "outputs": [
    {
     "name": "stderr",
     "output_type": "stream",
     "text": [
      "C:\\Users\\mr081025\\Anaconda3\\lib\\site-packages\\ipykernel_launcher.py:2: FutureWarning: Indexing with multiple keys (implicitly converted to a tuple of keys) will be deprecated, use a list instead.\n",
      "  \n"
     ]
    },
    {
     "name": "stdout",
     "output_type": "stream",
     "text": [
      "Wall time: 47.5 s\n"
     ]
    },
    {
     "data": {
      "text/html": [
       "<div>\n",
       "<style scoped>\n",
       "    .dataframe tbody tr th:only-of-type {\n",
       "        vertical-align: middle;\n",
       "    }\n",
       "\n",
       "    .dataframe tbody tr th {\n",
       "        vertical-align: top;\n",
       "    }\n",
       "\n",
       "    .dataframe thead th {\n",
       "        text-align: right;\n",
       "    }\n",
       "</style>\n",
       "<table border=\"1\" class=\"dataframe\">\n",
       "  <thead>\n",
       "    <tr style=\"text-align: right;\">\n",
       "      <th></th>\n",
       "      <th>Sentence #</th>\n",
       "      <th>Word</th>\n",
       "      <th>POS</th>\n",
       "      <th>Tag</th>\n",
       "      <th>Word_Index</th>\n",
       "      <th>Tag_index</th>\n",
       "    </tr>\n",
       "  </thead>\n",
       "  <tbody>\n",
       "    <tr>\n",
       "      <th>0</th>\n",
       "      <td>1</td>\n",
       "      <td>[thousands, of, demonstrators, have, marched, ...</td>\n",
       "      <td>[NNS, IN, NNS, VBP, VBN, IN, NNP, TO, VB, DT, ...</td>\n",
       "      <td>[O, O, O, O, O, O, B-geo, O, O, O, O, O, B-geo...</td>\n",
       "      <td>[23178, 6354, 10195, 7329, 5463, 4810, 4488, 2...</td>\n",
       "      <td>[15, 15, 15, 15, 15, 15, 7, 15, 15, 15, 15, 15...</td>\n",
       "    </tr>\n",
       "    <tr>\n",
       "      <th>1</th>\n",
       "      <td>2</td>\n",
       "      <td>[families, of, soldiers, killed, in, the, conf...</td>\n",
       "      <td>[NNS, IN, NNS, VBN, IN, DT, NN, VBD, DT, NNS, ...</td>\n",
       "      <td>[O, O, O, O, O, O, O, O, O, O, O, O, O, O, O, ...</td>\n",
       "      <td>[13551, 6354, 19900, 29724, 18193, 31082, 7045...</td>\n",
       "      <td>[15, 15, 15, 15, 15, 15, 15, 15, 15, 15, 15, 1...</td>\n",
       "    </tr>\n",
       "    <tr>\n",
       "      <th>2</th>\n",
       "      <td>3</td>\n",
       "      <td>[they, marched, from, the, houses, of, parliam...</td>\n",
       "      <td>[PRP, VBD, IN, DT, NNS, IN, NN, TO, DT, NN, IN...</td>\n",
       "      <td>[O, O, O, O, O, O, O, O, O, O, O, B-geo, I-geo]</td>\n",
       "      <td>[27209, 5463, 18327, 31082, 14972, 6354, 30182...</td>\n",
       "      <td>[15, 15, 15, 15, 15, 15, 15, 15, 15, 15, 15, 7...</td>\n",
       "    </tr>\n",
       "    <tr>\n",
       "      <th>3</th>\n",
       "      <td>4</td>\n",
       "      <td>[police, put, the, number, of, marchers, at, 1...</td>\n",
       "      <td>[NNS, VBD, DT, NN, IN, NNS, IN, CD, IN, NNS, V...</td>\n",
       "      <td>[O, O, O, O, O, O, O, O, O, O, O, O, O, O]</td>\n",
       "      <td>[1187, 909, 31082, 29459, 6354, 3930, 25725, 2...</td>\n",
       "      <td>[15, 15, 15, 15, 15, 15, 15, 15, 15, 15, 15, 1...</td>\n",
       "    </tr>\n",
       "    <tr>\n",
       "      <th>4</th>\n",
       "      <td>5</td>\n",
       "      <td>[the, protest, comes, on, the, eve, of, the, a...</td>\n",
       "      <td>[DT, NN, VBZ, IN, DT, NN, IN, DT, JJ, NN, IN, ...</td>\n",
       "      <td>[O, O, O, O, O, O, O, O, O, O, O, B-geo, O, O,...</td>\n",
       "      <td>[31082, 4664, 23686, 9240, 31082, 4321, 6354, ...</td>\n",
       "      <td>[15, 15, 15, 15, 15, 15, 15, 15, 15, 15, 15, 7...</td>\n",
       "    </tr>\n",
       "  </tbody>\n",
       "</table>\n",
       "</div>"
      ],
      "text/plain": [
       "   Sentence #                                               Word  \\\n",
       "0           1  [thousands, of, demonstrators, have, marched, ...   \n",
       "1           2  [families, of, soldiers, killed, in, the, conf...   \n",
       "2           3  [they, marched, from, the, houses, of, parliam...   \n",
       "3           4  [police, put, the, number, of, marchers, at, 1...   \n",
       "4           5  [the, protest, comes, on, the, eve, of, the, a...   \n",
       "\n",
       "                                                 POS  \\\n",
       "0  [NNS, IN, NNS, VBP, VBN, IN, NNP, TO, VB, DT, ...   \n",
       "1  [NNS, IN, NNS, VBN, IN, DT, NN, VBD, DT, NNS, ...   \n",
       "2  [PRP, VBD, IN, DT, NNS, IN, NN, TO, DT, NN, IN...   \n",
       "3  [NNS, VBD, DT, NN, IN, NNS, IN, CD, IN, NNS, V...   \n",
       "4  [DT, NN, VBZ, IN, DT, NN, IN, DT, JJ, NN, IN, ...   \n",
       "\n",
       "                                                 Tag  \\\n",
       "0  [O, O, O, O, O, O, B-geo, O, O, O, O, O, B-geo...   \n",
       "1  [O, O, O, O, O, O, O, O, O, O, O, O, O, O, O, ...   \n",
       "2    [O, O, O, O, O, O, O, O, O, O, O, B-geo, I-geo]   \n",
       "3         [O, O, O, O, O, O, O, O, O, O, O, O, O, O]   \n",
       "4  [O, O, O, O, O, O, O, O, O, O, O, B-geo, O, O,...   \n",
       "\n",
       "                                          Word_Index  \\\n",
       "0  [23178, 6354, 10195, 7329, 5463, 4810, 4488, 2...   \n",
       "1  [13551, 6354, 19900, 29724, 18193, 31082, 7045...   \n",
       "2  [27209, 5463, 18327, 31082, 14972, 6354, 30182...   \n",
       "3  [1187, 909, 31082, 29459, 6354, 3930, 25725, 2...   \n",
       "4  [31082, 4664, 23686, 9240, 31082, 4321, 6354, ...   \n",
       "\n",
       "                                           Tag_index  \n",
       "0  [15, 15, 15, 15, 15, 15, 7, 15, 15, 15, 15, 15...  \n",
       "1  [15, 15, 15, 15, 15, 15, 15, 15, 15, 15, 15, 1...  \n",
       "2  [15, 15, 15, 15, 15, 15, 15, 15, 15, 15, 15, 7...  \n",
       "3  [15, 15, 15, 15, 15, 15, 15, 15, 15, 15, 15, 1...  \n",
       "4  [15, 15, 15, 15, 15, 15, 15, 15, 15, 15, 15, 7...  "
      ]
     },
     "execution_count": 34,
     "metadata": {},
     "output_type": "execute_result"
    }
   ],
   "source": [
    "%%time\n",
    "#Creating a Shorter df dataframe\n",
    "grouped_df = df.groupby(['Sentence #'],as_index=False)['Word', 'POS', 'Tag', 'Word_Index', 'Tag_index'].agg(lambda x: list(x))\n",
    "grouped_df.head()"
   ]
  },
  {
   "cell_type": "code",
   "execution_count": 35,
   "metadata": {},
   "outputs": [
    {
     "data": {
      "text/plain": [
       "(47958, 6)"
      ]
     },
     "execution_count": 35,
     "metadata": {},
     "output_type": "execute_result"
    }
   ],
   "source": [
    "#Number of sentences in the dataset\n",
    "grouped_df.shape"
   ]
  },
  {
   "cell_type": "code",
   "execution_count": 37,
   "metadata": {},
   "outputs": [
    {
     "name": "stdout",
     "output_type": "stream",
     "text": [
      "The percentage of sentences which has more than 40 words is :  0.67 %\n"
     ]
    }
   ],
   "source": [
    "# Looking at the percentage of sentence which as more than 40 words\n",
    "print(\"The percentage of sentences which has more than 40 words is : \", round(word_counts[word_counts[\"Word count\"] > 40].shape[0] / len(word_counts[\"Word count\"]) * 100, 2),\"%\")"
   ]
  },
  {
   "cell_type": "code",
   "execution_count": 38,
   "metadata": {},
   "outputs": [],
   "source": [
    "#Padding the sentence for only 40 max length for each sentence for NLP modeling\n",
    "\n",
    "grouped_df[\"Padded_Word_Index\"] = grouped_df[\"Word_Index\"].apply(lambda x: x + [word2index[\"PADDING\"]] * (40 - len(x)) if (len(x) <=40) else x[:40])\n",
    "grouped_df[\"Padded_Tag_Index\"] = grouped_df[\"Tag_index\"].apply(lambda x: x + [tag2index[\"PADDING\"]] * (40 - len(x)) if (len(x) <=40) else x[:40])\n"
   ]
  },
  {
   "cell_type": "code",
   "execution_count": 39,
   "metadata": {},
   "outputs": [
    {
     "data": {
      "text/html": [
       "<div>\n",
       "<style scoped>\n",
       "    .dataframe tbody tr th:only-of-type {\n",
       "        vertical-align: middle;\n",
       "    }\n",
       "\n",
       "    .dataframe tbody tr th {\n",
       "        vertical-align: top;\n",
       "    }\n",
       "\n",
       "    .dataframe thead th {\n",
       "        text-align: right;\n",
       "    }\n",
       "</style>\n",
       "<table border=\"1\" class=\"dataframe\">\n",
       "  <thead>\n",
       "    <tr style=\"text-align: right;\">\n",
       "      <th></th>\n",
       "      <th>Sentence #</th>\n",
       "      <th>Word</th>\n",
       "      <th>POS</th>\n",
       "      <th>Tag</th>\n",
       "      <th>Word_Index</th>\n",
       "      <th>Tag_index</th>\n",
       "      <th>Padded_Word_Index</th>\n",
       "      <th>Padded_Tag_Index</th>\n",
       "    </tr>\n",
       "  </thead>\n",
       "  <tbody>\n",
       "    <tr>\n",
       "      <th>0</th>\n",
       "      <td>1</td>\n",
       "      <td>[thousands, of, demonstrators, have, marched, ...</td>\n",
       "      <td>[NNS, IN, NNS, VBP, VBN, IN, NNP, TO, VB, DT, ...</td>\n",
       "      <td>[O, O, O, O, O, O, B-geo, O, O, O, O, O, B-geo...</td>\n",
       "      <td>[23178, 6354, 10195, 7329, 5463, 4810, 4488, 2...</td>\n",
       "      <td>[15, 15, 15, 15, 15, 15, 7, 15, 15, 15, 15, 15...</td>\n",
       "      <td>[23178, 6354, 10195, 7329, 5463, 4810, 4488, 2...</td>\n",
       "      <td>[15, 15, 15, 15, 15, 15, 7, 15, 15, 15, 15, 15...</td>\n",
       "    </tr>\n",
       "    <tr>\n",
       "      <th>1</th>\n",
       "      <td>2</td>\n",
       "      <td>[families, of, soldiers, killed, in, the, conf...</td>\n",
       "      <td>[NNS, IN, NNS, VBN, IN, DT, NN, VBD, DT, NNS, ...</td>\n",
       "      <td>[O, O, O, O, O, O, O, O, O, O, O, O, O, O, O, ...</td>\n",
       "      <td>[13551, 6354, 19900, 29724, 18193, 31082, 7045...</td>\n",
       "      <td>[15, 15, 15, 15, 15, 15, 15, 15, 15, 15, 15, 1...</td>\n",
       "      <td>[13551, 6354, 19900, 29724, 18193, 31082, 7045...</td>\n",
       "      <td>[15, 15, 15, 15, 15, 15, 15, 15, 15, 15, 15, 1...</td>\n",
       "    </tr>\n",
       "    <tr>\n",
       "      <th>2</th>\n",
       "      <td>3</td>\n",
       "      <td>[they, marched, from, the, houses, of, parliam...</td>\n",
       "      <td>[PRP, VBD, IN, DT, NNS, IN, NN, TO, DT, NN, IN...</td>\n",
       "      <td>[O, O, O, O, O, O, O, O, O, O, O, B-geo, I-geo]</td>\n",
       "      <td>[27209, 5463, 18327, 31082, 14972, 6354, 30182...</td>\n",
       "      <td>[15, 15, 15, 15, 15, 15, 15, 15, 15, 15, 15, 7...</td>\n",
       "      <td>[27209, 5463, 18327, 31082, 14972, 6354, 30182...</td>\n",
       "      <td>[15, 15, 15, 15, 15, 15, 15, 15, 15, 15, 15, 7...</td>\n",
       "    </tr>\n",
       "    <tr>\n",
       "      <th>3</th>\n",
       "      <td>4</td>\n",
       "      <td>[police, put, the, number, of, marchers, at, 1...</td>\n",
       "      <td>[NNS, VBD, DT, NN, IN, NNS, IN, CD, IN, NNS, V...</td>\n",
       "      <td>[O, O, O, O, O, O, O, O, O, O, O, O, O, O]</td>\n",
       "      <td>[1187, 909, 31082, 29459, 6354, 3930, 25725, 2...</td>\n",
       "      <td>[15, 15, 15, 15, 15, 15, 15, 15, 15, 15, 15, 1...</td>\n",
       "      <td>[1187, 909, 31082, 29459, 6354, 3930, 25725, 2...</td>\n",
       "      <td>[15, 15, 15, 15, 15, 15, 15, 15, 15, 15, 15, 1...</td>\n",
       "    </tr>\n",
       "    <tr>\n",
       "      <th>4</th>\n",
       "      <td>5</td>\n",
       "      <td>[the, protest, comes, on, the, eve, of, the, a...</td>\n",
       "      <td>[DT, NN, VBZ, IN, DT, NN, IN, DT, JJ, NN, IN, ...</td>\n",
       "      <td>[O, O, O, O, O, O, O, O, O, O, O, B-geo, O, O,...</td>\n",
       "      <td>[31082, 4664, 23686, 9240, 31082, 4321, 6354, ...</td>\n",
       "      <td>[15, 15, 15, 15, 15, 15, 15, 15, 15, 15, 15, 7...</td>\n",
       "      <td>[31082, 4664, 23686, 9240, 31082, 4321, 6354, ...</td>\n",
       "      <td>[15, 15, 15, 15, 15, 15, 15, 15, 15, 15, 15, 7...</td>\n",
       "    </tr>\n",
       "  </tbody>\n",
       "</table>\n",
       "</div>"
      ],
      "text/plain": [
       "   Sentence #                                               Word  \\\n",
       "0           1  [thousands, of, demonstrators, have, marched, ...   \n",
       "1           2  [families, of, soldiers, killed, in, the, conf...   \n",
       "2           3  [they, marched, from, the, houses, of, parliam...   \n",
       "3           4  [police, put, the, number, of, marchers, at, 1...   \n",
       "4           5  [the, protest, comes, on, the, eve, of, the, a...   \n",
       "\n",
       "                                                 POS  \\\n",
       "0  [NNS, IN, NNS, VBP, VBN, IN, NNP, TO, VB, DT, ...   \n",
       "1  [NNS, IN, NNS, VBN, IN, DT, NN, VBD, DT, NNS, ...   \n",
       "2  [PRP, VBD, IN, DT, NNS, IN, NN, TO, DT, NN, IN...   \n",
       "3  [NNS, VBD, DT, NN, IN, NNS, IN, CD, IN, NNS, V...   \n",
       "4  [DT, NN, VBZ, IN, DT, NN, IN, DT, JJ, NN, IN, ...   \n",
       "\n",
       "                                                 Tag  \\\n",
       "0  [O, O, O, O, O, O, B-geo, O, O, O, O, O, B-geo...   \n",
       "1  [O, O, O, O, O, O, O, O, O, O, O, O, O, O, O, ...   \n",
       "2    [O, O, O, O, O, O, O, O, O, O, O, B-geo, I-geo]   \n",
       "3         [O, O, O, O, O, O, O, O, O, O, O, O, O, O]   \n",
       "4  [O, O, O, O, O, O, O, O, O, O, O, B-geo, O, O,...   \n",
       "\n",
       "                                          Word_Index  \\\n",
       "0  [23178, 6354, 10195, 7329, 5463, 4810, 4488, 2...   \n",
       "1  [13551, 6354, 19900, 29724, 18193, 31082, 7045...   \n",
       "2  [27209, 5463, 18327, 31082, 14972, 6354, 30182...   \n",
       "3  [1187, 909, 31082, 29459, 6354, 3930, 25725, 2...   \n",
       "4  [31082, 4664, 23686, 9240, 31082, 4321, 6354, ...   \n",
       "\n",
       "                                           Tag_index  \\\n",
       "0  [15, 15, 15, 15, 15, 15, 7, 15, 15, 15, 15, 15...   \n",
       "1  [15, 15, 15, 15, 15, 15, 15, 15, 15, 15, 15, 1...   \n",
       "2  [15, 15, 15, 15, 15, 15, 15, 15, 15, 15, 15, 7...   \n",
       "3  [15, 15, 15, 15, 15, 15, 15, 15, 15, 15, 15, 1...   \n",
       "4  [15, 15, 15, 15, 15, 15, 15, 15, 15, 15, 15, 7...   \n",
       "\n",
       "                                   Padded_Word_Index  \\\n",
       "0  [23178, 6354, 10195, 7329, 5463, 4810, 4488, 2...   \n",
       "1  [13551, 6354, 19900, 29724, 18193, 31082, 7045...   \n",
       "2  [27209, 5463, 18327, 31082, 14972, 6354, 30182...   \n",
       "3  [1187, 909, 31082, 29459, 6354, 3930, 25725, 2...   \n",
       "4  [31082, 4664, 23686, 9240, 31082, 4321, 6354, ...   \n",
       "\n",
       "                                    Padded_Tag_Index  \n",
       "0  [15, 15, 15, 15, 15, 15, 7, 15, 15, 15, 15, 15...  \n",
       "1  [15, 15, 15, 15, 15, 15, 15, 15, 15, 15, 15, 1...  \n",
       "2  [15, 15, 15, 15, 15, 15, 15, 15, 15, 15, 15, 7...  \n",
       "3  [15, 15, 15, 15, 15, 15, 15, 15, 15, 15, 15, 1...  \n",
       "4  [15, 15, 15, 15, 15, 15, 15, 15, 15, 15, 15, 7...  "
      ]
     },
     "execution_count": 39,
     "metadata": {},
     "output_type": "execute_result"
    }
   ],
   "source": [
    "grouped_df.head()"
   ]
  },
  {
   "cell_type": "code",
   "execution_count": 41,
   "metadata": {
    "scrolled": true
   },
   "outputs": [
    {
     "name": "stdout",
     "output_type": "stream",
     "text": [
      "['thousands', 'of', 'demonstrators', 'have', 'marched', 'through', 'london', 'to', 'protest', 'the', 'war', 'in', 'iraq', 'and', 'demand', 'the', 'withdrawal', 'of', 'british', 'troops', 'from', 'that', 'country']\n",
      "['O', 'O', 'O', 'O', 'O', 'O', 'B-geo', 'O', 'O', 'O', 'O', 'O', 'B-geo', 'O', 'O', 'O', 'O', 'O', 'B-gpe', 'O', 'O', 'O', 'O']\n",
      "[23178, 6354, 10195, 7329, 5463, 4810, 4488, 26357, 4664, 31082, 15117, 18193, 5713, 12635, 30991, 31082, 3475, 6354, 24377, 27215, 18327, 8775, 28815]\n",
      "23\n",
      "[15, 15, 15, 15, 15, 15, 7, 15, 15, 15, 15, 15, 7, 15, 15, 15, 15, 15, 1, 15, 15, 15, 15]\n",
      "23\n",
      "[23178, 6354, 10195, 7329, 5463, 4810, 4488, 26357, 4664, 31082, 15117, 18193, 5713, 12635, 30991, 31082, 3475, 6354, 24377, 27215, 18327, 8775, 28815, 1, 1, 1, 1, 1, 1, 1, 1, 1, 1, 1, 1, 1, 1, 1, 1, 1]\n",
      "40\n",
      "[15, 15, 15, 15, 15, 15, 7, 15, 15, 15, 15, 15, 7, 15, 15, 15, 15, 15, 1, 15, 15, 15, 15, 0, 0, 0, 0, 0, 0, 0, 0, 0, 0, 0, 0, 0, 0, 0, 0, 0]\n",
      "40\n"
     ]
    }
   ],
   "source": [
    "# Looking at the first sentence to double check if the tags are saved properly.\n",
    "print(grouped_df.iloc[0,1])\n",
    "print(grouped_df.iloc[0,3])\n",
    "print(grouped_df.iloc[0,4])\n",
    "print(len(grouped_df.iloc[0,4]))\n",
    "print(grouped_df.iloc[0,5])\n",
    "print(len(grouped_df.iloc[0,5]))\n",
    "print(grouped_df.iloc[0,6])\n",
    "print(len(grouped_df.iloc[0,6]))\n",
    "print(grouped_df.iloc[0,7])\n",
    "print(len(grouped_df.iloc[0,7]))"
   ]
  },
  {
   "cell_type": "code",
   "execution_count": 42,
   "metadata": {},
   "outputs": [],
   "source": [
    "# Saving this df for different model training\n",
    "grouped_df.to_csv(\"Ner_ModelReady_data_strict_cleaned.csv\", index=False)"
   ]
  },
  {
   "cell_type": "code",
   "execution_count": 43,
   "metadata": {},
   "outputs": [],
   "source": [
    "#Saving the Word2Index as Json file\n",
    "import json\n",
    "\n",
    "with open('word2index_strict_cleaned.json', 'w') as fp:\n",
    "    json.dump(word2index, fp)\n",
    "\n",
    "with open('tag2index_strict_cleaned.json', 'w') as fp:\n",
    "    json.dump(tag2index, fp)"
   ]
  },
  {
   "cell_type": "markdown",
   "metadata": {},
   "source": [
    "##  ------BiLSTM - Model--------"
   ]
  },
  {
   "cell_type": "code",
   "execution_count": 44,
   "metadata": {},
   "outputs": [],
   "source": [
    "#Converting the input and target values into list of list.\n",
    "X = [i for i in grouped_df[\"Padded_Word_Index\"]]\n",
    "y = [i for i in grouped_df[\"Padded_Tag_Index\"]]"
   ]
  },
  {
   "cell_type": "code",
   "execution_count": 45,
   "metadata": {},
   "outputs": [],
   "source": [
    "# One hot encoding the target variable as each word has 18 different possibilities\n",
    "from tensorflow.keras.utils import to_categorical \n",
    "y = [to_categorical(i, num_classes=len(tag2index)) for i in y]"
   ]
  },
  {
   "cell_type": "code",
   "execution_count": 46,
   "metadata": {},
   "outputs": [
    {
     "name": "stdout",
     "output_type": "stream",
     "text": [
      "23178\t[0. 0. 0. 0. 0. 0. 0. 0. 0. 0. 0. 0. 0. 0. 0. 1. 0. 0.]\n",
      "6354\t[0. 0. 0. 0. 0. 0. 0. 0. 0. 0. 0. 0. 0. 0. 0. 1. 0. 0.]\n",
      "10195\t[0. 0. 0. 0. 0. 0. 0. 0. 0. 0. 0. 0. 0. 0. 0. 1. 0. 0.]\n",
      "7329\t[0. 0. 0. 0. 0. 0. 0. 0. 0. 0. 0. 0. 0. 0. 0. 1. 0. 0.]\n",
      "5463\t[0. 0. 0. 0. 0. 0. 0. 0. 0. 0. 0. 0. 0. 0. 0. 1. 0. 0.]\n",
      "4810\t[0. 0. 0. 0. 0. 0. 0. 0. 0. 0. 0. 0. 0. 0. 0. 1. 0. 0.]\n",
      "4488\t[0. 0. 0. 0. 0. 0. 0. 1. 0. 0. 0. 0. 0. 0. 0. 0. 0. 0.]\n",
      "26357\t[0. 0. 0. 0. 0. 0. 0. 0. 0. 0. 0. 0. 0. 0. 0. 1. 0. 0.]\n",
      "4664\t[0. 0. 0. 0. 0. 0. 0. 0. 0. 0. 0. 0. 0. 0. 0. 1. 0. 0.]\n",
      "31082\t[0. 0. 0. 0. 0. 0. 0. 0. 0. 0. 0. 0. 0. 0. 0. 1. 0. 0.]\n",
      "15117\t[0. 0. 0. 0. 0. 0. 0. 0. 0. 0. 0. 0. 0. 0. 0. 1. 0. 0.]\n",
      "18193\t[0. 0. 0. 0. 0. 0. 0. 0. 0. 0. 0. 0. 0. 0. 0. 1. 0. 0.]\n",
      "5713\t[0. 0. 0. 0. 0. 0. 0. 1. 0. 0. 0. 0. 0. 0. 0. 0. 0. 0.]\n",
      "12635\t[0. 0. 0. 0. 0. 0. 0. 0. 0. 0. 0. 0. 0. 0. 0. 1. 0. 0.]\n",
      "30991\t[0. 0. 0. 0. 0. 0. 0. 0. 0. 0. 0. 0. 0. 0. 0. 1. 0. 0.]\n",
      "31082\t[0. 0. 0. 0. 0. 0. 0. 0. 0. 0. 0. 0. 0. 0. 0. 1. 0. 0.]\n",
      "3475\t[0. 0. 0. 0. 0. 0. 0. 0. 0. 0. 0. 0. 0. 0. 0. 1. 0. 0.]\n",
      "6354\t[0. 0. 0. 0. 0. 0. 0. 0. 0. 0. 0. 0. 0. 0. 0. 1. 0. 0.]\n",
      "24377\t[0. 1. 0. 0. 0. 0. 0. 0. 0. 0. 0. 0. 0. 0. 0. 0. 0. 0.]\n",
      "27215\t[0. 0. 0. 0. 0. 0. 0. 0. 0. 0. 0. 0. 0. 0. 0. 1. 0. 0.]\n",
      "18327\t[0. 0. 0. 0. 0. 0. 0. 0. 0. 0. 0. 0. 0. 0. 0. 1. 0. 0.]\n",
      "8775\t[0. 0. 0. 0. 0. 0. 0. 0. 0. 0. 0. 0. 0. 0. 0. 1. 0. 0.]\n",
      "28815\t[0. 0. 0. 0. 0. 0. 0. 0. 0. 0. 0. 0. 0. 0. 0. 1. 0. 0.]\n",
      "1\t[1. 0. 0. 0. 0. 0. 0. 0. 0. 0. 0. 0. 0. 0. 0. 0. 0. 0.]\n",
      "1\t[1. 0. 0. 0. 0. 0. 0. 0. 0. 0. 0. 0. 0. 0. 0. 0. 0. 0.]\n",
      "1\t[1. 0. 0. 0. 0. 0. 0. 0. 0. 0. 0. 0. 0. 0. 0. 0. 0. 0.]\n",
      "1\t[1. 0. 0. 0. 0. 0. 0. 0. 0. 0. 0. 0. 0. 0. 0. 0. 0. 0.]\n",
      "1\t[1. 0. 0. 0. 0. 0. 0. 0. 0. 0. 0. 0. 0. 0. 0. 0. 0. 0.]\n",
      "1\t[1. 0. 0. 0. 0. 0. 0. 0. 0. 0. 0. 0. 0. 0. 0. 0. 0. 0.]\n",
      "1\t[1. 0. 0. 0. 0. 0. 0. 0. 0. 0. 0. 0. 0. 0. 0. 0. 0. 0.]\n",
      "1\t[1. 0. 0. 0. 0. 0. 0. 0. 0. 0. 0. 0. 0. 0. 0. 0. 0. 0.]\n",
      "1\t[1. 0. 0. 0. 0. 0. 0. 0. 0. 0. 0. 0. 0. 0. 0. 0. 0. 0.]\n",
      "1\t[1. 0. 0. 0. 0. 0. 0. 0. 0. 0. 0. 0. 0. 0. 0. 0. 0. 0.]\n",
      "1\t[1. 0. 0. 0. 0. 0. 0. 0. 0. 0. 0. 0. 0. 0. 0. 0. 0. 0.]\n",
      "1\t[1. 0. 0. 0. 0. 0. 0. 0. 0. 0. 0. 0. 0. 0. 0. 0. 0. 0.]\n",
      "1\t[1. 0. 0. 0. 0. 0. 0. 0. 0. 0. 0. 0. 0. 0. 0. 0. 0. 0.]\n",
      "1\t[1. 0. 0. 0. 0. 0. 0. 0. 0. 0. 0. 0. 0. 0. 0. 0. 0. 0.]\n",
      "1\t[1. 0. 0. 0. 0. 0. 0. 0. 0. 0. 0. 0. 0. 0. 0. 0. 0. 0.]\n",
      "1\t[1. 0. 0. 0. 0. 0. 0. 0. 0. 0. 0. 0. 0. 0. 0. 0. 0. 0.]\n",
      "1\t[1. 0. 0. 0. 0. 0. 0. 0. 0. 0. 0. 0. 0. 0. 0. 0. 0. 0.]\n"
     ]
    }
   ],
   "source": [
    "# Looking at the first index for the tags.\n",
    "for token, tag in zip(X[0], y[0]):\n",
    "    print('%s\\t%s' % (token, tag))"
   ]
  },
  {
   "cell_type": "code",
   "execution_count": 47,
   "metadata": {},
   "outputs": [],
   "source": [
    "#Spliting the data to train test split using 80:20 ratio\n",
    "from sklearn.model_selection import train_test_split\n",
    "X_train, X_test, y_train, y_test = train_test_split(X, y, test_size=0.2, random_state=123)"
   ]
  },
  {
   "cell_type": "code",
   "execution_count": 48,
   "metadata": {},
   "outputs": [],
   "source": [
    "#conveting the data into array to feed data into model\n",
    "X_train = np.array(X_train)\n",
    "X_test = np.array(X_test)\n",
    "y_train = np.array(y_train)\n",
    "y_test = np.array(y_test)"
   ]
  },
  {
   "cell_type": "code",
   "execution_count": 49,
   "metadata": {},
   "outputs": [],
   "source": [
    "from tensorflow.keras import Model, Input, Sequential\n",
    "from tensorflow.keras.layers import LSTM, Embedding, Dense\n",
    "from tensorflow.keras.layers import TimeDistributed, SpatialDropout1D, Bidirectional"
   ]
  },
  {
   "cell_type": "code",
   "execution_count": 238,
   "metadata": {},
   "outputs": [],
   "source": [
    "#Specifying fixed hyper parameters\n",
    "sentence_length = 40 # Number of words in a sentnece passed as input to the model\n",
    "total_unique_words = len(word2index)"
   ]
  },
  {
   "cell_type": "code",
   "execution_count": 51,
   "metadata": {},
   "outputs": [
    {
     "name": "stderr",
     "output_type": "stream",
     "text": [
      "C:\\Users\\mr081025\\Anaconda3\\lib\\site-packages\\ipykernel_launcher.py:1: DeprecationWarning: `import kerastuner` is deprecated, please use `import keras_tuner`.\n",
      "  \"\"\"Entry point for launching an IPython kernel.\n"
     ]
    },
    {
     "name": "stdout",
     "output_type": "stream",
     "text": [
      "Search space summary\n",
      "Default search space size: 3\n",
      "out_dim (Int)\n",
      "{'default': None, 'conditions': [], 'min_value': 20, 'max_value': 60, 'step': 20, 'sampling': None}\n",
      "units (Int)\n",
      "{'default': None, 'conditions': [], 'min_value': 50, 'max_value': 100, 'step': 25, 'sampling': None}\n",
      "learning_rate (Choice)\n",
      "{'default': 0.01, 'conditions': [], 'values': [0.01, 0.001, 0.0001], 'ordered': True}\n"
     ]
    }
   ],
   "source": [
    "from kerastuner.tuners import RandomSearch\n",
    "import kerastuner\n",
    "from tensorflow.keras.optimizers import Adam\n",
    "import tensorflow\n",
    "\n",
    "\n",
    "def build_model(hp):\n",
    "    model = Sequential()\n",
    "    hp_units = hp.Int('out_dim', min_value=20, max_value=60, step=20)\n",
    "    model.add(Embedding(input_dim=total_unique_words, output_dim=hp_units ,input_length=sentence_length))\n",
    "    model.add(SpatialDropout1D(0.1))\n",
    "    \n",
    "    hp_units = hp.Int('units', min_value=50, max_value=100, step=25)\n",
    "    model.add(Bidirectional(LSTM(units=hp_units, return_sequences=True, recurrent_dropout=0.1)))\n",
    "    \n",
    "    model.add(TimeDistributed(Dense(18, activation='softmax')))\n",
    "    \n",
    "    hp_learning_rate = hp.Choice('learning_rate', values=[1e-2, 1e-3, 1e-4])\n",
    "    model.compile(optimizer=Adam(learning_rate=hp_learning_rate), loss='categorical_crossentropy', metrics=['accuracy'])\n",
    "    return model\n",
    "\n",
    "tuner = RandomSearch(\n",
    "    build_model,\n",
    "    objective=kerastuner.Objective('val_loss', direction=\"min\"),\n",
    "    max_trials=10,\n",
    "    executions_per_trial=1,\n",
    "    directory='BiLSTM_Strick_Cleaned',\n",
    "    project_name='BiLSTM_Trial')\n",
    "\n",
    "tuner.search_space_summary()"
   ]
  },
  {
   "cell_type": "code",
   "execution_count": 52,
   "metadata": {},
   "outputs": [
    {
     "name": "stdout",
     "output_type": "stream",
     "text": [
      "Trial 10 Complete [00h 09m 40s]\n",
      "val_loss: 0.06949508190155029\n",
      "\n",
      "Best val_loss So Far: 0.06828252971172333\n",
      "Total elapsed time: 01h 36m 34s\n",
      "INFO:tensorflow:Oracle triggered exit\n"
     ]
    }
   ],
   "source": [
    "#Searching for best hyper parameter by randomly selecting 10 different combinations\n",
    "stop_early = tensorflow.keras.callbacks.EarlyStopping(monitor='val_loss', patience=2) \n",
    "tuner.search(X_train, y_train, epochs=5, validation_data=(X_test,y_test),callbacks=[stop_early])"
   ]
  },
  {
   "cell_type": "code",
   "execution_count": 53,
   "metadata": {},
   "outputs": [
    {
     "name": "stdout",
     "output_type": "stream",
     "text": [
      "Results summary\n",
      "Results in BiLSTM_Strick_Cleaned\\BiLSTM_Trial\n",
      "Showing 10 best trials\n",
      "Objective(name='val_loss', direction='min')\n",
      "Trial summary\n",
      "Hyperparameters:\n",
      "out_dim: 40\n",
      "units: 100\n",
      "learning_rate: 0.01\n",
      "Score: 0.06828252971172333\n",
      "Trial summary\n",
      "Hyperparameters:\n",
      "out_dim: 40\n",
      "units: 75\n",
      "learning_rate: 0.01\n",
      "Score: 0.06876826286315918\n",
      "Trial summary\n",
      "Hyperparameters:\n",
      "out_dim: 60\n",
      "units: 75\n",
      "learning_rate: 0.01\n",
      "Score: 0.06949508190155029\n",
      "Trial summary\n",
      "Hyperparameters:\n",
      "out_dim: 20\n",
      "units: 75\n",
      "learning_rate: 0.01\n",
      "Score: 0.07048071175813675\n",
      "Trial summary\n",
      "Hyperparameters:\n",
      "out_dim: 40\n",
      "units: 50\n",
      "learning_rate: 0.001\n",
      "Score: 0.07180722057819366\n",
      "Trial summary\n",
      "Hyperparameters:\n",
      "out_dim: 20\n",
      "units: 75\n",
      "learning_rate: 0.001\n",
      "Score: 0.07305414229631424\n",
      "Trial summary\n",
      "Hyperparameters:\n",
      "out_dim: 60\n",
      "units: 100\n",
      "learning_rate: 0.0001\n",
      "Score: 0.11894536763429642\n",
      "Trial summary\n",
      "Hyperparameters:\n",
      "out_dim: 60\n",
      "units: 75\n",
      "learning_rate: 0.0001\n",
      "Score: 0.12107037007808685\n",
      "Trial summary\n",
      "Hyperparameters:\n",
      "out_dim: 20\n",
      "units: 100\n",
      "learning_rate: 0.0001\n",
      "Score: 0.18275213241577148\n",
      "Trial summary\n",
      "Hyperparameters:\n",
      "out_dim: 20\n",
      "units: 75\n",
      "learning_rate: 0.0001\n",
      "Score: 0.18835166096687317\n"
     ]
    }
   ],
   "source": [
    "#Looking at the summary to get the best judge of hyper paramaters used and the validation loss for each\n",
    "tuner.results_summary()"
   ]
  },
  {
   "cell_type": "code",
   "execution_count": 56,
   "metadata": {},
   "outputs": [
    {
     "name": "stdout",
     "output_type": "stream",
     "text": [
      "\n",
      "The hyperparameter search is complete. \n",
      "The optimal number of neurons for BiLSTM layer is 100,\n",
      "The optimal learning rate for the optimizer is 0.01 and\n",
      "The No of dimentions of the Embedding o/p is 40.\n",
      "\n"
     ]
    }
   ],
   "source": [
    "#printing the best hyper parameters as per the tuner.\n",
    "best_hps=tuner.get_best_hyperparameters()[0]\n",
    "\n",
    "print(f\"\"\"\n",
    "The hyperparameter search is complete. \n",
    "The optimal number of neurons for BiLSTM layer is {best_hps.get('units')},\n",
    "The optimal learning rate for the optimizer is {best_hps.get('learning_rate')} and\n",
    "The No of dimentions of the Embedding o/p is {best_hps.get('out_dim')}.\n",
    "\"\"\")"
   ]
  },
  {
   "cell_type": "code",
   "execution_count": 57,
   "metadata": {},
   "outputs": [
    {
     "name": "stdout",
     "output_type": "stream",
     "text": [
      "Epoch 1/10\n",
      "1199/1199 [==============================] - 197s 158ms/step - loss: 0.1214 - accuracy: 0.9665 - val_loss: 0.0702 - val_accuracy: 0.9788\n",
      "Epoch 2/10\n",
      "1199/1199 [==============================] - 184s 153ms/step - loss: 0.0583 - accuracy: 0.9818 - val_loss: 0.0689 - val_accuracy: 0.9791\n",
      "Epoch 3/10\n",
      "1199/1199 [==============================] - 189s 158ms/step - loss: 0.0480 - accuracy: 0.9846 - val_loss: 0.0707 - val_accuracy: 0.9790\n",
      "Epoch 4/10\n",
      "1199/1199 [==============================] - 191s 159ms/step - loss: 0.0429 - accuracy: 0.9859 - val_loss: 0.0752 - val_accuracy: 0.9787\n",
      "Epoch 5/10\n",
      "1199/1199 [==============================] - 184s 153ms/step - loss: 0.0402 - accuracy: 0.9867 - val_loss: 0.0764 - val_accuracy: 0.9784\n",
      "Epoch 6/10\n",
      "1199/1199 [==============================] - 191s 159ms/step - loss: 0.0382 - accuracy: 0.9874 - val_loss: 0.0794 - val_accuracy: 0.9787\n",
      "Epoch 7/10\n",
      "1199/1199 [==============================] - 189s 158ms/step - loss: 0.0369 - accuracy: 0.9878 - val_loss: 0.0814 - val_accuracy: 0.9783\n",
      "Epoch 8/10\n",
      "1199/1199 [==============================] - 189s 158ms/step - loss: 0.0356 - accuracy: 0.9881 - val_loss: 0.0823 - val_accuracy: 0.9782\n",
      "Epoch 9/10\n",
      "1199/1199 [==============================] - 194s 162ms/step - loss: 0.0349 - accuracy: 0.9883 - val_loss: 0.0837 - val_accuracy: 0.9783\n",
      "Epoch 10/10\n",
      "1199/1199 [==============================] - 198s 165ms/step - loss: 0.0343 - accuracy: 0.9885 - val_loss: 0.0849 - val_accuracy: 0.9785\n",
      "Best epoch: 2\n"
     ]
    }
   ],
   "source": [
    "# Build the model with the optimal hyperparameters and train it on the data for 50 epochs\n",
    "model = tuner.hypermodel.build(best_hps)\n",
    "history = model.fit(X_train, y_train, epochs=10, validation_data=(X_test,y_test))\n",
    "#checking which Epoch had the lowest val_loss\n",
    "val_acc_per_epoch = history.history['val_loss']\n",
    "best_epoch = val_acc_per_epoch.index(min(val_acc_per_epoch)) + 1\n",
    "print('Best epoch: %d' % (best_epoch,))"
   ]
  },
  {
   "cell_type": "code",
   "execution_count": 58,
   "metadata": {},
   "outputs": [
    {
     "data": {
      "text/plain": [
       "<Figure size 864x576 with 0 Axes>"
      ]
     },
     "execution_count": 58,
     "metadata": {},
     "output_type": "execute_result"
    },
    {
     "data": {
      "text/plain": [
       "[<matplotlib.lines.Line2D at 0x1e3820ecd88>]"
      ]
     },
     "execution_count": 58,
     "metadata": {},
     "output_type": "execute_result"
    },
    {
     "data": {
      "text/plain": [
       "[<matplotlib.lines.Line2D at 0x1e3820f5b08>]"
      ]
     },
     "execution_count": 58,
     "metadata": {},
     "output_type": "execute_result"
    },
    {
     "data": {
      "text/plain": [
       "<matplotlib.legend.Legend at 0x1e3820f5d48>"
      ]
     },
     "execution_count": 58,
     "metadata": {},
     "output_type": "execute_result"
    },
    {
     "data": {
      "image/png": "[encoded data removed]",
      "text/plain": [
       "<Figure size 864x576 with 1 Axes>"
      ]
     },
     "metadata": {},
     "output_type": "display_data"
    }
   ],
   "source": [
    "#Plotting Accuracy vs Validation accuracy\n",
    "hist = pd.DataFrame(history.history)\n",
    "plt.style.use(\"ggplot\")\n",
    "plt.figure(figsize=(12, 8))\n",
    "plt.plot(hist[\"accuracy\"],  label ='accuracy')\n",
    "plt.plot(hist[\"val_accuracy\"], label ='val_accuracy')\n",
    "plt.legend()\n",
    "plt.show()"
   ]
  },
  {
   "cell_type": "code",
   "execution_count": 59,
   "metadata": {},
   "outputs": [
    {
     "data": {
      "text/plain": [
       "<Figure size 864x576 with 0 Axes>"
      ]
     },
     "execution_count": 59,
     "metadata": {},
     "output_type": "execute_result"
    },
    {
     "data": {
      "text/plain": [
       "[<matplotlib.lines.Line2D at 0x1e3821227c8>]"
      ]
     },
     "execution_count": 59,
     "metadata": {},
     "output_type": "execute_result"
    },
    {
     "data": {
      "text/plain": [
       "[<matplotlib.lines.Line2D at 0x1e382131c48>]"
      ]
     },
     "execution_count": 59,
     "metadata": {},
     "output_type": "execute_result"
    },
    {
     "data": {
      "text/plain": [
       "<matplotlib.legend.Legend at 0x1e3af7474c8>"
      ]
     },
     "execution_count": 59,
     "metadata": {},
     "output_type": "execute_result"
    },
    {
     "data": {
      "image/png": "[encoded data removed]",
      "text/plain": [
       "<Figure size 864x576 with 1 Axes>"
      ]
     },
     "metadata": {},
     "output_type": "display_data"
    }
   ],
   "source": [
    "#Plotting Loss vs Validation loss\n",
    "hist = pd.DataFrame(history.history)\n",
    "plt.style.use(\"ggplot\")\n",
    "plt.figure(figsize=(12, 8))\n",
    "plt.plot(hist[\"loss\"],  label ='loss')\n",
    "plt.plot(hist[\"val_loss\"], label ='val_loss')\n",
    "plt.legend()\n",
    "plt.show()"
   ]
  },
  {
   "cell_type": "code",
   "execution_count": 83,
   "metadata": {},
   "outputs": [
    {
     "name": "stdout",
     "output_type": "stream",
     "text": [
      "Epoch 1/5\n",
      "1199/1199 [==============================] - 233s 188ms/step - loss: 0.1223 - accuracy: 0.9662 - val_loss: 0.0707 - val_accuracy: 0.9786\n",
      "Epoch 2/5\n",
      "1199/1199 [==============================] - 220s 184ms/step - loss: 0.0584 - accuracy: 0.9818 - val_loss: 0.0686 - val_accuracy: 0.9794\n",
      "Epoch 3/5\n",
      "1199/1199 [==============================] - 217s 181ms/step - loss: 0.0475 - accuracy: 0.9847 - val_loss: 0.0717 - val_accuracy: 0.9793\n",
      "Epoch 4/5\n",
      "1199/1199 [==============================] - 224s 187ms/step - loss: 0.0421 - accuracy: 0.9861 - val_loss: 0.0754 - val_accuracy: 0.9789\n"
     ]
    },
    {
     "data": {
      "text/plain": [
       "<keras.callbacks.History at 0x1e3f03f2708>"
      ]
     },
     "execution_count": 83,
     "metadata": {},
     "output_type": "execute_result"
    }
   ],
   "source": [
    "#Re-instantiate the hypermodel and train it with the optimal number of epochs from above.\n",
    "stop_early_final = tensorflow.keras.callbacks.EarlyStopping(monitor='val_loss', patience=2,restore_best_weights=True) \n",
    "hypermodel_strict_clean = tuner.hypermodel.build(best_hps)\n",
    "\n",
    "# Retrain the model\n",
    "hypermodel_strict_clean.fit(X_train, y_train, epochs=5, validation_data=(X_test,y_test),callbacks=[stop_early_final])"
   ]
  },
  {
   "cell_type": "code",
   "execution_count": 84,
   "metadata": {},
   "outputs": [
    {
     "name": "stdout",
     "output_type": "stream",
     "text": [
      "Model: \"sequential_8\"\n",
      "_________________________________________________________________\n",
      " Layer (type)                Output Shape              Param #   \n",
      "=================================================================\n",
      " embedding_8 (Embedding)     (None, 40, 40)            1266960   \n",
      "                                                                 \n",
      " spatial_dropout1d_8 (Spatia  (None, 40, 40)           0         \n",
      " lDropout1D)                                                     \n",
      "                                                                 \n",
      " bidirectional_8 (Bidirectio  (None, 40, 200)          112800    \n",
      " nal)                                                            \n",
      "                                                                 \n",
      " time_distributed_8 (TimeDis  (None, 40, 18)           3618      \n",
      " tributed)                                                       \n",
      "                                                                 \n",
      "=================================================================\n",
      "Total params: 1,383,378\n",
      "Trainable params: 1,383,378\n",
      "Non-trainable params: 0\n",
      "_________________________________________________________________\n"
     ]
    }
   ],
   "source": [
    "#Self model 1 with params = output_dim = 40, units=100 and learning_rate=0.01\n",
    "custom_model_1 = Sequential()\n",
    "custom_model_1.add(Embedding(input_dim=total_unique_words, output_dim=40 ,input_length=sentence_length))\n",
    "custom_model_1.add(SpatialDropout1D(0.1))\n",
    "custom_model_1.add(Bidirectional(LSTM(units=100, return_sequences=True, recurrent_dropout=0.1)))    \n",
    "custom_model_1.add(TimeDistributed(Dense(18, activation='softmax')))\n",
    "custom_model_1.compile(optimizer=Adam(learning_rate=0.01), loss='categorical_crossentropy', metrics=['accuracy'])\n",
    "custom_model_1.summary()"
   ]
  },
  {
   "cell_type": "code",
   "execution_count": 85,
   "metadata": {},
   "outputs": [
    {
     "name": "stdout",
     "output_type": "stream",
     "text": [
      "Epoch 1/5\n",
      "1199/1199 [==============================] - 225s 182ms/step - loss: 0.1151 - accuracy: 0.9676 - val_loss: 0.0720 - val_accuracy: 0.9780\n",
      "Epoch 2/5\n",
      "1199/1199 [==============================] - 217s 181ms/step - loss: 0.0578 - accuracy: 0.9820 - val_loss: 0.0689 - val_accuracy: 0.9794\n",
      "Epoch 3/5\n",
      "1199/1199 [==============================] - 206s 172ms/step - loss: 0.0479 - accuracy: 0.9847 - val_loss: 0.0717 - val_accuracy: 0.9783\n",
      "Epoch 4/5\n",
      "1199/1199 [==============================] - 215s 179ms/step - loss: 0.0430 - accuracy: 0.9860 - val_loss: 0.0723 - val_accuracy: 0.9790\n"
     ]
    },
    {
     "data": {
      "text/plain": [
       "<keras.callbacks.History at 0x1e3f5715048>"
      ]
     },
     "execution_count": 85,
     "metadata": {},
     "output_type": "execute_result"
    }
   ],
   "source": [
    "#Looking at the results of custom model 1\n",
    "custom_model_1.fit(X_train, y_train, epochs=5, validation_data=(X_test,y_test),callbacks=[stop_early_final])"
   ]
  },
  {
   "cell_type": "code",
   "execution_count": 86,
   "metadata": {},
   "outputs": [
    {
     "name": "stdout",
     "output_type": "stream",
     "text": [
      "Model: \"sequential_9\"\n",
      "_________________________________________________________________\n",
      " Layer (type)                Output Shape              Param #   \n",
      "=================================================================\n",
      " embedding_9 (Embedding)     (None, 40, 20)            633480    \n",
      "                                                                 \n",
      " spatial_dropout1d_9 (Spatia  (None, 40, 20)           0         \n",
      " lDropout1D)                                                     \n",
      "                                                                 \n",
      " bidirectional_9 (Bidirectio  (None, 40, 100)          28400     \n",
      " nal)                                                            \n",
      "                                                                 \n",
      " time_distributed_9 (TimeDis  (None, 40, 18)           1818      \n",
      " tributed)                                                       \n",
      "                                                                 \n",
      "=================================================================\n",
      "Total params: 663,698\n",
      "Trainable params: 663,698\n",
      "Non-trainable params: 0\n",
      "_________________________________________________________________\n"
     ]
    }
   ],
   "source": [
    "#Self model 1 with params = output_dim = 20, units=50 and learning_rate=0.01\n",
    "custom_model_2 = Sequential()\n",
    "custom_model_2.add(Embedding(input_dim=total_unique_words, output_dim=20 ,input_length=sentence_length))\n",
    "custom_model_2.add(SpatialDropout1D(0.1))\n",
    "custom_model_2.add(Bidirectional(LSTM(units=50, return_sequences=True, recurrent_dropout=0.1)))    \n",
    "custom_model_2.add(TimeDistributed(Dense(18, activation='softmax')))\n",
    "custom_model_2.compile(optimizer=Adam(learning_rate=0.01), loss='categorical_crossentropy', metrics=['accuracy'])\n",
    "custom_model_2.summary()"
   ]
  },
  {
   "cell_type": "code",
   "execution_count": 87,
   "metadata": {},
   "outputs": [
    {
     "name": "stdout",
     "output_type": "stream",
     "text": [
      "Epoch 1/5\n",
      "1199/1199 [==============================] - 93s 69ms/step - loss: 0.1368 - accuracy: 0.9632 - val_loss: 0.0755 - val_accuracy: 0.9774\n",
      "Epoch 2/5\n",
      "1199/1199 [==============================] - 80s 67ms/step - loss: 0.0630 - accuracy: 0.9807 - val_loss: 0.0702 - val_accuracy: 0.9788\n",
      "Epoch 3/5\n",
      "1199/1199 [==============================] - 80s 67ms/step - loss: 0.0518 - accuracy: 0.9835 - val_loss: 0.0715 - val_accuracy: 0.9790\n",
      "Epoch 4/5\n",
      "1199/1199 [==============================] - 78s 65ms/step - loss: 0.0470 - accuracy: 0.9848 - val_loss: 0.0731 - val_accuracy: 0.9786\n"
     ]
    },
    {
     "data": {
      "text/plain": [
       "<keras.callbacks.History at 0x1e3f5e6ce08>"
      ]
     },
     "execution_count": 87,
     "metadata": {},
     "output_type": "execute_result"
    }
   ],
   "source": [
    "#Looking at the results of custom model 2\n",
    "custom_model_2.fit(X_train, y_train, epochs=5, validation_data=(X_test,y_test),callbacks=[stop_early_final])"
   ]
  },
  {
   "cell_type": "code",
   "execution_count": 88,
   "metadata": {},
   "outputs": [
    {
     "name": "stdout",
     "output_type": "stream",
     "text": [
      "300/300 [==============================] - 14s 44ms/step\n",
      "300/300 [==============================] - 16s 49ms/step\n",
      "300/300 [==============================] - 4s 11ms/step\n"
     ]
    }
   ],
   "source": [
    "#Replacing the tag indexes with tags and predicting on test data\n",
    "from seqeval.metrics import precision_score, recall_score, f1_score, classification_report\n",
    "\n",
    "hypermodel_pred = hypermodel_strict_clean.predict(X_test, verbose=1)\n",
    "custom_model_1_pred = custom_model_1.predict(X_test, verbose=1)\n",
    "custom_model_2_pred = custom_model_2.predict(X_test, verbose=1)\n",
    "\n",
    "idx2tag = {i: w for w, i in tag2index.items()}\n",
    "\n",
    "def pred2label(pred):\n",
    "    out = []\n",
    "    for pred_i in pred:\n",
    "        out_i = []\n",
    "        for p in pred_i:\n",
    "            p_i = np.argmax(p)\n",
    "            out_i.append(idx2tag[p_i].replace(\"PADDING\", \"O\"))\n",
    "        out.append(out_i)\n",
    "    return out\n",
    "    \n",
    "hypermodel_pred_labels = pred2label(hypermodel_pred)\n",
    "custom_model_1_labels = pred2label(custom_model_1_pred)\n",
    "custom_model_2_labels = pred2label(custom_model_2_pred)\n",
    "test_labels = pred2label(y_test)"
   ]
  },
  {
   "cell_type": "code",
   "execution_count": 89,
   "metadata": {},
   "outputs": [
    {
     "name": "stdout",
     "output_type": "stream",
     "text": [
      "Hyper Parameter Tuned model F1-score: 79.2%\n",
      "Custom Parameters model 1 F1-score: 79.3%\n",
      "Custom Parameters model 2 F1-score: 78.6%\n"
     ]
    }
   ],
   "source": [
    "#Checking for weighted f1 score and classification report\n",
    "print(\"Hyper Parameter Tuned model F1-score: {:.1%}\".format(f1_score(test_labels, hypermodel_pred_labels)))\n",
    "print(\"Custom Parameters model 1 F1-score: {:.1%}\".format(f1_score(test_labels, custom_model_1_labels)))\n",
    "print(\"Custom Parameters model 2 F1-score: {:.1%}\".format(f1_score(test_labels, custom_model_2_labels)))"
   ]
  },
  {
   "cell_type": "code",
   "execution_count": 90,
   "metadata": {},
   "outputs": [
    {
     "name": "stdout",
     "output_type": "stream",
     "text": [
      "Classification Report of Hyper paramater tuned model\n",
      "              precision    recall  f1-score   support\n",
      "\n",
      "         art       0.17      0.03      0.05        75\n",
      "         eve       0.45      0.31      0.37        55\n",
      "         geo       0.83      0.86      0.84      7495\n",
      "         gpe       0.95      0.94      0.95      3172\n",
      "         nat       0.58      0.17      0.26        42\n",
      "         org       0.58      0.58      0.58      3968\n",
      "         per       0.73      0.72      0.72      3452\n",
      "         tim       0.86      0.85      0.85      4003\n",
      "\n",
      "   micro avg       0.79      0.79      0.79     22262\n",
      "   macro avg       0.64      0.56      0.58     22262\n",
      "weighted avg       0.79      0.79      0.79     22262\n",
      "\n",
      "Classification Report of Custom model 1\n",
      "              precision    recall  f1-score   support\n",
      "\n",
      "         art       0.43      0.08      0.13        75\n",
      "         eve       0.25      0.27      0.26        55\n",
      "         geo       0.80      0.88      0.84      7495\n",
      "         gpe       0.97      0.93      0.95      3172\n",
      "         nat       0.54      0.17      0.25        42\n",
      "         org       0.62      0.56      0.59      3968\n",
      "         per       0.72      0.72      0.72      3452\n",
      "         tim       0.87      0.85      0.86      4003\n",
      "\n",
      "   micro avg       0.79      0.80      0.79     22262\n",
      "   macro avg       0.65      0.56      0.58     22262\n",
      "weighted avg       0.79      0.80      0.79     22262\n",
      "\n",
      "Classification Report of Custom model 2\n",
      "              precision    recall  f1-score   support\n",
      "\n",
      "         art       0.00      0.00      0.00        75\n",
      "         eve       0.53      0.18      0.27        55\n",
      "         geo       0.80      0.87      0.83      7495\n",
      "         gpe       0.96      0.94      0.95      3172\n",
      "         nat       0.46      0.14      0.22        42\n",
      "         org       0.57      0.58      0.57      3968\n",
      "         per       0.71      0.71      0.71      3452\n",
      "         tim       0.87      0.85      0.86      4003\n",
      "\n",
      "   micro avg       0.78      0.79      0.79     22262\n",
      "   macro avg       0.61      0.53      0.55     22262\n",
      "weighted avg       0.78      0.79      0.78     22262\n",
      "\n"
     ]
    }
   ],
   "source": [
    "print(\"Classification Report of Hyper paramater tuned model\")\n",
    "print(classification_report(test_labels, hypermodel_pred_labels))\n",
    "print(\"Classification Report of Custom model 1\")\n",
    "print(classification_report(test_labels, custom_model_1_labels))\n",
    "print(\"Classification Report of Custom model 2\")\n",
    "print(classification_report(test_labels, custom_model_2_labels))"
   ]
  },
  {
   "cell_type": "code",
   "execution_count": 94,
   "metadata": {},
   "outputs": [
    {
     "name": "stdout",
     "output_type": "stream",
     "text": [
      "Word           True      HM_Pred   C1_Pred   C2_Pred   \n",
      "--------------------------------------------------\n",
      "after          O         O         O         O         \n",
      "her            O         O         O         O         \n",
      "talks          O         O         O         O         \n",
      "in             O         O         O         O         \n",
      "new            B-org     B-geo     B-geo     B-geo     \n",
      "delhi          I-org     I-geo     I-geo     I-geo     \n",
      "ms             B-per     B-per     B-per     B-per     \n",
      "rice           I-per     I-per     I-per     I-per     \n",
      "heads          O         O         O         O         \n",
      "to             O         O         O         O         \n",
      "pakistan       B-geo     B-geo     B-geo     B-geo     \n",
      "and            O         O         O         O         \n",
      "afghanistan    B-geo     B-geo     B-geo     B-geo     \n",
      "before         O         O         O         O         \n",
      "traveling      O         O         O         O         \n",
      "to             O         O         O         O         \n",
      "japan          B-geo     B-geo     B-geo     B-geo     \n",
      "south          B-geo     B-geo     B-geo     B-geo     \n",
      "korea          I-geo     I-geo     I-geo     I-geo     \n",
      "and            O         O         O         O         \n",
      "china          B-geo     B-geo     B-geo     B-geo     \n"
     ]
    }
   ],
   "source": [
    "#Predictin on Test dataset\n",
    "def get_key(val,diction):\n",
    "    for key, value in diction.items():\n",
    "        if val == value:\n",
    "            return key\n",
    "\n",
    "i = np.random.randint(0, X_test.shape[0])\n",
    "\n",
    "h_p = hypermodel_strict_clean.predict(np.array([X_test[i]]))\n",
    "c1_p = custom_model_1.predict(np.array([X_test[i]]))\n",
    "c2_p = custom_model_2.predict(np.array([X_test[i]]))\n",
    "\n",
    "h_p = np.argmax(h_p, axis=-1)\n",
    "c1_p = np.argmax(c1_p, axis=-1)\n",
    "c2_p = np.argmax(c2_p, axis=-1)\n",
    "\n",
    "y_true = np.argmax(np.array(y_test), axis=-1)[i]\n",
    "\n",
    "print(\"{:15}{:10}{:10}{:10}{:10}\".format(\"Word\", \"True\", \"HM_Pred\",\"C1_Pred\",\"C2_Pred\"))\n",
    "print(\"-\"*50)\n",
    "\n",
    "for (w, t, h_p,c1_p,c2_p) in zip(X_test[i], y_true, h_p[0], c1_p[0],c2_p[0]):\n",
    "    if get_key(w,word2index) == 'PADDING':\n",
    "        pass\n",
    "    else:\n",
    "        print(\"{:15}{:10}{:10}{:10}{:10}\".format(get_key(w,word2index), get_key(t,tag2index), get_key(h_p,tag2index), get_key(c1_p,tag2index), get_key(c2_p,tag2index)))"
   ]
  },
  {
   "cell_type": "code",
   "execution_count": 95,
   "metadata": {},
   "outputs": [
    {
     "name": "stdout",
     "output_type": "stream",
     "text": [
      "Model: \"sequential_10\"\n",
      "_________________________________________________________________\n",
      " Layer (type)                Output Shape              Param #   \n",
      "=================================================================\n",
      " embedding_10 (Embedding)    (None, 40, 40)            1266960   \n",
      "                                                                 \n",
      " spatial_dropout1d_10 (Spati  (None, 40, 40)           0         \n",
      " alDropout1D)                                                    \n",
      "                                                                 \n",
      " bidirectional_10 (Bidirecti  (None, 40, 200)          112800    \n",
      " onal)                                                           \n",
      "                                                                 \n",
      " time_distributed_10 (TimeDi  (None, 40, 18)           3618      \n",
      " stributed)                                                      \n",
      "                                                                 \n",
      "=================================================================\n",
      "Total params: 1,383,378\n",
      "Trainable params: 1,383,378\n",
      "Non-trainable params: 0\n",
      "_________________________________________________________________\n"
     ]
    }
   ],
   "source": [
    "# Training model on complete dataset \n",
    "# With Hyper parameters \n",
    "# output_dim = 40, units=100 and learning_rate=0.01\n",
    "\n",
    "Final_model_Strict_Clean = Sequential()\n",
    "Final_model_Strict_Clean.add(Embedding(input_dim=total_unique_words, output_dim=40 ,input_length=sentence_length))\n",
    "Final_model_Strict_Clean.add(SpatialDropout1D(0.1))\n",
    "Final_model_Strict_Clean.add(Bidirectional(LSTM(units=100, return_sequences=True, recurrent_dropout=0.1)))    \n",
    "Final_model_Strict_Clean.add(TimeDistributed(Dense(18, activation='softmax')))\n",
    "\n",
    "Final_model_Strict_Clean.compile(optimizer=Adam(learning_rate=0.01), loss='categorical_crossentropy', metrics=['accuracy'])\n",
    "Final_model_Strict_Clean.summary()"
   ]
  },
  {
   "cell_type": "code",
   "execution_count": 98,
   "metadata": {},
   "outputs": [
    {
     "name": "stdout",
     "output_type": "stream",
     "text": [
      "Epoch 1/2\n",
      "1499/1499 [==============================] - 190s 127ms/step - loss: 0.0854 - accuracy: 0.9750\n",
      "Epoch 2/2\n",
      "1499/1499 [==============================] - 188s 125ms/step - loss: 0.0560 - accuracy: 0.9825\n"
     ]
    },
    {
     "data": {
      "text/plain": [
       "<keras.callbacks.History at 0x1e3edecbb08>"
      ]
     },
     "execution_count": 98,
     "metadata": {},
     "output_type": "execute_result"
    }
   ],
   "source": [
    "#Fitting final model for two wpochs as all test training was overfitting for more number of epochs\n",
    "Full_X_Train = np.array(X)\n",
    "Full_Y_Train = np.array(y)\n",
    "Final_model_Strict_Clean.fit(Full_X_Train, Full_Y_Train, epochs=2)"
   ]
  },
  {
   "cell_type": "code",
   "execution_count": 240,
   "metadata": {},
   "outputs": [],
   "source": [
    "#saving the model\n",
    "Final_model_Strict_Clean.save('TrainedModels/BiLSTM_Final_model_Strict_Clean.h5')"
   ]
  },
  {
   "cell_type": "markdown",
   "metadata": {},
   "source": [
    "#### Predicting on Climate change dataset"
   ]
  },
  {
   "cell_type": "code",
   "execution_count": 200,
   "metadata": {},
   "outputs": [
    {
     "data": {
      "text/html": [
       "<div>\n",
       "<style scoped>\n",
       "    .dataframe tbody tr th:only-of-type {\n",
       "        vertical-align: middle;\n",
       "    }\n",
       "\n",
       "    .dataframe tbody tr th {\n",
       "        vertical-align: top;\n",
       "    }\n",
       "\n",
       "    .dataframe thead th {\n",
       "        text-align: right;\n",
       "    }\n",
       "</style>\n",
       "<table border=\"1\" class=\"dataframe\">\n",
       "  <thead>\n",
       "    <tr style=\"text-align: right;\">\n",
       "      <th></th>\n",
       "      <th>CleanedTweets</th>\n",
       "    </tr>\n",
       "  </thead>\n",
       "  <tbody>\n",
       "    <tr>\n",
       "      <th>0</th>\n",
       "      <td>News Trends Data Americans are less concerned ...</td>\n",
       "    </tr>\n",
       "    <tr>\n",
       "      <th>1</th>\n",
       "      <td>Do you realize that civil war is the devastati...</td>\n",
       "    </tr>\n",
       "    <tr>\n",
       "      <th>2</th>\n",
       "      <td>Having anxiety over the weather something they...</td>\n",
       "    </tr>\n",
       "    <tr>\n",
       "      <th>3</th>\n",
       "      <td>In the last few years I've noticed that studen...</td>\n",
       "    </tr>\n",
       "    <tr>\n",
       "      <th>4</th>\n",
       "      <td>FULL INTERVIEW BTS ARMY BTSonGMA NEWS EXCLUSIV...</td>\n",
       "    </tr>\n",
       "  </tbody>\n",
       "</table>\n",
       "</div>"
      ],
      "text/plain": [
       "                                       CleanedTweets\n",
       "0  News Trends Data Americans are less concerned ...\n",
       "1  Do you realize that civil war is the devastati...\n",
       "2  Having anxiety over the weather something they...\n",
       "3  In the last few years I've noticed that studen...\n",
       "4  FULL INTERVIEW BTS ARMY BTSonGMA NEWS EXCLUSIV..."
      ]
     },
     "execution_count": 200,
     "metadata": {},
     "output_type": "execute_result"
    }
   ],
   "source": [
    "#Readig the cleaned dataset\n",
    "ClimateChange_DF = pd.read_csv(\"Cleaned_English_tweets.csv\")\n",
    "#keeping only the tweets\n",
    "ClimateChange_DF = ClimateChange_DF[[\"CleanedTweets\"]]\n",
    "ClimateChange_DF.head()"
   ]
  },
  {
   "cell_type": "code",
   "execution_count": 201,
   "metadata": {},
   "outputs": [
    {
     "data": {
      "text/plain": [
       "(1557690, 1)"
      ]
     },
     "execution_count": 201,
     "metadata": {},
     "output_type": "execute_result"
    }
   ],
   "source": [
    "ClimateChange_DF.shape"
   ]
  },
  {
   "cell_type": "code",
   "execution_count": 202,
   "metadata": {},
   "outputs": [],
   "source": [
    "# Creating a list of word index with padding\n",
    "ClimateChange_DF[\"Word\"] = ClimateChange_DF[\"CleanedTweets\"].apply(lambda x: str(x).lower().split())\n",
    "ClimateChange_DF['Word_Index'] = ClimateChange_DF['Word'].apply(lambda x: [word2index[s] if s in word2index else word2index['UNKNOWN_WORD'] for s in x])\n",
    "ClimateChange_DF[\"Padded_Word_Index\"] = ClimateChange_DF[\"Word_Index\"].apply(lambda x: x + [word2index[\"PADDING\"]] * (40 - len(x)) if (len(x) <=40) else x[:40])"
   ]
  },
  {
   "cell_type": "code",
   "execution_count": 198,
   "metadata": {},
   "outputs": [
    {
     "data": {
      "text/html": [
       "<div>\n",
       "<style scoped>\n",
       "    .dataframe tbody tr th:only-of-type {\n",
       "        vertical-align: middle;\n",
       "    }\n",
       "\n",
       "    .dataframe tbody tr th {\n",
       "        vertical-align: top;\n",
       "    }\n",
       "\n",
       "    .dataframe thead th {\n",
       "        text-align: right;\n",
       "    }\n",
       "</style>\n",
       "<table border=\"1\" class=\"dataframe\">\n",
       "  <thead>\n",
       "    <tr style=\"text-align: right;\">\n",
       "      <th></th>\n",
       "      <th>CleanedTweets</th>\n",
       "      <th>Word</th>\n",
       "      <th>Word_Index</th>\n",
       "      <th>Padded_Word_Index</th>\n",
       "    </tr>\n",
       "  </thead>\n",
       "  <tbody>\n",
       "    <tr>\n",
       "      <th>0</th>\n",
       "      <td>News Trends Data Americans are less concerned ...</td>\n",
       "      <td>[news, trends, data, americans, are, less, con...</td>\n",
       "      <td>[2165, 325, 9098, 19174, 14213, 11148, 14962, ...</td>\n",
       "      <td>[2165, 325, 9098, 19174, 14213, 11148, 14962, ...</td>\n",
       "    </tr>\n",
       "    <tr>\n",
       "      <th>1</th>\n",
       "      <td>Do you realize that civil war is the devastati...</td>\n",
       "      <td>[do, you, realize, that, civil, war, is, the, ...</td>\n",
       "      <td>[11989, 23784, 6400, 8775, 1376, 15117, 8950, ...</td>\n",
       "      <td>[11989, 23784, 6400, 8775, 1376, 15117, 8950, ...</td>\n",
       "    </tr>\n",
       "    <tr>\n",
       "      <th>2</th>\n",
       "      <td>Having anxiety over the weather something they...</td>\n",
       "      <td>[having, anxiety, over, the, weather, somethin...</td>\n",
       "      <td>[5249, 16605, 15306, 31082, 10820, 26137, 2720...</td>\n",
       "      <td>[5249, 16605, 15306, 31082, 10820, 26137, 2720...</td>\n",
       "    </tr>\n",
       "    <tr>\n",
       "      <th>3</th>\n",
       "      <td>In the last few years I've noticed that studen...</td>\n",
       "      <td>[in, the, last, few, years, i've, noticed, tha...</td>\n",
       "      <td>[18193, 31082, 27602, 3214, 21234, 0, 13170, 8...</td>\n",
       "      <td>[18193, 31082, 27602, 3214, 21234, 0, 13170, 8...</td>\n",
       "    </tr>\n",
       "    <tr>\n",
       "      <th>4</th>\n",
       "      <td>FULL INTERVIEW BTS ARMY BTSonGMA NEWS EXCLUSIV...</td>\n",
       "      <td>[full, interview, bts, army, btsongma, news, e...</td>\n",
       "      <td>[2986, 12730, 0, 24604, 0, 2165, 2281, 29986, ...</td>\n",
       "      <td>[2986, 12730, 0, 24604, 0, 2165, 2281, 29986, ...</td>\n",
       "    </tr>\n",
       "  </tbody>\n",
       "</table>\n",
       "</div>"
      ],
      "text/plain": [
       "                                       CleanedTweets  \\\n",
       "0  News Trends Data Americans are less concerned ...   \n",
       "1  Do you realize that civil war is the devastati...   \n",
       "2  Having anxiety over the weather something they...   \n",
       "3  In the last few years I've noticed that studen...   \n",
       "4  FULL INTERVIEW BTS ARMY BTSonGMA NEWS EXCLUSIV...   \n",
       "\n",
       "                                                Word  \\\n",
       "0  [news, trends, data, americans, are, less, con...   \n",
       "1  [do, you, realize, that, civil, war, is, the, ...   \n",
       "2  [having, anxiety, over, the, weather, somethin...   \n",
       "3  [in, the, last, few, years, i've, noticed, tha...   \n",
       "4  [full, interview, bts, army, btsongma, news, e...   \n",
       "\n",
       "                                          Word_Index  \\\n",
       "0  [2165, 325, 9098, 19174, 14213, 11148, 14962, ...   \n",
       "1  [11989, 23784, 6400, 8775, 1376, 15117, 8950, ...   \n",
       "2  [5249, 16605, 15306, 31082, 10820, 26137, 2720...   \n",
       "3  [18193, 31082, 27602, 3214, 21234, 0, 13170, 8...   \n",
       "4  [2986, 12730, 0, 24604, 0, 2165, 2281, 29986, ...   \n",
       "\n",
       "                                   Padded_Word_Index  \n",
       "0  [2165, 325, 9098, 19174, 14213, 11148, 14962, ...  \n",
       "1  [11989, 23784, 6400, 8775, 1376, 15117, 8950, ...  \n",
       "2  [5249, 16605, 15306, 31082, 10820, 26137, 2720...  \n",
       "3  [18193, 31082, 27602, 3214, 21234, 0, 13170, 8...  \n",
       "4  [2986, 12730, 0, 24604, 0, 2165, 2281, 29986, ...  "
      ]
     },
     "execution_count": 198,
     "metadata": {},
     "output_type": "execute_result"
    }
   ],
   "source": [
    "ClimateChange_DF.head()"
   ]
  },
  {
   "cell_type": "code",
   "execution_count": 237,
   "metadata": {},
   "outputs": [
    {
     "name": "stdout",
     "output_type": "stream",
     "text": [
      "Actual Word         Word                True      \n",
      "------------------------------\n",
      "morrison            UNKNOWN_WORD        O         \n",
      "got                 got                 O         \n",
      "cucked              UNKNOWN_WORD        O         \n",
      "by                  by                  O         \n",
      "barnaby             UNKNOWN_WORD        B-org     \n",
      "morrison            UNKNOWN_WORD        I-org     \n",
      "confirming          confirming          O         \n",
      "in                  in                  O         \n",
      "this                this                O         \n",
      "qt                  UNKNOWN_WORD        B-tim     \n",
      "he's                UNKNOWN_WORD        O         \n",
      "given               given               O         \n",
      "up                  up                  O         \n",
      "on                  on                  O         \n",
      "increasing          increasing          O         \n",
      "the                 the                 O         \n",
      "2030                2030                B-tim     \n",
      "target              target              O         \n",
      "says                says                O         \n",
      "he'll               UNKNOWN_WORD        O         \n",
      "draw                draw                O         \n",
      "attention           attention           O         \n",
      "to                  to                  O         \n",
      "forecast            forecast            O         \n",
      "over                over                O         \n",
      "achievement         achievement         O         \n",
      "i                   i                   O         \n",
      "will                will                O         \n",
      "be                  be                  O         \n",
      "in                  in                  O         \n",
      "a                   a                   O         \n",
      "position            position            O         \n",
      "to                  to                  O         \n",
      "advise              UNKNOWN_WORD        O         \n",
      "the                 the                 O         \n",
      "cop26               UNKNOWN_WORD        O         \n",
      "in                  in                  O         \n",
      "our                 our                 O         \n",
      "success             success             O         \n",
      "in                  in                  O         \n"
     ]
    },
    {
     "data": {
      "text/html": [
       "<span class=\"tex2jax_ignore\"><div class=\"entities\" style=\"line-height: 2.5; direction: ltr\">\n",
       "<mark class=\"entity\" style=\"background: #aa9cfc; padding: 0.45em 0.6em; margin: 0 0.25em; line-height: 1; border-radius: 0.35em;\">\n",
       "    Morrison\n",
       "    <span style=\"font-size: 0.8em; font-weight: bold; line-height: 1; border-radius: 0.35em; vertical-align: middle; margin-left: 0.5rem\">PERSON</span>\n",
       "</mark>\n",
       " got cucked by \n",
       "<mark class=\"entity\" style=\"background: #aa9cfc; padding: 0.45em 0.6em; margin: 0 0.25em; line-height: 1; border-radius: 0.35em;\">\n",
       "    Barnaby Morrison\n",
       "    <span style=\"font-size: 0.8em; font-weight: bold; line-height: 1; border-radius: 0.35em; vertical-align: middle; margin-left: 0.5rem\">PERSON</span>\n",
       "</mark>\n",
       " confirming in this qt he's given up on increasing the \n",
       "<mark class=\"entity\" style=\"background: #e4e7d2; padding: 0.45em 0.6em; margin: 0 0.25em; line-height: 1; border-radius: 0.35em;\">\n",
       "    2030\n",
       "    <span style=\"font-size: 0.8em; font-weight: bold; line-height: 1; border-radius: 0.35em; vertical-align: middle; margin-left: 0.5rem\">CARDINAL</span>\n",
       "</mark>\n",
       " target Says he'll draw attention to forecast over achievement I will be in a position to advise the Cop26 in our success in meeting and beating that target Mr Speaker when I there in \n",
       "<mark class=\"entity\" style=\"background: #bfe1d9; padding: 0.45em 0.6em; margin: 0 0.25em; line-height: 1; border-radius: 0.35em;\">\n",
       "    a few weeks'\n",
       "    <span style=\"font-size: 0.8em; font-weight: bold; line-height: 1; border-radius: 0.35em; vertical-align: middle; margin-left: 0.5rem\">DATE</span>\n",
       "</mark>\n",
       " time</div></span>"
      ],
      "text/plain": [
       "<IPython.core.display.HTML object>"
      ]
     },
     "metadata": {},
     "output_type": "display_data"
    }
   ],
   "source": [
    "#Predictin on Test dataset\n",
    "def get_key(val,diction):\n",
    "    for key, value in diction.items():\n",
    "        if val == value:\n",
    "            return key\n",
    "\n",
    "i = np.random.randint(0, ClimateChange_DF.Padded_Word_Index.shape[0])\n",
    "\n",
    "h_p = Final_model_Strict_Clean.predict(np.array([ClimateChange_DF.Padded_Word_Index[i]]))\n",
    "\n",
    "h_p = np.argmax(h_p, axis=-1)\n",
    "\n",
    "print(\"{:20}{:20}{:10}\".format(\"Actual Word\", \"Word\", \"True\",))\n",
    "print(\"-\"*30)\n",
    "for (m, w, t) in itertools.zip_longest(ClimateChange_DF.Word[i][:40], ClimateChange_DF.Padded_Word_Index[i], h_p[0]):\n",
    "    if get_key(w,word2index) == 'PADDING':\n",
    "        pass\n",
    "    else:\n",
    "        print(\"{:20}{:20}{:10}\".format(str(m), get_key(w,word2index), get_key(t,tag2index)))\n",
    "\n",
    "#Using Spacy to cross check for entities\n",
    "nlp = spacy.load('en_core_web_sm')\n",
    "text = nlp(ClimateChange_DF.CleanedTweets[i])\n",
    "displacy.render(text, style = 'ent', jupyter=True)"
   ]
  },
  {
   "cell_type": "code",
   "execution_count": null,
   "metadata": {},
   "outputs": [],
   "source": [
    "from tensorflow import keras\n",
    "LoadedModel = keras.models.load_model('TrainedModels/Final_model_Strict_Clean')\n",
    "\n",
    "#Reading the dictionaries back \n",
    "with open('word2index_strict_cleaned.json', 'r') as fp:\n",
    "    word2index = json.load(fp)\n",
    "    \n",
    "with open('word2index_strict_cleaned.json', 'r') as fp:\n",
    "    tag2index = json.load(fp)"
   ]
  }
 ],
 "metadata": {
  "kernelspec": {
   "display_name": "Python 3",
   "language": "python",
   "name": "python3"
  },
  "language_info": {
   "codemirror_mode": {
    "name": "ipython",
    "version": 3
   },
   "file_extension": ".py",
   "mimetype": "text/x-python",
   "name": "python",
   "nbconvert_exporter": "python",
   "pygments_lexer": "ipython3",
   "version": "3.7.6"
  }
 },
 "nbformat": 4,
 "nbformat_minor": 4
}
