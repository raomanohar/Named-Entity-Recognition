{
 "cells": [
  {
   "cell_type": "markdown",
   "metadata": {},
   "source": [
    "##                                                            EDA ON NER Training dataset "
   ]
  },
  {
   "cell_type": "code",
   "execution_count": 1,
   "metadata": {},
   "outputs": [],
   "source": [
    "#Importing dependencies for EDA\n",
    "import matplotlib.pyplot as plt\n",
    "import pandas as pd\n",
    "import numpy as np\n",
    "import re\n",
    "import itertools\n",
    "import spacy\n",
    "from spacy import displacy\n",
    "\n",
    "#Importing the below block to display all outputs \n",
    "from IPython.core.interactiveshell import InteractiveShell\n",
    "InteractiveShell.ast_node_interactivity = \"all\""
   ]
  },
  {
   "cell_type": "code",
   "execution_count": 2,
   "metadata": {},
   "outputs": [
    {
     "data": {
      "text/html": [
       "<div>\n",
       "<style scoped>\n",
       "    .dataframe tbody tr th:only-of-type {\n",
       "        vertical-align: middle;\n",
       "    }\n",
       "\n",
       "    .dataframe tbody tr th {\n",
       "        vertical-align: top;\n",
       "    }\n",
       "\n",
       "    .dataframe thead th {\n",
       "        text-align: right;\n",
       "    }\n",
       "</style>\n",
       "<table border=\"1\" class=\"dataframe\">\n",
       "  <thead>\n",
       "    <tr style=\"text-align: right;\">\n",
       "      <th></th>\n",
       "      <th>Sentence #</th>\n",
       "      <th>Word</th>\n",
       "      <th>POS</th>\n",
       "      <th>Tag</th>\n",
       "    </tr>\n",
       "  </thead>\n",
       "  <tbody>\n",
       "    <tr>\n",
       "      <th>0</th>\n",
       "      <td>Sentence: 1</td>\n",
       "      <td>Thousands</td>\n",
       "      <td>NNS</td>\n",
       "      <td>O</td>\n",
       "    </tr>\n",
       "    <tr>\n",
       "      <th>1</th>\n",
       "      <td>NaN</td>\n",
       "      <td>of</td>\n",
       "      <td>IN</td>\n",
       "      <td>O</td>\n",
       "    </tr>\n",
       "    <tr>\n",
       "      <th>2</th>\n",
       "      <td>NaN</td>\n",
       "      <td>demonstrators</td>\n",
       "      <td>NNS</td>\n",
       "      <td>O</td>\n",
       "    </tr>\n",
       "    <tr>\n",
       "      <th>3</th>\n",
       "      <td>NaN</td>\n",
       "      <td>have</td>\n",
       "      <td>VBP</td>\n",
       "      <td>O</td>\n",
       "    </tr>\n",
       "    <tr>\n",
       "      <th>4</th>\n",
       "      <td>NaN</td>\n",
       "      <td>marched</td>\n",
       "      <td>VBN</td>\n",
       "      <td>O</td>\n",
       "    </tr>\n",
       "  </tbody>\n",
       "</table>\n",
       "</div>"
      ],
      "text/plain": [
       "    Sentence #           Word  POS Tag\n",
       "0  Sentence: 1      Thousands  NNS   O\n",
       "1          NaN             of   IN   O\n",
       "2          NaN  demonstrators  NNS   O\n",
       "3          NaN           have  VBP   O\n",
       "4          NaN        marched  VBN   O"
      ]
     },
     "execution_count": 2,
     "metadata": {},
     "output_type": "execute_result"
    },
    {
     "data": {
      "text/plain": [
       "(1048575, 4)"
      ]
     },
     "execution_count": 2,
     "metadata": {},
     "output_type": "execute_result"
    }
   ],
   "source": [
    "#Reading the file\n",
    "df = pd.read_csv(\"ner_datasetreference.csv\", encoding='latin')\n",
    "df.head()\n",
    "df.shape"
   ]
  },
  {
   "cell_type": "code",
   "execution_count": 3,
   "metadata": {},
   "outputs": [
    {
     "data": {
      "text/html": [
       "<div>\n",
       "<style scoped>\n",
       "    .dataframe tbody tr th:only-of-type {\n",
       "        vertical-align: middle;\n",
       "    }\n",
       "\n",
       "    .dataframe tbody tr th {\n",
       "        vertical-align: top;\n",
       "    }\n",
       "\n",
       "    .dataframe thead th {\n",
       "        text-align: right;\n",
       "    }\n",
       "</style>\n",
       "<table border=\"1\" class=\"dataframe\">\n",
       "  <thead>\n",
       "    <tr style=\"text-align: right;\">\n",
       "      <th></th>\n",
       "      <th>Sentence #</th>\n",
       "      <th>Word</th>\n",
       "      <th>POS</th>\n",
       "      <th>Tag</th>\n",
       "    </tr>\n",
       "  </thead>\n",
       "  <tbody>\n",
       "    <tr>\n",
       "      <th>0</th>\n",
       "      <td>1</td>\n",
       "      <td>Thousands</td>\n",
       "      <td>NNS</td>\n",
       "      <td>O</td>\n",
       "    </tr>\n",
       "    <tr>\n",
       "      <th>1</th>\n",
       "      <td>1</td>\n",
       "      <td>of</td>\n",
       "      <td>IN</td>\n",
       "      <td>O</td>\n",
       "    </tr>\n",
       "    <tr>\n",
       "      <th>2</th>\n",
       "      <td>1</td>\n",
       "      <td>demonstrators</td>\n",
       "      <td>NNS</td>\n",
       "      <td>O</td>\n",
       "    </tr>\n",
       "    <tr>\n",
       "      <th>3</th>\n",
       "      <td>1</td>\n",
       "      <td>have</td>\n",
       "      <td>VBP</td>\n",
       "      <td>O</td>\n",
       "    </tr>\n",
       "    <tr>\n",
       "      <th>4</th>\n",
       "      <td>1</td>\n",
       "      <td>marched</td>\n",
       "      <td>VBN</td>\n",
       "      <td>O</td>\n",
       "    </tr>\n",
       "  </tbody>\n",
       "</table>\n",
       "</div>"
      ],
      "text/plain": [
       "   Sentence #           Word  POS Tag\n",
       "0           1      Thousands  NNS   O\n",
       "1           1             of   IN   O\n",
       "2           1  demonstrators  NNS   O\n",
       "3           1           have  VBP   O\n",
       "4           1        marched  VBN   O"
      ]
     },
     "execution_count": 3,
     "metadata": {},
     "output_type": "execute_result"
    }
   ],
   "source": [
    "# Column 1 represents sentences, Words represents each word in a sentence , POS is Parts of Speach tagging of individual words.\n",
    "# Tag Represents the NER tag of each words\n",
    "df = df.fillna(method='ffill')\n",
    "df[\"Sentence #\"] = df[\"Sentence #\"].apply(lambda s: s[9:]).astype(\"int32\")\n",
    "df.head()"
   ]
  },
  {
   "cell_type": "code",
   "execution_count": 4,
   "metadata": {},
   "outputs": [
    {
     "name": "stdout",
     "output_type": "stream",
     "text": [
      "Total number of sentences in the dataset: 47,959\n",
      "Total words in the dataset: 1,048,575\n"
     ]
    }
   ],
   "source": [
    "print(\"Total number of sentences in the dataset: {:,}\".format(df[\"Sentence #\"].nunique()))\n",
    "print(\"Total words in the dataset: {:,}\".format(df.shape[0]))"
   ]
  },
  {
   "cell_type": "code",
   "execution_count": 5,
   "metadata": {},
   "outputs": [
    {
     "data": {
      "text/plain": [
       "<matplotlib.axes._subplots.AxesSubplot at 0x1f962b66ac8>"
      ]
     },
     "execution_count": 5,
     "metadata": {},
     "output_type": "execute_result"
    },
    {
     "data": {
      "image/png": "[encoded data removed]",
      "text/plain": [
       "<Figure size 720x360 with 1 Axes>"
      ]
     },
     "metadata": {
      "needs_background": "light"
     },
     "output_type": "display_data"
    }
   ],
   "source": [
    "#Plotting the no of each tags\n",
    "df[\"Tag\"].value_counts().plot(kind=\"bar\", figsize=(10,5)) "
   ]
  },
  {
   "cell_type": "code",
   "execution_count": 6,
   "metadata": {},
   "outputs": [
    {
     "data": {
      "text/plain": [
       "<matplotlib.axes._subplots.AxesSubplot at 0x1f96634f648>"
      ]
     },
     "execution_count": 6,
     "metadata": {},
     "output_type": "execute_result"
    },
    {
     "data": {
      "image/png": "[encoded data removed]",
      "text/plain": [
       "<Figure size 720x360 with 1 Axes>"
      ]
     },
     "metadata": {
      "needs_background": "light"
     },
     "output_type": "display_data"
    }
   ],
   "source": [
    "df[df[\"Tag\"]!=\"O\"][\"Tag\"].value_counts().plot(kind=\"bar\", figsize=(10,5)) #Data has more O tags plotting without the O tags"
   ]
  },
  {
   "cell_type": "code",
   "execution_count": 7,
   "metadata": {},
   "outputs": [
    {
     "data": {
      "text/plain": [
       "B-geo    37644\n",
       "B-tim    20333\n",
       "B-org    20143\n",
       "I-per    17251\n",
       "B-per    16990\n",
       "I-org    16784\n",
       "B-gpe    15870\n",
       "I-geo     7414\n",
       "I-tim     6528\n",
       "B-art      402\n",
       "B-eve      308\n",
       "I-art      297\n",
       "I-eve      253\n",
       "B-nat      201\n",
       "I-gpe      198\n",
       "I-nat       51\n",
       "Name: Tag, dtype: int64"
      ]
     },
     "execution_count": 7,
     "metadata": {},
     "output_type": "execute_result"
    }
   ],
   "source": [
    "df[df[\"Tag\"]!=\"O\"][\"Tag\"].value_counts()"
   ]
  },
  {
   "cell_type": "code",
   "execution_count": 8,
   "metadata": {},
   "outputs": [
    {
     "data": {
      "text/plain": [
       "the    52573\n",
       ".      47761\n",
       ",      32754\n",
       "of     26354\n",
       "in     26323\n",
       "to     23213\n",
       "a      20481\n",
       "and    19936\n",
       "The    11313\n",
       "'s     10923\n",
       "Name: Word, dtype: int64"
      ]
     },
     "execution_count": 8,
     "metadata": {},
     "output_type": "execute_result"
    }
   ],
   "source": [
    "# Looking at the top 10 most used words\n",
    "df.Word.value_counts()[:10]"
   ]
  },
  {
   "cell_type": "code",
   "execution_count": 9,
   "metadata": {},
   "outputs": [
    {
     "data": {
      "text/html": [
       "<div>\n",
       "<style scoped>\n",
       "    .dataframe tbody tr th:only-of-type {\n",
       "        vertical-align: middle;\n",
       "    }\n",
       "\n",
       "    .dataframe tbody tr th {\n",
       "        vertical-align: top;\n",
       "    }\n",
       "\n",
       "    .dataframe thead th {\n",
       "        text-align: right;\n",
       "    }\n",
       "</style>\n",
       "<table border=\"1\" class=\"dataframe\">\n",
       "  <thead>\n",
       "    <tr style=\"text-align: right;\">\n",
       "      <th></th>\n",
       "      <th>Sentence #</th>\n",
       "      <th>Word</th>\n",
       "      <th>POS</th>\n",
       "      <th>Tag</th>\n",
       "    </tr>\n",
       "  </thead>\n",
       "  <tbody>\n",
       "    <tr>\n",
       "      <th>841008</th>\n",
       "      <td>38444</td>\n",
       "      <td>Following</td>\n",
       "      <td>VBG</td>\n",
       "      <td>O</td>\n",
       "    </tr>\n",
       "    <tr>\n",
       "      <th>841009</th>\n",
       "      <td>38444</td>\n",
       "      <td>a</td>\n",
       "      <td>DT</td>\n",
       "      <td>O</td>\n",
       "    </tr>\n",
       "    <tr>\n",
       "      <th>841010</th>\n",
       "      <td>38444</td>\n",
       "      <td>briefing</td>\n",
       "      <td>NN</td>\n",
       "      <td>O</td>\n",
       "    </tr>\n",
       "    <tr>\n",
       "      <th>841011</th>\n",
       "      <td>38444</td>\n",
       "      <td>by</td>\n",
       "      <td>IN</td>\n",
       "      <td>O</td>\n",
       "    </tr>\n",
       "    <tr>\n",
       "      <th>841012</th>\n",
       "      <td>38444</td>\n",
       "      <td>the</td>\n",
       "      <td>DT</td>\n",
       "      <td>O</td>\n",
       "    </tr>\n",
       "    <tr>\n",
       "      <th>841013</th>\n",
       "      <td>38444</td>\n",
       "      <td>Energy</td>\n",
       "      <td>NNP</td>\n",
       "      <td>B-org</td>\n",
       "    </tr>\n",
       "    <tr>\n",
       "      <th>841014</th>\n",
       "      <td>38444</td>\n",
       "      <td>Department</td>\n",
       "      <td>NNP</td>\n",
       "      <td>I-org</td>\n",
       "    </tr>\n",
       "    <tr>\n",
       "      <th>841015</th>\n",
       "      <td>38444</td>\n",
       "      <td>,</td>\n",
       "      <td>,</td>\n",
       "      <td>O</td>\n",
       "    </tr>\n",
       "    <tr>\n",
       "      <th>841016</th>\n",
       "      <td>38444</td>\n",
       "      <td>the</td>\n",
       "      <td>DT</td>\n",
       "      <td>O</td>\n",
       "    </tr>\n",
       "    <tr>\n",
       "      <th>841017</th>\n",
       "      <td>38444</td>\n",
       "      <td>president</td>\n",
       "      <td>NN</td>\n",
       "      <td>O</td>\n",
       "    </tr>\n",
       "    <tr>\n",
       "      <th>841018</th>\n",
       "      <td>38444</td>\n",
       "      <td>said</td>\n",
       "      <td>VBD</td>\n",
       "      <td>O</td>\n",
       "    </tr>\n",
       "    <tr>\n",
       "      <th>841019</th>\n",
       "      <td>38444</td>\n",
       "      <td>Hurricanes</td>\n",
       "      <td>NNPS</td>\n",
       "      <td>B-nat</td>\n",
       "    </tr>\n",
       "    <tr>\n",
       "      <th>841020</th>\n",
       "      <td>38444</td>\n",
       "      <td>Rita</td>\n",
       "      <td>NNP</td>\n",
       "      <td>I-nat</td>\n",
       "    </tr>\n",
       "    <tr>\n",
       "      <th>841021</th>\n",
       "      <td>38444</td>\n",
       "      <td>and</td>\n",
       "      <td>CC</td>\n",
       "      <td>O</td>\n",
       "    </tr>\n",
       "    <tr>\n",
       "      <th>841022</th>\n",
       "      <td>38444</td>\n",
       "      <td>Katrina</td>\n",
       "      <td>NNP</td>\n",
       "      <td>B-nat</td>\n",
       "    </tr>\n",
       "    <tr>\n",
       "      <th>841023</th>\n",
       "      <td>38444</td>\n",
       "      <td>exposed</td>\n",
       "      <td>VBD</td>\n",
       "      <td>O</td>\n",
       "    </tr>\n",
       "    <tr>\n",
       "      <th>841024</th>\n",
       "      <td>38444</td>\n",
       "      <td>the</td>\n",
       "      <td>DT</td>\n",
       "      <td>O</td>\n",
       "    </tr>\n",
       "    <tr>\n",
       "      <th>841025</th>\n",
       "      <td>38444</td>\n",
       "      <td>fragility</td>\n",
       "      <td>NN</td>\n",
       "      <td>O</td>\n",
       "    </tr>\n",
       "    <tr>\n",
       "      <th>841026</th>\n",
       "      <td>38444</td>\n",
       "      <td>of</td>\n",
       "      <td>IN</td>\n",
       "      <td>O</td>\n",
       "    </tr>\n",
       "    <tr>\n",
       "      <th>841027</th>\n",
       "      <td>38444</td>\n",
       "      <td>the</td>\n",
       "      <td>DT</td>\n",
       "      <td>O</td>\n",
       "    </tr>\n",
       "    <tr>\n",
       "      <th>841028</th>\n",
       "      <td>38444</td>\n",
       "      <td>balance</td>\n",
       "      <td>NN</td>\n",
       "      <td>O</td>\n",
       "    </tr>\n",
       "    <tr>\n",
       "      <th>841029</th>\n",
       "      <td>38444</td>\n",
       "      <td>between</td>\n",
       "      <td>IN</td>\n",
       "      <td>O</td>\n",
       "    </tr>\n",
       "    <tr>\n",
       "      <th>841030</th>\n",
       "      <td>38444</td>\n",
       "      <td>oil</td>\n",
       "      <td>NN</td>\n",
       "      <td>O</td>\n",
       "    </tr>\n",
       "    <tr>\n",
       "      <th>841031</th>\n",
       "      <td>38444</td>\n",
       "      <td>supply</td>\n",
       "      <td>NN</td>\n",
       "      <td>O</td>\n",
       "    </tr>\n",
       "    <tr>\n",
       "      <th>841032</th>\n",
       "      <td>38444</td>\n",
       "      <td>and</td>\n",
       "      <td>CC</td>\n",
       "      <td>O</td>\n",
       "    </tr>\n",
       "    <tr>\n",
       "      <th>841033</th>\n",
       "      <td>38444</td>\n",
       "      <td>demand</td>\n",
       "      <td>NN</td>\n",
       "      <td>O</td>\n",
       "    </tr>\n",
       "    <tr>\n",
       "      <th>841034</th>\n",
       "      <td>38444</td>\n",
       "      <td>in</td>\n",
       "      <td>IN</td>\n",
       "      <td>O</td>\n",
       "    </tr>\n",
       "    <tr>\n",
       "      <th>841035</th>\n",
       "      <td>38444</td>\n",
       "      <td>the</td>\n",
       "      <td>DT</td>\n",
       "      <td>O</td>\n",
       "    </tr>\n",
       "    <tr>\n",
       "      <th>841036</th>\n",
       "      <td>38444</td>\n",
       "      <td>nation</td>\n",
       "      <td>NN</td>\n",
       "      <td>O</td>\n",
       "    </tr>\n",
       "    <tr>\n",
       "      <th>841037</th>\n",
       "      <td>38444</td>\n",
       "      <td>.</td>\n",
       "      <td>.</td>\n",
       "      <td>O</td>\n",
       "    </tr>\n",
       "  </tbody>\n",
       "</table>\n",
       "</div>"
      ],
      "text/plain": [
       "        Sentence #        Word   POS    Tag\n",
       "841008       38444   Following   VBG      O\n",
       "841009       38444           a    DT      O\n",
       "841010       38444    briefing    NN      O\n",
       "841011       38444          by    IN      O\n",
       "841012       38444         the    DT      O\n",
       "841013       38444      Energy   NNP  B-org\n",
       "841014       38444  Department   NNP  I-org\n",
       "841015       38444           ,     ,      O\n",
       "841016       38444         the    DT      O\n",
       "841017       38444   president    NN      O\n",
       "841018       38444        said   VBD      O\n",
       "841019       38444  Hurricanes  NNPS  B-nat\n",
       "841020       38444        Rita   NNP  I-nat\n",
       "841021       38444         and    CC      O\n",
       "841022       38444     Katrina   NNP  B-nat\n",
       "841023       38444     exposed   VBD      O\n",
       "841024       38444         the    DT      O\n",
       "841025       38444   fragility    NN      O\n",
       "841026       38444          of    IN      O\n",
       "841027       38444         the    DT      O\n",
       "841028       38444     balance    NN      O\n",
       "841029       38444     between    IN      O\n",
       "841030       38444         oil    NN      O\n",
       "841031       38444      supply    NN      O\n",
       "841032       38444         and    CC      O\n",
       "841033       38444      demand    NN      O\n",
       "841034       38444          in    IN      O\n",
       "841035       38444         the    DT      O\n",
       "841036       38444      nation    NN      O\n",
       "841037       38444           .     .      O"
      ]
     },
     "execution_count": 9,
     "metadata": {},
     "output_type": "execute_result"
    }
   ],
   "source": [
    "df[df[\"Sentence #\"]==df.loc[841020][\"Sentence #\"]]"
   ]
  },
  {
   "cell_type": "code",
   "execution_count": 10,
   "metadata": {},
   "outputs": [
    {
     "data": {
      "text/plain": [
       "array([[<matplotlib.axes._subplots.AxesSubplot object at 0x000001F9654F4B08>]],\n",
       "      dtype=object)"
      ]
     },
     "execution_count": 10,
     "metadata": {},
     "output_type": "execute_result"
    },
    {
     "data": {
      "text/plain": [
       "Text(0.5, 0, 'Bins of sentence with no of words')"
      ]
     },
     "execution_count": 10,
     "metadata": {},
     "output_type": "execute_result"
    },
    {
     "data": {
      "text/plain": [
       "Text(0, 0.5, 'No of words in sentences')"
      ]
     },
     "execution_count": 10,
     "metadata": {},
     "output_type": "execute_result"
    },
    {
     "data": {
      "image/png": "[encoded data removed]",
      "text/plain": [
       "<Figure size 864x432 with 1 Axes>"
      ]
     },
     "metadata": {
      "needs_background": "light"
     },
     "output_type": "display_data"
    }
   ],
   "source": [
    "# Looking at the number of words in each sentence and plotting in a Histogram to look at the spread.\n",
    "word_counts = df.groupby(\"Sentence #\")[\"Word\"].agg([\"count\"])\n",
    "word_counts = word_counts.rename(columns={\"count\": \"Word count\"})\n",
    "word_counts.hist(bins=100, figsize=(12,6))\n",
    "plt.xlabel(\"Bins of sentence with no of words\")\n",
    "plt.ylabel(\"No of words in sentences\")"
   ]
  },
  {
   "cell_type": "code",
   "execution_count": 11,
   "metadata": {},
   "outputs": [
    {
     "name": "stdout",
     "output_type": "stream",
     "text": [
      "Longest sentence in the corpus contains 104 words.\n"
     ]
    }
   ],
   "source": [
    "MAX_SENTENCE = word_counts.max()[0]\n",
    "MIN_SENTENCE = word_counts.min()[0]\n",
    "print(\"Longest sentence in the corpus contains {} words.\".format(MAX_SENTENCE))"
   ]
  },
  {
   "cell_type": "code",
   "execution_count": 12,
   "metadata": {},
   "outputs": [
    {
     "name": "stdout",
     "output_type": "stream",
     "text": [
      "ID of the longest sentence is 22480.\n",
      "ID of the Shortest sentence is 8412.\n"
     ]
    }
   ],
   "source": [
    "longest_sentence_id = word_counts[word_counts[\"Word count\"]==MAX_SENTENCE].index[0]\n",
    "print(\"ID of the longest sentence is {}.\".format(longest_sentence_id))\n",
    "shortest_sentence_id = word_counts[word_counts[\"Word count\"]==MIN_SENTENCE].index[0]\n",
    "print(\"ID of the Shortest sentence is {}.\".format(shortest_sentence_id))"
   ]
  },
  {
   "cell_type": "code",
   "execution_count": 13,
   "metadata": {},
   "outputs": [
    {
     "name": "stdout",
     "output_type": "stream",
     "text": [
      "Longest Sentence :\n",
      "  Fisheries in 2006 - 7 landed 1,26,976 metric tons , of which 82 % ( 1,04,586 tons ) was krill ( Euphausia superba ) and 9.5 % ( 12,027 tons ) Patagonian toothfish ( Dissostichus eleginoides - also known as Chilean sea bass ) , compared to 1,27,910 tons in 2005 - 6 of which 83 % ( 1,06,591 tons ) was krill and 9.7 % ( 12,396 tons ) Patagonian toothfish ( estimated fishing from the area covered by the Convention of the Conservation of Antarctic Marine Living Resources ( CCAMLR ) , which extends slightly beyond the Southern Ocean area ) .\n",
      "\n",
      "Shortest Sentence :\n",
      "  The\n"
     ]
    }
   ],
   "source": [
    "print(\"Longest Sentence :\\n \", ' '.join(df[df[\"Sentence #\"] == longest_sentence_id][\"Word\"]))\n",
    "print(\"\\nShortest Sentence :\\n \", ' '.join(df[df[\"Sentence #\"] == shortest_sentence_id][\"Word\"]))"
   ]
  },
  {
   "cell_type": "code",
   "execution_count": 14,
   "metadata": {},
   "outputs": [
    {
     "name": "stdout",
     "output_type": "stream",
     "text": [
      "Sentence :  The\n",
      "Sentence :  ...\n",
      "Sentence :  Janice Karpinski\n",
      "Sentence :  Questions ?\n",
      "Sentence :  John Garang\n",
      "Sentence :  Bermet Akayeva\n",
      "Sentence :  Thursday .\n",
      "Sentence :  John Garang\n",
      "Sentence :  Recep Tayyip Erdogan\n",
      "Sentence :  George W. Bush\n",
      "Sentence :  It was .\n",
      "Sentence :  Fifteen dollars .\n",
      "Sentence :  George W. Bush\n",
      "Sentence :  Nina-Maria Potts reports .\n",
      "Sentence :  Nnamdi Moweta reports .\n",
      "Sentence :  He was 76 .\n",
      "Sentence :  Ojedokun , Tuesday .\n",
      "Sentence :  Jim Bertel narrates .\n",
      "Sentence :  The NASA Missions .\n",
      "Sentence :  Christmas was over .\n"
     ]
    }
   ],
   "source": [
    "#Exploring top twenty short sentences\n",
    "for index, row in word_counts.sort_values('Word count', ascending=True).head(20).iterrows():\n",
    "    print(\"Sentence : \", ' '.join(df[df[\"Sentence #\"] == index][\"Word\"]))"
   ]
  },
  {
   "cell_type": "code",
   "execution_count": 15,
   "metadata": {},
   "outputs": [
    {
     "name": "stdout",
     "output_type": "stream",
     "text": [
      "Number of unique words: 35178\n",
      "Number of unique tags : 17\n"
     ]
    }
   ],
   "source": [
    "# Creating a list of all unique words and unique tags\n",
    "all_words = list(set(df[\"Word\"].values))\n",
    "all_tags = list(set(df[\"Tag\"].values))\n",
    "print(\"Number of unique words: {}\".format(len(all_words)))\n",
    "print(\"Number of unique tags : {}\".format(len(all_tags)))"
   ]
  },
  {
   "cell_type": "code",
   "execution_count": 16,
   "metadata": {},
   "outputs": [
    {
     "name": "stdout",
     "output_type": "stream",
     "text": [
      "{'476': 2, 'extraordinarily': 3, 'Faso': 4, 'Yao': 5, '516': 6}\n",
      "{'B-geo': 1, 'B-eve': 2, 'I-org': 3, 'I-art': 4, 'I-gpe': 5}\n"
     ]
    }
   ],
   "source": [
    "# Creating a dictionary of of unique words and assigning a unique index number similarly to NER tags as well \n",
    "word2index = {word: idx + 2 for idx, word in enumerate(all_words)}\n",
    "word2index[\"UNKNOWN_WORD\"]=0\n",
    "word2index[\"PADDING\"]= 1\n",
    "tag2index = {tag: idx + 1 for idx, tag in enumerate(all_tags)}\n",
    "tag2index[\"PADDING\"] = 0\n",
    "print(dict(list(word2index.items())[0:5])) ## Dislaying 5 samples\n",
    "print(dict(list(tag2index.items())[0:5]))"
   ]
  },
  {
   "cell_type": "code",
   "execution_count": 17,
   "metadata": {},
   "outputs": [
    {
     "data": {
      "text/plain": [
       "35180"
      ]
     },
     "execution_count": 17,
     "metadata": {},
     "output_type": "execute_result"
    },
    {
     "data": {
      "text/plain": [
       "18"
      ]
     },
     "execution_count": 17,
     "metadata": {},
     "output_type": "execute_result"
    }
   ],
   "source": [
    "len(word2index)\n",
    "len(tag2index)"
   ]
  },
  {
   "cell_type": "code",
   "execution_count": 18,
   "metadata": {},
   "outputs": [
    {
     "data": {
      "text/html": [
       "<div>\n",
       "<style scoped>\n",
       "    .dataframe tbody tr th:only-of-type {\n",
       "        vertical-align: middle;\n",
       "    }\n",
       "\n",
       "    .dataframe tbody tr th {\n",
       "        vertical-align: top;\n",
       "    }\n",
       "\n",
       "    .dataframe thead th {\n",
       "        text-align: right;\n",
       "    }\n",
       "</style>\n",
       "<table border=\"1\" class=\"dataframe\">\n",
       "  <thead>\n",
       "    <tr style=\"text-align: right;\">\n",
       "      <th></th>\n",
       "      <th>Sentence #</th>\n",
       "      <th>Word</th>\n",
       "      <th>POS</th>\n",
       "      <th>Tag</th>\n",
       "      <th>Word_Index</th>\n",
       "      <th>Tag_index</th>\n",
       "    </tr>\n",
       "  </thead>\n",
       "  <tbody>\n",
       "    <tr>\n",
       "      <th>0</th>\n",
       "      <td>1</td>\n",
       "      <td>Thousands</td>\n",
       "      <td>NNS</td>\n",
       "      <td>O</td>\n",
       "      <td>192</td>\n",
       "      <td>9</td>\n",
       "    </tr>\n",
       "    <tr>\n",
       "      <th>1</th>\n",
       "      <td>1</td>\n",
       "      <td>of</td>\n",
       "      <td>IN</td>\n",
       "      <td>O</td>\n",
       "      <td>4336</td>\n",
       "      <td>9</td>\n",
       "    </tr>\n",
       "    <tr>\n",
       "      <th>2</th>\n",
       "      <td>1</td>\n",
       "      <td>demonstrators</td>\n",
       "      <td>NNS</td>\n",
       "      <td>O</td>\n",
       "      <td>27759</td>\n",
       "      <td>9</td>\n",
       "    </tr>\n",
       "    <tr>\n",
       "      <th>3</th>\n",
       "      <td>1</td>\n",
       "      <td>have</td>\n",
       "      <td>VBP</td>\n",
       "      <td>O</td>\n",
       "      <td>21138</td>\n",
       "      <td>9</td>\n",
       "    </tr>\n",
       "    <tr>\n",
       "      <th>4</th>\n",
       "      <td>1</td>\n",
       "      <td>marched</td>\n",
       "      <td>VBN</td>\n",
       "      <td>O</td>\n",
       "      <td>3257</td>\n",
       "      <td>9</td>\n",
       "    </tr>\n",
       "  </tbody>\n",
       "</table>\n",
       "</div>"
      ],
      "text/plain": [
       "   Sentence #           Word  POS Tag  Word_Index  Tag_index\n",
       "0           1      Thousands  NNS   O         192          9\n",
       "1           1             of   IN   O        4336          9\n",
       "2           1  demonstrators  NNS   O       27759          9\n",
       "3           1           have  VBP   O       21138          9\n",
       "4           1        marched  VBN   O        3257          9"
      ]
     },
     "execution_count": 18,
     "metadata": {},
     "output_type": "execute_result"
    }
   ],
   "source": [
    "#Creating a colum with unique indexes for words and NER tags\n",
    "df['Word_Index'] = df['Word'].map(word2index)\n",
    "df['Tag_index'] = df['Tag'].map(tag2index) \n",
    "df.head()"
   ]
  },
  {
   "cell_type": "code",
   "execution_count": 19,
   "metadata": {},
   "outputs": [
    {
     "name": "stderr",
     "output_type": "stream",
     "text": [
      "C:\\Users\\mr081025\\Anaconda3\\lib\\site-packages\\ipykernel_launcher.py:2: FutureWarning: Indexing with multiple keys (implicitly converted to a tuple of keys) will be deprecated, use a list instead.\n",
      "  \n"
     ]
    },
    {
     "name": "stdout",
     "output_type": "stream",
     "text": [
      "Wall time: 1min 2s\n"
     ]
    },
    {
     "data": {
      "text/html": [
       "<div>\n",
       "<style scoped>\n",
       "    .dataframe tbody tr th:only-of-type {\n",
       "        vertical-align: middle;\n",
       "    }\n",
       "\n",
       "    .dataframe tbody tr th {\n",
       "        vertical-align: top;\n",
       "    }\n",
       "\n",
       "    .dataframe thead th {\n",
       "        text-align: right;\n",
       "    }\n",
       "</style>\n",
       "<table border=\"1\" class=\"dataframe\">\n",
       "  <thead>\n",
       "    <tr style=\"text-align: right;\">\n",
       "      <th></th>\n",
       "      <th>Sentence #</th>\n",
       "      <th>Word</th>\n",
       "      <th>POS</th>\n",
       "      <th>Tag</th>\n",
       "      <th>Word_Index</th>\n",
       "      <th>Tag_index</th>\n",
       "    </tr>\n",
       "  </thead>\n",
       "  <tbody>\n",
       "    <tr>\n",
       "      <th>0</th>\n",
       "      <td>1</td>\n",
       "      <td>[Thousands, of, demonstrators, have, marched, ...</td>\n",
       "      <td>[NNS, IN, NNS, VBP, VBN, IN, NNP, TO, VB, DT, ...</td>\n",
       "      <td>[O, O, O, O, O, O, B-geo, O, O, O, O, O, B-geo...</td>\n",
       "      <td>[192, 4336, 27759, 21138, 3257, 18451, 1119, 2...</td>\n",
       "      <td>[9, 9, 9, 9, 9, 9, 1, 9, 9, 9, 9, 9, 1, 9, 9, ...</td>\n",
       "    </tr>\n",
       "    <tr>\n",
       "      <th>1</th>\n",
       "      <td>2</td>\n",
       "      <td>[Families, of, soldiers, killed, in, the, conf...</td>\n",
       "      <td>[NNS, IN, NNS, VBN, IN, DT, NN, VBD, DT, NNS, ...</td>\n",
       "      <td>[O, O, O, O, O, O, O, O, O, O, O, O, O, O, O, ...</td>\n",
       "      <td>[15407, 4336, 27216, 6633, 20547, 8235, 10784,...</td>\n",
       "      <td>[9, 9, 9, 9, 9, 9, 9, 9, 9, 9, 9, 9, 9, 9, 9, ...</td>\n",
       "    </tr>\n",
       "    <tr>\n",
       "      <th>2</th>\n",
       "      <td>3</td>\n",
       "      <td>[They, marched, from, the, Houses, of, Parliam...</td>\n",
       "      <td>[PRP, VBD, IN, DT, NNS, IN, NN, TO, DT, NN, IN...</td>\n",
       "      <td>[O, O, O, O, O, O, O, O, O, O, O, B-geo, I-geo...</td>\n",
       "      <td>[25213, 3257, 14414, 8235, 34357, 4336, 22651,...</td>\n",
       "      <td>[9, 9, 9, 9, 9, 9, 9, 9, 9, 9, 9, 1, 8, 9]</td>\n",
       "    </tr>\n",
       "    <tr>\n",
       "      <th>3</th>\n",
       "      <td>4</td>\n",
       "      <td>[Police, put, the, number, of, marchers, at, 1...</td>\n",
       "      <td>[NNS, VBD, DT, NN, IN, NNS, IN, CD, IN, NNS, V...</td>\n",
       "      <td>[O, O, O, O, O, O, O, O, O, O, O, O, O, O, O]</td>\n",
       "      <td>[3226, 26397, 8235, 30948, 4336, 34033, 11987,...</td>\n",
       "      <td>[9, 9, 9, 9, 9, 9, 9, 9, 9, 9, 9, 9, 9, 9, 9]</td>\n",
       "    </tr>\n",
       "    <tr>\n",
       "      <th>4</th>\n",
       "      <td>5</td>\n",
       "      <td>[The, protest, comes, on, the, eve, of, the, a...</td>\n",
       "      <td>[DT, NN, VBZ, IN, DT, NN, IN, DT, JJ, NN, IN, ...</td>\n",
       "      <td>[O, O, O, O, O, O, O, O, O, O, O, B-geo, O, O,...</td>\n",
       "      <td>[7125, 9548, 28792, 28119, 8235, 12662, 4336, ...</td>\n",
       "      <td>[9, 9, 9, 9, 9, 9, 9, 9, 9, 9, 9, 1, 9, 9, 13,...</td>\n",
       "    </tr>\n",
       "  </tbody>\n",
       "</table>\n",
       "</div>"
      ],
      "text/plain": [
       "   Sentence #                                               Word  \\\n",
       "0           1  [Thousands, of, demonstrators, have, marched, ...   \n",
       "1           2  [Families, of, soldiers, killed, in, the, conf...   \n",
       "2           3  [They, marched, from, the, Houses, of, Parliam...   \n",
       "3           4  [Police, put, the, number, of, marchers, at, 1...   \n",
       "4           5  [The, protest, comes, on, the, eve, of, the, a...   \n",
       "\n",
       "                                                 POS  \\\n",
       "0  [NNS, IN, NNS, VBP, VBN, IN, NNP, TO, VB, DT, ...   \n",
       "1  [NNS, IN, NNS, VBN, IN, DT, NN, VBD, DT, NNS, ...   \n",
       "2  [PRP, VBD, IN, DT, NNS, IN, NN, TO, DT, NN, IN...   \n",
       "3  [NNS, VBD, DT, NN, IN, NNS, IN, CD, IN, NNS, V...   \n",
       "4  [DT, NN, VBZ, IN, DT, NN, IN, DT, JJ, NN, IN, ...   \n",
       "\n",
       "                                                 Tag  \\\n",
       "0  [O, O, O, O, O, O, B-geo, O, O, O, O, O, B-geo...   \n",
       "1  [O, O, O, O, O, O, O, O, O, O, O, O, O, O, O, ...   \n",
       "2  [O, O, O, O, O, O, O, O, O, O, O, B-geo, I-geo...   \n",
       "3      [O, O, O, O, O, O, O, O, O, O, O, O, O, O, O]   \n",
       "4  [O, O, O, O, O, O, O, O, O, O, O, B-geo, O, O,...   \n",
       "\n",
       "                                          Word_Index  \\\n",
       "0  [192, 4336, 27759, 21138, 3257, 18451, 1119, 2...   \n",
       "1  [15407, 4336, 27216, 6633, 20547, 8235, 10784,...   \n",
       "2  [25213, 3257, 14414, 8235, 34357, 4336, 22651,...   \n",
       "3  [3226, 26397, 8235, 30948, 4336, 34033, 11987,...   \n",
       "4  [7125, 9548, 28792, 28119, 8235, 12662, 4336, ...   \n",
       "\n",
       "                                           Tag_index  \n",
       "0  [9, 9, 9, 9, 9, 9, 1, 9, 9, 9, 9, 9, 1, 9, 9, ...  \n",
       "1  [9, 9, 9, 9, 9, 9, 9, 9, 9, 9, 9, 9, 9, 9, 9, ...  \n",
       "2         [9, 9, 9, 9, 9, 9, 9, 9, 9, 9, 9, 1, 8, 9]  \n",
       "3      [9, 9, 9, 9, 9, 9, 9, 9, 9, 9, 9, 9, 9, 9, 9]  \n",
       "4  [9, 9, 9, 9, 9, 9, 9, 9, 9, 9, 9, 1, 9, 9, 13,...  "
      ]
     },
     "execution_count": 19,
     "metadata": {},
     "output_type": "execute_result"
    }
   ],
   "source": [
    "%%time\n",
    "#Creating a Shorter df dataframe\n",
    "grouped_df = df.groupby(['Sentence #'],as_index=False)['Word', 'POS', 'Tag', 'Word_Index', 'Tag_index'].agg(lambda x: list(x))\n",
    "grouped_df.head()"
   ]
  },
  {
   "cell_type": "code",
   "execution_count": 20,
   "metadata": {},
   "outputs": [
    {
     "data": {
      "text/plain": [
       "(47959, 6)"
      ]
     },
     "execution_count": 20,
     "metadata": {},
     "output_type": "execute_result"
    }
   ],
   "source": [
    "#Number of sentences in the dataset\n",
    "grouped_df.shape"
   ]
  },
  {
   "cell_type": "code",
   "execution_count": 21,
   "metadata": {},
   "outputs": [
    {
     "name": "stdout",
     "output_type": "stream",
     "text": [
      "The percentage of sentences which has more than 40 words is :  1.61 %\n"
     ]
    }
   ],
   "source": [
    "# Looking at the percentage of sentence which as more than 40 words\n",
    "print(\"The percentage of sentences which has more than 40 words is : \", round(word_counts[word_counts[\"Word count\"] > 40].shape[0] / len(word_counts[\"Word count\"]) * 100, 2),\"%\")"
   ]
  },
  {
   "cell_type": "code",
   "execution_count": 22,
   "metadata": {},
   "outputs": [],
   "source": [
    "#Padding the sentence for only 40 max length for each sentence for NLP modeling\n",
    "grouped_df[\"Padded_Word_Index\"] = grouped_df[\"Word_Index\"].apply(lambda x: x + [word2index[\"PADDING\"]] * (40 - len(x)) if (len(x) <=40) else x[:40])\n",
    "grouped_df[\"Padded_Tag_Index\"] = grouped_df[\"Tag_index\"].apply(lambda x: x + [tag2index[\"PADDING\"]] * (40 - len(x)) if (len(x) <=40) else x[:40])"
   ]
  },
  {
   "cell_type": "code",
   "execution_count": 23,
   "metadata": {},
   "outputs": [
    {
     "data": {
      "text/html": [
       "<div>\n",
       "<style scoped>\n",
       "    .dataframe tbody tr th:only-of-type {\n",
       "        vertical-align: middle;\n",
       "    }\n",
       "\n",
       "    .dataframe tbody tr th {\n",
       "        vertical-align: top;\n",
       "    }\n",
       "\n",
       "    .dataframe thead th {\n",
       "        text-align: right;\n",
       "    }\n",
       "</style>\n",
       "<table border=\"1\" class=\"dataframe\">\n",
       "  <thead>\n",
       "    <tr style=\"text-align: right;\">\n",
       "      <th></th>\n",
       "      <th>Sentence #</th>\n",
       "      <th>Word</th>\n",
       "      <th>POS</th>\n",
       "      <th>Tag</th>\n",
       "      <th>Word_Index</th>\n",
       "      <th>Tag_index</th>\n",
       "      <th>Padded_Word_Index</th>\n",
       "      <th>Padded_Tag_Index</th>\n",
       "    </tr>\n",
       "  </thead>\n",
       "  <tbody>\n",
       "    <tr>\n",
       "      <th>0</th>\n",
       "      <td>1</td>\n",
       "      <td>[Thousands, of, demonstrators, have, marched, ...</td>\n",
       "      <td>[NNS, IN, NNS, VBP, VBN, IN, NNP, TO, VB, DT, ...</td>\n",
       "      <td>[O, O, O, O, O, O, B-geo, O, O, O, O, O, B-geo...</td>\n",
       "      <td>[192, 4336, 27759, 21138, 3257, 18451, 1119, 2...</td>\n",
       "      <td>[9, 9, 9, 9, 9, 9, 1, 9, 9, 9, 9, 9, 1, 9, 9, ...</td>\n",
       "      <td>[192, 4336, 27759, 21138, 3257, 18451, 1119, 2...</td>\n",
       "      <td>[9, 9, 9, 9, 9, 9, 1, 9, 9, 9, 9, 9, 1, 9, 9, ...</td>\n",
       "    </tr>\n",
       "    <tr>\n",
       "      <th>1</th>\n",
       "      <td>2</td>\n",
       "      <td>[Families, of, soldiers, killed, in, the, conf...</td>\n",
       "      <td>[NNS, IN, NNS, VBN, IN, DT, NN, VBD, DT, NNS, ...</td>\n",
       "      <td>[O, O, O, O, O, O, O, O, O, O, O, O, O, O, O, ...</td>\n",
       "      <td>[15407, 4336, 27216, 6633, 20547, 8235, 10784,...</td>\n",
       "      <td>[9, 9, 9, 9, 9, 9, 9, 9, 9, 9, 9, 9, 9, 9, 9, ...</td>\n",
       "      <td>[15407, 4336, 27216, 6633, 20547, 8235, 10784,...</td>\n",
       "      <td>[9, 9, 9, 9, 9, 9, 9, 9, 9, 9, 9, 9, 9, 9, 9, ...</td>\n",
       "    </tr>\n",
       "    <tr>\n",
       "      <th>2</th>\n",
       "      <td>3</td>\n",
       "      <td>[They, marched, from, the, Houses, of, Parliam...</td>\n",
       "      <td>[PRP, VBD, IN, DT, NNS, IN, NN, TO, DT, NN, IN...</td>\n",
       "      <td>[O, O, O, O, O, O, O, O, O, O, O, B-geo, I-geo...</td>\n",
       "      <td>[25213, 3257, 14414, 8235, 34357, 4336, 22651,...</td>\n",
       "      <td>[9, 9, 9, 9, 9, 9, 9, 9, 9, 9, 9, 1, 8, 9]</td>\n",
       "      <td>[25213, 3257, 14414, 8235, 34357, 4336, 22651,...</td>\n",
       "      <td>[9, 9, 9, 9, 9, 9, 9, 9, 9, 9, 9, 1, 8, 9, 0, ...</td>\n",
       "    </tr>\n",
       "    <tr>\n",
       "      <th>3</th>\n",
       "      <td>4</td>\n",
       "      <td>[Police, put, the, number, of, marchers, at, 1...</td>\n",
       "      <td>[NNS, VBD, DT, NN, IN, NNS, IN, CD, IN, NNS, V...</td>\n",
       "      <td>[O, O, O, O, O, O, O, O, O, O, O, O, O, O, O]</td>\n",
       "      <td>[3226, 26397, 8235, 30948, 4336, 34033, 11987,...</td>\n",
       "      <td>[9, 9, 9, 9, 9, 9, 9, 9, 9, 9, 9, 9, 9, 9, 9]</td>\n",
       "      <td>[3226, 26397, 8235, 30948, 4336, 34033, 11987,...</td>\n",
       "      <td>[9, 9, 9, 9, 9, 9, 9, 9, 9, 9, 9, 9, 9, 9, 9, ...</td>\n",
       "    </tr>\n",
       "    <tr>\n",
       "      <th>4</th>\n",
       "      <td>5</td>\n",
       "      <td>[The, protest, comes, on, the, eve, of, the, a...</td>\n",
       "      <td>[DT, NN, VBZ, IN, DT, NN, IN, DT, JJ, NN, IN, ...</td>\n",
       "      <td>[O, O, O, O, O, O, O, O, O, O, O, B-geo, O, O,...</td>\n",
       "      <td>[7125, 9548, 28792, 28119, 8235, 12662, 4336, ...</td>\n",
       "      <td>[9, 9, 9, 9, 9, 9, 9, 9, 9, 9, 9, 1, 9, 9, 13,...</td>\n",
       "      <td>[7125, 9548, 28792, 28119, 8235, 12662, 4336, ...</td>\n",
       "      <td>[9, 9, 9, 9, 9, 9, 9, 9, 9, 9, 9, 1, 9, 9, 13,...</td>\n",
       "    </tr>\n",
       "  </tbody>\n",
       "</table>\n",
       "</div>"
      ],
      "text/plain": [
       "   Sentence #                                               Word  \\\n",
       "0           1  [Thousands, of, demonstrators, have, marched, ...   \n",
       "1           2  [Families, of, soldiers, killed, in, the, conf...   \n",
       "2           3  [They, marched, from, the, Houses, of, Parliam...   \n",
       "3           4  [Police, put, the, number, of, marchers, at, 1...   \n",
       "4           5  [The, protest, comes, on, the, eve, of, the, a...   \n",
       "\n",
       "                                                 POS  \\\n",
       "0  [NNS, IN, NNS, VBP, VBN, IN, NNP, TO, VB, DT, ...   \n",
       "1  [NNS, IN, NNS, VBN, IN, DT, NN, VBD, DT, NNS, ...   \n",
       "2  [PRP, VBD, IN, DT, NNS, IN, NN, TO, DT, NN, IN...   \n",
       "3  [NNS, VBD, DT, NN, IN, NNS, IN, CD, IN, NNS, V...   \n",
       "4  [DT, NN, VBZ, IN, DT, NN, IN, DT, JJ, NN, IN, ...   \n",
       "\n",
       "                                                 Tag  \\\n",
       "0  [O, O, O, O, O, O, B-geo, O, O, O, O, O, B-geo...   \n",
       "1  [O, O, O, O, O, O, O, O, O, O, O, O, O, O, O, ...   \n",
       "2  [O, O, O, O, O, O, O, O, O, O, O, B-geo, I-geo...   \n",
       "3      [O, O, O, O, O, O, O, O, O, O, O, O, O, O, O]   \n",
       "4  [O, O, O, O, O, O, O, O, O, O, O, B-geo, O, O,...   \n",
       "\n",
       "                                          Word_Index  \\\n",
       "0  [192, 4336, 27759, 21138, 3257, 18451, 1119, 2...   \n",
       "1  [15407, 4336, 27216, 6633, 20547, 8235, 10784,...   \n",
       "2  [25213, 3257, 14414, 8235, 34357, 4336, 22651,...   \n",
       "3  [3226, 26397, 8235, 30948, 4336, 34033, 11987,...   \n",
       "4  [7125, 9548, 28792, 28119, 8235, 12662, 4336, ...   \n",
       "\n",
       "                                           Tag_index  \\\n",
       "0  [9, 9, 9, 9, 9, 9, 1, 9, 9, 9, 9, 9, 1, 9, 9, ...   \n",
       "1  [9, 9, 9, 9, 9, 9, 9, 9, 9, 9, 9, 9, 9, 9, 9, ...   \n",
       "2         [9, 9, 9, 9, 9, 9, 9, 9, 9, 9, 9, 1, 8, 9]   \n",
       "3      [9, 9, 9, 9, 9, 9, 9, 9, 9, 9, 9, 9, 9, 9, 9]   \n",
       "4  [9, 9, 9, 9, 9, 9, 9, 9, 9, 9, 9, 1, 9, 9, 13,...   \n",
       "\n",
       "                                   Padded_Word_Index  \\\n",
       "0  [192, 4336, 27759, 21138, 3257, 18451, 1119, 2...   \n",
       "1  [15407, 4336, 27216, 6633, 20547, 8235, 10784,...   \n",
       "2  [25213, 3257, 14414, 8235, 34357, 4336, 22651,...   \n",
       "3  [3226, 26397, 8235, 30948, 4336, 34033, 11987,...   \n",
       "4  [7125, 9548, 28792, 28119, 8235, 12662, 4336, ...   \n",
       "\n",
       "                                    Padded_Tag_Index  \n",
       "0  [9, 9, 9, 9, 9, 9, 1, 9, 9, 9, 9, 9, 1, 9, 9, ...  \n",
       "1  [9, 9, 9, 9, 9, 9, 9, 9, 9, 9, 9, 9, 9, 9, 9, ...  \n",
       "2  [9, 9, 9, 9, 9, 9, 9, 9, 9, 9, 9, 1, 8, 9, 0, ...  \n",
       "3  [9, 9, 9, 9, 9, 9, 9, 9, 9, 9, 9, 9, 9, 9, 9, ...  \n",
       "4  [9, 9, 9, 9, 9, 9, 9, 9, 9, 9, 9, 1, 9, 9, 13,...  "
      ]
     },
     "execution_count": 23,
     "metadata": {},
     "output_type": "execute_result"
    }
   ],
   "source": [
    "grouped_df.head()"
   ]
  },
  {
   "cell_type": "code",
   "execution_count": 24,
   "metadata": {
    "scrolled": true
   },
   "outputs": [
    {
     "name": "stdout",
     "output_type": "stream",
     "text": [
      "['Thousands', 'of', 'demonstrators', 'have', 'marched', 'through', 'London', 'to', 'protest', 'the', 'war', 'in', 'Iraq', 'and', 'demand', 'the', 'withdrawal', 'of', 'British', 'troops', 'from', 'that', 'country', '.']\n",
      "['O', 'O', 'O', 'O', 'O', 'O', 'B-geo', 'O', 'O', 'O', 'O', 'O', 'B-geo', 'O', 'O', 'O', 'O', 'O', 'B-gpe', 'O', 'O', 'O', 'O', 'O']\n",
      "[192, 4336, 27759, 21138, 3257, 18451, 1119, 25156, 9548, 8235, 32980, 20547, 3471, 18585, 8717, 8235, 22042, 4336, 13671, 34509, 14414, 26653, 27408, 21542]\n",
      "24\n",
      "[9, 9, 9, 9, 9, 9, 1, 9, 9, 9, 9, 9, 1, 9, 9, 9, 9, 9, 12, 9, 9, 9, 9, 9]\n",
      "24\n",
      "[192, 4336, 27759, 21138, 3257, 18451, 1119, 25156, 9548, 8235, 32980, 20547, 3471, 18585, 8717, 8235, 22042, 4336, 13671, 34509, 14414, 26653, 27408, 21542, 1, 1, 1, 1, 1, 1, 1, 1, 1, 1, 1, 1, 1, 1, 1, 1]\n",
      "40\n",
      "[9, 9, 9, 9, 9, 9, 1, 9, 9, 9, 9, 9, 1, 9, 9, 9, 9, 9, 12, 9, 9, 9, 9, 9, 0, 0, 0, 0, 0, 0, 0, 0, 0, 0, 0, 0, 0, 0, 0, 0]\n",
      "40\n"
     ]
    }
   ],
   "source": [
    "# Looking at the first sentence to double check if the words, tags are saved and padded properly.\n",
    "print(grouped_df.iloc[0,1])\n",
    "print(grouped_df.iloc[0,3])\n",
    "print(grouped_df.iloc[0,4])\n",
    "print(len(grouped_df.iloc[0,4]))\n",
    "print(grouped_df.iloc[0,5])\n",
    "print(len(grouped_df.iloc[0,5]))\n",
    "print(grouped_df.iloc[0,6])\n",
    "print(len(grouped_df.iloc[0,6]))\n",
    "print(grouped_df.iloc[0,7])\n",
    "print(len(grouped_df.iloc[0,7]))"
   ]
  },
  {
   "cell_type": "code",
   "execution_count": 25,
   "metadata": {},
   "outputs": [],
   "source": [
    "# Saving this df for different model training\n",
    "grouped_df.to_csv(\"Ner_ModelReady_data.csv\", index=False)"
   ]
  },
  {
   "cell_type": "code",
   "execution_count": 26,
   "metadata": {},
   "outputs": [],
   "source": [
    "#Saving the Word2Index as Json file\n",
    "import json\n",
    "\n",
    "with open('word2index.json', 'w') as fp:\n",
    "    json.dump(word2index, fp)\n",
    "\n",
    "with open('tag2index.json', 'w') as fp:\n",
    "    json.dump(tag2index, fp)"
   ]
  },
  {
   "cell_type": "markdown",
   "metadata": {},
   "source": [
    "##  ------BiLSTM - Model--------"
   ]
  },
  {
   "cell_type": "code",
   "execution_count": 27,
   "metadata": {},
   "outputs": [],
   "source": [
    "#Converting the input and target values into list of list.\n",
    "X = [i for i in grouped_df[\"Padded_Word_Index\"]]\n",
    "y = [i for i in grouped_df[\"Padded_Tag_Index\"]]"
   ]
  },
  {
   "cell_type": "code",
   "execution_count": 28,
   "metadata": {},
   "outputs": [],
   "source": [
    "# One hot encoding the target variable as each word has 18 different possibilities\n",
    "from tensorflow.keras.utils import to_categorical \n",
    "y = [to_categorical(i, num_classes=len(tag2index)) for i in y]"
   ]
  },
  {
   "cell_type": "code",
   "execution_count": 29,
   "metadata": {},
   "outputs": [
    {
     "name": "stdout",
     "output_type": "stream",
     "text": [
      "192\t[0. 0. 0. 0. 0. 0. 0. 0. 0. 1. 0. 0. 0. 0. 0. 0. 0. 0.]\n",
      "4336\t[0. 0. 0. 0. 0. 0. 0. 0. 0. 1. 0. 0. 0. 0. 0. 0. 0. 0.]\n",
      "27759\t[0. 0. 0. 0. 0. 0. 0. 0. 0. 1. 0. 0. 0. 0. 0. 0. 0. 0.]\n",
      "21138\t[0. 0. 0. 0. 0. 0. 0. 0. 0. 1. 0. 0. 0. 0. 0. 0. 0. 0.]\n",
      "3257\t[0. 0. 0. 0. 0. 0. 0. 0. 0. 1. 0. 0. 0. 0. 0. 0. 0. 0.]\n",
      "18451\t[0. 0. 0. 0. 0. 0. 0. 0. 0. 1. 0. 0. 0. 0. 0. 0. 0. 0.]\n",
      "1119\t[0. 1. 0. 0. 0. 0. 0. 0. 0. 0. 0. 0. 0. 0. 0. 0. 0. 0.]\n",
      "25156\t[0. 0. 0. 0. 0. 0. 0. 0. 0. 1. 0. 0. 0. 0. 0. 0. 0. 0.]\n",
      "9548\t[0. 0. 0. 0. 0. 0. 0. 0. 0. 1. 0. 0. 0. 0. 0. 0. 0. 0.]\n",
      "8235\t[0. 0. 0. 0. 0. 0. 0. 0. 0. 1. 0. 0. 0. 0. 0. 0. 0. 0.]\n",
      "32980\t[0. 0. 0. 0. 0. 0. 0. 0. 0. 1. 0. 0. 0. 0. 0. 0. 0. 0.]\n",
      "20547\t[0. 0. 0. 0. 0. 0. 0. 0. 0. 1. 0. 0. 0. 0. 0. 0. 0. 0.]\n",
      "3471\t[0. 1. 0. 0. 0. 0. 0. 0. 0. 0. 0. 0. 0. 0. 0. 0. 0. 0.]\n",
      "18585\t[0. 0. 0. 0. 0. 0. 0. 0. 0. 1. 0. 0. 0. 0. 0. 0. 0. 0.]\n",
      "8717\t[0. 0. 0. 0. 0. 0. 0. 0. 0. 1. 0. 0. 0. 0. 0. 0. 0. 0.]\n",
      "8235\t[0. 0. 0. 0. 0. 0. 0. 0. 0. 1. 0. 0. 0. 0. 0. 0. 0. 0.]\n",
      "22042\t[0. 0. 0. 0. 0. 0. 0. 0. 0. 1. 0. 0. 0. 0. 0. 0. 0. 0.]\n",
      "4336\t[0. 0. 0. 0. 0. 0. 0. 0. 0. 1. 0. 0. 0. 0. 0. 0. 0. 0.]\n",
      "13671\t[0. 0. 0. 0. 0. 0. 0. 0. 0. 0. 0. 0. 1. 0. 0. 0. 0. 0.]\n",
      "34509\t[0. 0. 0. 0. 0. 0. 0. 0. 0. 1. 0. 0. 0. 0. 0. 0. 0. 0.]\n",
      "14414\t[0. 0. 0. 0. 0. 0. 0. 0. 0. 1. 0. 0. 0. 0. 0. 0. 0. 0.]\n",
      "26653\t[0. 0. 0. 0. 0. 0. 0. 0. 0. 1. 0. 0. 0. 0. 0. 0. 0. 0.]\n",
      "27408\t[0. 0. 0. 0. 0. 0. 0. 0. 0. 1. 0. 0. 0. 0. 0. 0. 0. 0.]\n",
      "21542\t[0. 0. 0. 0. 0. 0. 0. 0. 0. 1. 0. 0. 0. 0. 0. 0. 0. 0.]\n",
      "1\t[1. 0. 0. 0. 0. 0. 0. 0. 0. 0. 0. 0. 0. 0. 0. 0. 0. 0.]\n",
      "1\t[1. 0. 0. 0. 0. 0. 0. 0. 0. 0. 0. 0. 0. 0. 0. 0. 0. 0.]\n",
      "1\t[1. 0. 0. 0. 0. 0. 0. 0. 0. 0. 0. 0. 0. 0. 0. 0. 0. 0.]\n",
      "1\t[1. 0. 0. 0. 0. 0. 0. 0. 0. 0. 0. 0. 0. 0. 0. 0. 0. 0.]\n",
      "1\t[1. 0. 0. 0. 0. 0. 0. 0. 0. 0. 0. 0. 0. 0. 0. 0. 0. 0.]\n",
      "1\t[1. 0. 0. 0. 0. 0. 0. 0. 0. 0. 0. 0. 0. 0. 0. 0. 0. 0.]\n",
      "1\t[1. 0. 0. 0. 0. 0. 0. 0. 0. 0. 0. 0. 0. 0. 0. 0. 0. 0.]\n",
      "1\t[1. 0. 0. 0. 0. 0. 0. 0. 0. 0. 0. 0. 0. 0. 0. 0. 0. 0.]\n",
      "1\t[1. 0. 0. 0. 0. 0. 0. 0. 0. 0. 0. 0. 0. 0. 0. 0. 0. 0.]\n",
      "1\t[1. 0. 0. 0. 0. 0. 0. 0. 0. 0. 0. 0. 0. 0. 0. 0. 0. 0.]\n",
      "1\t[1. 0. 0. 0. 0. 0. 0. 0. 0. 0. 0. 0. 0. 0. 0. 0. 0. 0.]\n",
      "1\t[1. 0. 0. 0. 0. 0. 0. 0. 0. 0. 0. 0. 0. 0. 0. 0. 0. 0.]\n",
      "1\t[1. 0. 0. 0. 0. 0. 0. 0. 0. 0. 0. 0. 0. 0. 0. 0. 0. 0.]\n",
      "1\t[1. 0. 0. 0. 0. 0. 0. 0. 0. 0. 0. 0. 0. 0. 0. 0. 0. 0.]\n",
      "1\t[1. 0. 0. 0. 0. 0. 0. 0. 0. 0. 0. 0. 0. 0. 0. 0. 0. 0.]\n",
      "1\t[1. 0. 0. 0. 0. 0. 0. 0. 0. 0. 0. 0. 0. 0. 0. 0. 0. 0.]\n"
     ]
    }
   ],
   "source": [
    "# Looking at the first index for the tags.\n",
    "for token, tag in zip(X[0], y[0]):\n",
    "    print('%s\\t%s' % (token, tag))"
   ]
  },
  {
   "cell_type": "code",
   "execution_count": 30,
   "metadata": {},
   "outputs": [],
   "source": [
    "#Spliting the data to train test split using 80:20 ratio\n",
    "from sklearn.model_selection import train_test_split\n",
    "X_train, X_test, y_train, y_test = train_test_split(X, y, test_size=0.2, random_state=123)"
   ]
  },
  {
   "cell_type": "code",
   "execution_count": 31,
   "metadata": {},
   "outputs": [],
   "source": [
    "#conveting the data into array to feed data into model\n",
    "X_train = np.array(X_train)\n",
    "X_test = np.array(X_test)\n",
    "y_train = np.array(y_train)\n",
    "y_test = np.array(y_test)"
   ]
  },
  {
   "cell_type": "code",
   "execution_count": 32,
   "metadata": {},
   "outputs": [],
   "source": [
    "#Importing Model dependencies from tensorflow\n",
    "from tensorflow.keras import Model, Input, Sequential\n",
    "from tensorflow.keras.layers import LSTM, Embedding, Dense\n",
    "from tensorflow.keras.layers import TimeDistributed, SpatialDropout1D, Bidirectional"
   ]
  },
  {
   "cell_type": "code",
   "execution_count": 33,
   "metadata": {},
   "outputs": [],
   "source": [
    "#Specifying fixed hyper parameters\n",
    "sentence_length = 40 # Number of words in a sentne ce passed as input to the model\n",
    "total_unique_words = len(word2index)"
   ]
  },
  {
   "cell_type": "code",
   "execution_count": 36,
   "metadata": {},
   "outputs": [
    {
     "name": "stdout",
     "output_type": "stream",
     "text": [
      "Search space summary\n",
      "Default search space size: 3\n",
      "out_dim (Int)\n",
      "{'default': None, 'conditions': [], 'min_value': 20, 'max_value': 60, 'step': 20, 'sampling': None}\n",
      "units (Int)\n",
      "{'default': None, 'conditions': [], 'min_value': 50, 'max_value': 100, 'step': 25, 'sampling': None}\n",
      "learning_rate (Choice)\n",
      "{'default': 0.01, 'conditions': [], 'values': [0.01, 0.001, 0.0001], 'ordered': True}\n"
     ]
    }
   ],
   "source": [
    "from kerastuner.tuners import RandomSearch\n",
    "import kerastuner\n",
    "from tensorflow.keras.optimizers import Adam\n",
    "import tensorflow\n",
    "\n",
    "\n",
    "def build_model(hp):\n",
    "    model = Sequential()\n",
    "    hp_units = hp.Int('out_dim', min_value=20, max_value=60, step=20)\n",
    "    model.add(Embedding(input_dim=total_unique_words, output_dim=hp_units ,input_length=sentence_length))\n",
    "    model.add(SpatialDropout1D(0.1))\n",
    "    \n",
    "    hp_units = hp.Int('units', min_value=50, max_value=100, step=25)\n",
    "    model.add(Bidirectional(LSTM(units=hp_units, return_sequences=True, recurrent_dropout=0.1)))\n",
    "    \n",
    "    model.add(TimeDistributed(Dense(18, activation='softmax')))\n",
    "    \n",
    "    hp_learning_rate = hp.Choice('learning_rate', values=[1e-2, 1e-3, 1e-4])\n",
    "    model.compile(optimizer=Adam(learning_rate=hp_learning_rate), loss='categorical_crossentropy', metrics=['accuracy'])\n",
    "    return model\n",
    "\n",
    "tuner = RandomSearch(\n",
    "    build_model,\n",
    "    objective=kerastuner.Objective('val_loss', direction=\"min\"),\n",
    "    max_trials=10,\n",
    "    executions_per_trial=1,\n",
    "    directory='BiLSTM_First',\n",
    "    project_name='BiLSTM_asis')\n",
    "\n",
    "tuner.search_space_summary()"
   ]
  },
  {
   "cell_type": "code",
   "execution_count": 37,
   "metadata": {},
   "outputs": [
    {
     "name": "stdout",
     "output_type": "stream",
     "text": [
      "Trial 10 Complete [00h 08m 03s]\n",
      "val_loss: 0.05539344996213913\n",
      "\n",
      "Best val_loss So Far: 0.05539344996213913\n",
      "Total elapsed time: 01h 31m 41s\n",
      "INFO:tensorflow:Oracle triggered exit\n"
     ]
    }
   ],
   "source": [
    "#Searching for best hyper parameter by randomly selecting 10 different combinations\n",
    "stop_early = tensorflow.keras.callbacks.EarlyStopping(monitor='val_loss', patience=2) \n",
    "tuner.search(X_train, y_train, epochs=5, validation_data=(X_test,y_test),callbacks=[stop_early])"
   ]
  },
  {
   "cell_type": "code",
   "execution_count": 38,
   "metadata": {},
   "outputs": [
    {
     "name": "stdout",
     "output_type": "stream",
     "text": [
      "Results summary\n",
      "Results in BiLSTM_First\\BiLSTM_asis\n",
      "Showing 10 best trials\n",
      "Objective(name='val_loss', direction='min')\n",
      "Trial summary\n",
      "Hyperparameters:\n",
      "out_dim: 60\n",
      "units: 75\n",
      "learning_rate: 0.01\n",
      "Score: 0.05539344996213913\n",
      "Trial summary\n",
      "Hyperparameters:\n",
      "out_dim: 40\n",
      "units: 100\n",
      "learning_rate: 0.001\n",
      "Score: 0.05650981888175011\n",
      "Trial summary\n",
      "Hyperparameters:\n",
      "out_dim: 60\n",
      "units: 50\n",
      "learning_rate: 0.001\n",
      "Score: 0.05696422979235649\n",
      "Trial summary\n",
      "Hyperparameters:\n",
      "out_dim: 40\n",
      "units: 50\n",
      "learning_rate: 0.001\n",
      "Score: 0.05697307363152504\n",
      "Trial summary\n",
      "Hyperparameters:\n",
      "out_dim: 20\n",
      "units: 75\n",
      "learning_rate: 0.001\n",
      "Score: 0.057631079107522964\n",
      "Trial summary\n",
      "Hyperparameters:\n",
      "out_dim: 40\n",
      "units: 75\n",
      "learning_rate: 0.001\n",
      "Score: 0.058453213423490524\n",
      "Trial summary\n",
      "Hyperparameters:\n",
      "out_dim: 20\n",
      "units: 100\n",
      "learning_rate: 0.001\n",
      "Score: 0.05867709964513779\n",
      "Trial summary\n",
      "Hyperparameters:\n",
      "out_dim: 60\n",
      "units: 50\n",
      "learning_rate: 0.0001\n",
      "Score: 0.10816957801580429\n",
      "Trial summary\n",
      "Hyperparameters:\n",
      "out_dim: 40\n",
      "units: 75\n",
      "learning_rate: 0.0001\n",
      "Score: 0.12918046116828918\n",
      "Trial summary\n",
      "Hyperparameters:\n",
      "out_dim: 20\n",
      "units: 75\n",
      "learning_rate: 0.0001\n",
      "Score: 0.18195709586143494\n"
     ]
    }
   ],
   "source": [
    "#Looking at the summary to get the best judge of hyper paramaters used and the validation loss for each\n",
    "tuner.results_summary()"
   ]
  },
  {
   "cell_type": "code",
   "execution_count": 39,
   "metadata": {},
   "outputs": [
    {
     "name": "stdout",
     "output_type": "stream",
     "text": [
      "\n",
      "The hyperparameter search is complete. \n",
      "The optimal number of neurons for BiLSTM layer is 75,\n",
      "The optimal learning rate for the optimizer is 0.01 and\n",
      "The No of dimentions of the Embedding o/p is 60.\n",
      "\n"
     ]
    }
   ],
   "source": [
    "#printing the best hyper parameters as per the tuner.\n",
    "best_hps=tuner.get_best_hyperparameters()[0]\n",
    "\n",
    "print(f\"\"\"\n",
    "The hyperparameter search is complete. \n",
    "The optimal number of neurons for BiLSTM layer is {best_hps.get('units')},\n",
    "The optimal learning rate for the optimizer is {best_hps.get('learning_rate')} and\n",
    "The No of dimentions of the Embedding o/p is {best_hps.get('out_dim')}.\n",
    "\"\"\")"
   ]
  },
  {
   "cell_type": "code",
   "execution_count": 40,
   "metadata": {},
   "outputs": [
    {
     "name": "stdout",
     "output_type": "stream",
     "text": [
      "Epoch 1/10\n",
      "1199/1199 [==============================] - 133s 104ms/step - loss: 0.0972 - accuracy: 0.9727 - val_loss: 0.0557 - val_accuracy: 0.9830\n",
      "Epoch 2/10\n",
      "1199/1199 [==============================] - 126s 105ms/step - loss: 0.0432 - accuracy: 0.9863 - val_loss: 0.0557 - val_accuracy: 0.9833\n",
      "Epoch 3/10\n",
      "1199/1199 [==============================] - 131s 109ms/step - loss: 0.0351 - accuracy: 0.9885 - val_loss: 0.0575 - val_accuracy: 0.9832\n",
      "Epoch 4/10\n",
      "1199/1199 [==============================] - 130s 108ms/step - loss: 0.0312 - accuracy: 0.9896 - val_loss: 0.0612 - val_accuracy: 0.9831\n",
      "Epoch 5/10\n",
      "1199/1199 [==============================] - 129s 108ms/step - loss: 0.0290 - accuracy: 0.9904 - val_loss: 0.0633 - val_accuracy: 0.9828\n",
      "Epoch 6/10\n",
      "1199/1199 [==============================] - 128s 107ms/step - loss: 0.0278 - accuracy: 0.9907 - val_loss: 0.0669 - val_accuracy: 0.9819\n",
      "Epoch 7/10\n",
      "1199/1199 [==============================] - 135s 113ms/step - loss: 0.0265 - accuracy: 0.9910 - val_loss: 0.0673 - val_accuracy: 0.9825\n",
      "Epoch 8/10\n",
      "1199/1199 [==============================] - 128s 107ms/step - loss: 0.0256 - accuracy: 0.9914 - val_loss: 0.0710 - val_accuracy: 0.9817\n",
      "Epoch 9/10\n",
      "1199/1199 [==============================] - 128s 107ms/step - loss: 0.0247 - accuracy: 0.9917 - val_loss: 0.0702 - val_accuracy: 0.9823\n",
      "Epoch 10/10\n",
      "1199/1199 [==============================] - 134s 112ms/step - loss: 0.0244 - accuracy: 0.9917 - val_loss: 0.0724 - val_accuracy: 0.9820\n",
      "Best epoch: 1\n"
     ]
    }
   ],
   "source": [
    "# Build the model with the optimal hyperparameters and train it on the data for 10 epochs\n",
    "model = tuner.hypermodel.build(best_hps)\n",
    "history = model.fit(X_train, y_train, epochs=10, validation_data=(X_test,y_test))\n",
    "#checking which Epoch had the lowest val_loss\n",
    "val_loss_per_epoch = history.history['val_loss']\n",
    "best_epoch = val_loss_per_epoch.index(min(val_loss_per_epoch)) + 1\n",
    "print('Best epoch: %d' % (best_epoch,))"
   ]
  },
  {
   "cell_type": "code",
   "execution_count": 41,
   "metadata": {},
   "outputs": [
    {
     "data": {
      "text/plain": [
       "<Figure size 864x576 with 0 Axes>"
      ]
     },
     "execution_count": 41,
     "metadata": {},
     "output_type": "execute_result"
    },
    {
     "data": {
      "text/plain": [
       "[<matplotlib.lines.Line2D at 0x1f91cc7c308>]"
      ]
     },
     "execution_count": 41,
     "metadata": {},
     "output_type": "execute_result"
    },
    {
     "data": {
      "text/plain": [
       "[<matplotlib.lines.Line2D at 0x1f91cc53988>]"
      ]
     },
     "execution_count": 41,
     "metadata": {},
     "output_type": "execute_result"
    },
    {
     "data": {
      "text/plain": [
       "<matplotlib.legend.Legend at 0x1f91cc889c8>"
      ]
     },
     "execution_count": 41,
     "metadata": {},
     "output_type": "execute_result"
    },
    {
     "data": {
      "image/png": "[encoded data removed]",
      "text/plain": [
       "<Figure size 864x576 with 1 Axes>"
      ]
     },
     "metadata": {},
     "output_type": "display_data"
    }
   ],
   "source": [
    "#Plotting Accuracy vs Validation accuracy\n",
    "hist = pd.DataFrame(history.history)\n",
    "plt.style.use(\"ggplot\")\n",
    "plt.figure(figsize=(12, 8))\n",
    "plt.plot(hist[\"accuracy\"],  label ='accuracy')\n",
    "plt.plot(hist[\"val_accuracy\"], label ='val_accuracy')\n",
    "plt.legend()\n",
    "plt.show()"
   ]
  },
  {
   "cell_type": "code",
   "execution_count": 42,
   "metadata": {},
   "outputs": [
    {
     "data": {
      "text/plain": [
       "<Figure size 864x576 with 0 Axes>"
      ]
     },
     "execution_count": 42,
     "metadata": {},
     "output_type": "execute_result"
    },
    {
     "data": {
      "text/plain": [
       "[<matplotlib.lines.Line2D at 0x1f91d043e88>]"
      ]
     },
     "execution_count": 42,
     "metadata": {},
     "output_type": "execute_result"
    },
    {
     "data": {
      "text/plain": [
       "[<matplotlib.lines.Line2D at 0x1f91d050fc8>]"
      ]
     },
     "execution_count": 42,
     "metadata": {},
     "output_type": "execute_result"
    },
    {
     "data": {
      "text/plain": [
       "<matplotlib.legend.Legend at 0x1f91d058ec8>"
      ]
     },
     "execution_count": 42,
     "metadata": {},
     "output_type": "execute_result"
    },
    {
     "data": {
      "image/png": "[encoded data removed]",
      "text/plain": [
       "<Figure size 864x576 with 1 Axes>"
      ]
     },
     "metadata": {},
     "output_type": "display_data"
    }
   ],
   "source": [
    "#Plotting Loss vs Validation loss\n",
    "hist = pd.DataFrame(history.history)\n",
    "plt.style.use(\"ggplot\")\n",
    "plt.figure(figsize=(12, 8))\n",
    "plt.plot(hist[\"loss\"],  label ='loss')\n",
    "plt.plot(hist[\"val_loss\"], label ='val_loss')\n",
    "plt.legend()\n",
    "plt.show()"
   ]
  },
  {
   "cell_type": "code",
   "execution_count": 43,
   "metadata": {},
   "outputs": [
    {
     "name": "stdout",
     "output_type": "stream",
     "text": [
      "Epoch 1/5\n",
      "1199/1199 [==============================] - 136s 107ms/step - loss: 0.1031 - accuracy: 0.9721 - val_loss: 0.0577 - val_accuracy: 0.9826\n",
      "Epoch 2/5\n",
      "1199/1199 [==============================] - 227s 190ms/step - loss: 0.0437 - accuracy: 0.9861 - val_loss: 0.0562 - val_accuracy: 0.9832\n",
      "Epoch 3/5\n",
      "1199/1199 [==============================] - 235s 196ms/step - loss: 0.0350 - accuracy: 0.9885 - val_loss: 0.0581 - val_accuracy: 0.9830\n",
      "Epoch 4/5\n",
      "1199/1199 [==============================] - 231s 192ms/step - loss: 0.0309 - accuracy: 0.9897 - val_loss: 0.0613 - val_accuracy: 0.9826\n"
     ]
    },
    {
     "data": {
      "text/plain": [
       "<keras.callbacks.History at 0x1f91d118348>"
      ]
     },
     "execution_count": 43,
     "metadata": {},
     "output_type": "execute_result"
    }
   ],
   "source": [
    "#Re-instantiate the hypermodel and train it with the optimal number of epochs from above.\n",
    "stop_early_final = tensorflow.keras.callbacks.EarlyStopping(monitor='val_loss', patience=2,restore_best_weights=True) \n",
    "hypermodel = tuner.hypermodel.build(best_hps)\n",
    "\n",
    "# Retrain the model\n",
    "hypermodel.fit(X_train, y_train, epochs=5, validation_data=(X_test,y_test),callbacks=[stop_early_final])"
   ]
  },
  {
   "cell_type": "code",
   "execution_count": 44,
   "metadata": {},
   "outputs": [
    {
     "name": "stdout",
     "output_type": "stream",
     "text": [
      "Model: \"sequential_3\"\n",
      "_________________________________________________________________\n",
      " Layer (type)                Output Shape              Param #   \n",
      "=================================================================\n",
      " embedding_3 (Embedding)     (None, 40, 40)            1407200   \n",
      "                                                                 \n",
      " spatial_dropout1d_3 (Spatia  (None, 40, 40)           0         \n",
      " lDropout1D)                                                     \n",
      "                                                                 \n",
      " bidirectional_3 (Bidirectio  (None, 40, 200)          112800    \n",
      " nal)                                                            \n",
      "                                                                 \n",
      " time_distributed_3 (TimeDis  (None, 40, 18)           3618      \n",
      " tributed)                                                       \n",
      "                                                                 \n",
      "=================================================================\n",
      "Total params: 1,523,618\n",
      "Trainable params: 1,523,618\n",
      "Non-trainable params: 0\n",
      "_________________________________________________________________\n"
     ]
    }
   ],
   "source": [
    "#Self model 1 with params = output_dim = 40, units=75 and learning_rate=0.01\n",
    "custom_model_1 = Sequential()\n",
    "custom_model_1.add(Embedding(input_dim=total_unique_words, output_dim=40 ,input_length=sentence_length))\n",
    "custom_model_1.add(SpatialDropout1D(0.1))\n",
    "custom_model_1.add(Bidirectional(LSTM(units=100, return_sequences=True, recurrent_dropout=0.1)))    \n",
    "custom_model_1.add(TimeDistributed(Dense(18, activation='softmax')))\n",
    "custom_model_1.compile(optimizer=Adam(learning_rate=0.01), loss='categorical_crossentropy', metrics=['accuracy'])\n",
    "custom_model_1.summary()"
   ]
  },
  {
   "cell_type": "code",
   "execution_count": 45,
   "metadata": {},
   "outputs": [
    {
     "name": "stdout",
     "output_type": "stream",
     "text": [
      "Epoch 1/5\n",
      "1199/1199 [==============================] - 256s 207ms/step - loss: 0.1059 - accuracy: 0.9709 - val_loss: 0.0576 - val_accuracy: 0.9826\n",
      "Epoch 2/5\n",
      "1199/1199 [==============================] - 243s 202ms/step - loss: 0.0452 - accuracy: 0.9857 - val_loss: 0.0549 - val_accuracy: 0.9834\n",
      "Epoch 3/5\n",
      "1199/1199 [==============================] - 252s 210ms/step - loss: 0.0363 - accuracy: 0.9882 - val_loss: 0.0582 - val_accuracy: 0.9831\n",
      "Epoch 4/5\n",
      "1199/1199 [==============================] - 255s 213ms/step - loss: 0.0325 - accuracy: 0.9893 - val_loss: 0.0610 - val_accuracy: 0.9822\n"
     ]
    },
    {
     "data": {
      "text/plain": [
       "<keras.callbacks.History at 0x1f9083f3ec8>"
      ]
     },
     "execution_count": 45,
     "metadata": {},
     "output_type": "execute_result"
    }
   ],
   "source": [
    "#Looking at the results of custom model 1\n",
    "custom_model_1.fit(X_train, y_train, epochs=5, validation_data=(X_test,y_test),callbacks=[stop_early_final])"
   ]
  },
  {
   "cell_type": "code",
   "execution_count": 46,
   "metadata": {},
   "outputs": [
    {
     "name": "stdout",
     "output_type": "stream",
     "text": [
      "Model: \"sequential_4\"\n",
      "_________________________________________________________________\n",
      " Layer (type)                Output Shape              Param #   \n",
      "=================================================================\n",
      " embedding_4 (Embedding)     (None, 40, 20)            703600    \n",
      "                                                                 \n",
      " spatial_dropout1d_4 (Spatia  (None, 40, 20)           0         \n",
      " lDropout1D)                                                     \n",
      "                                                                 \n",
      " bidirectional_4 (Bidirectio  (None, 40, 100)          28400     \n",
      " nal)                                                            \n",
      "                                                                 \n",
      " time_distributed_4 (TimeDis  (None, 40, 18)           1818      \n",
      " tributed)                                                       \n",
      "                                                                 \n",
      "=================================================================\n",
      "Total params: 733,818\n",
      "Trainable params: 733,818\n",
      "Non-trainable params: 0\n",
      "_________________________________________________________________\n"
     ]
    }
   ],
   "source": [
    "#Self model 1 with params = output_dim = 20, units=50 and learning_rate=0.01\n",
    "custom_model_2 = Sequential()\n",
    "custom_model_2.add(Embedding(input_dim=total_unique_words, output_dim=20 ,input_length=sentence_length))\n",
    "custom_model_2.add(SpatialDropout1D(0.1))\n",
    "custom_model_2.add(Bidirectional(LSTM(units=50, return_sequences=True, recurrent_dropout=0.1)))    \n",
    "custom_model_2.add(TimeDistributed(Dense(18, activation='softmax')))\n",
    "custom_model_2.compile(optimizer=Adam(learning_rate=0.01), loss='categorical_crossentropy', metrics=['accuracy'])\n",
    "custom_model_2.summary()"
   ]
  },
  {
   "cell_type": "code",
   "execution_count": 47,
   "metadata": {},
   "outputs": [
    {
     "name": "stdout",
     "output_type": "stream",
     "text": [
      "Epoch 1/5\n",
      "1199/1199 [==============================] - 96s 74ms/step - loss: 0.1182 - accuracy: 0.9684 - val_loss: 0.0604 - val_accuracy: 0.9821\n",
      "Epoch 2/5\n",
      "1199/1199 [==============================] - 88s 74ms/step - loss: 0.0486 - accuracy: 0.9850 - val_loss: 0.0554 - val_accuracy: 0.9832\n",
      "Epoch 3/5\n",
      "1199/1199 [==============================] - 86s 71ms/step - loss: 0.0394 - accuracy: 0.9874 - val_loss: 0.0581 - val_accuracy: 0.9825\n",
      "Epoch 4/5\n",
      "1199/1199 [==============================] - 86s 72ms/step - loss: 0.0353 - accuracy: 0.9884 - val_loss: 0.0573 - val_accuracy: 0.9829\n"
     ]
    },
    {
     "data": {
      "text/plain": [
       "<keras.callbacks.History at 0x1f907e97c48>"
      ]
     },
     "execution_count": 47,
     "metadata": {},
     "output_type": "execute_result"
    }
   ],
   "source": [
    "#Looking at the results of custom model 2\n",
    "custom_model_2.fit(X_train, y_train, epochs=5, validation_data=(X_test,y_test),callbacks=[stop_early_final])"
   ]
  },
  {
   "cell_type": "code",
   "execution_count": 48,
   "metadata": {},
   "outputs": [
    {
     "name": "stdout",
     "output_type": "stream",
     "text": [
      "300/300 [==============================] - 9s 26ms/step\n",
      "300/300 [==============================] - 15s 48ms/step\n",
      "300/300 [==============================] - 4s 11ms/step\n"
     ]
    }
   ],
   "source": [
    "#Replacing the tag indexes with tags and predicting on test data\n",
    "from seqeval.metrics import precision_score, recall_score, f1_score, classification_report\n",
    "\n",
    "hypermodel_pred = hypermodel.predict(X_test, verbose=1)\n",
    "custom_model_1_pred = custom_model_1.predict(X_test, verbose=1)\n",
    "custom_model_2_pred = custom_model_2.predict(X_test, verbose=1)\n",
    "\n",
    "idx2tag = {i: w for w, i in tag2index.items()}\n",
    "\n",
    "def pred2label(pred):\n",
    "    out = []\n",
    "    for pred_i in pred:\n",
    "        out_i = []\n",
    "        for p in pred_i:\n",
    "            p_i = np.argmax(p)\n",
    "            out_i.append(idx2tag[p_i].replace(\"PADDING\", \"O\"))\n",
    "        out.append(out_i)\n",
    "    return out\n",
    "    \n",
    "hypermodel_pred_labels = pred2label(hypermodel_pred)\n",
    "custom_model_1_labels = pred2label(custom_model_1_pred)\n",
    "custom_model_2_labels = pred2label(custom_model_2_pred)\n",
    "test_labels = pred2label(y_test)"
   ]
  },
  {
   "cell_type": "code",
   "execution_count": 49,
   "metadata": {},
   "outputs": [
    {
     "name": "stdout",
     "output_type": "stream",
     "text": [
      "Hyper Parameter Tuned model F1-score: 81.8%\n",
      "Custom Parameters model 1 F1-score: 81.7%\n",
      "Custom Parameters model 2 F1-score: 81.7%\n"
     ]
    }
   ],
   "source": [
    "#Checking for weighted f1 score and classification report\n",
    "print(\"Hyper Parameter Tuned model F1-score: {:.1%}\".format(f1_score(test_labels, hypermodel_pred_labels)))\n",
    "print(\"Custom Parameters model 1 F1-score: {:.1%}\".format(f1_score(test_labels, custom_model_1_labels)))\n",
    "print(\"Custom Parameters model 2 F1-score: {:.1%}\".format(f1_score(test_labels, custom_model_2_labels)))"
   ]
  },
  {
   "cell_type": "code",
   "execution_count": 50,
   "metadata": {},
   "outputs": [
    {
     "name": "stdout",
     "output_type": "stream",
     "text": [
      "Classification Report of Hyper paramater tuned model\n",
      "              precision    recall  f1-score   support\n",
      "\n",
      "         art       0.35      0.10      0.15        62\n",
      "         eve       0.60      0.20      0.30        59\n",
      "         geo       0.82      0.91      0.86      7529\n",
      "         gpe       0.96      0.93      0.95      3196\n",
      "         nat       0.70      0.17      0.27        42\n",
      "         org       0.71      0.65      0.68      3982\n",
      "         per       0.75      0.73      0.74      3356\n",
      "         tim       0.87      0.83      0.85      4036\n",
      "\n",
      "   micro avg       0.82      0.82      0.82     22262\n",
      "   macro avg       0.72      0.56      0.60     22262\n",
      "weighted avg       0.82      0.82      0.82     22262\n",
      "\n",
      "Classification Report of Custom model 1\n",
      "              precision    recall  f1-score   support\n",
      "\n",
      "         art       0.54      0.11      0.19        62\n",
      "         eve       0.62      0.17      0.27        59\n",
      "         geo       0.84      0.90      0.87      7529\n",
      "         gpe       0.95      0.94      0.94      3196\n",
      "         nat       0.39      0.26      0.31        42\n",
      "         org       0.66      0.65      0.66      3982\n",
      "         per       0.73      0.75      0.74      3356\n",
      "         tim       0.86      0.85      0.86      4036\n",
      "\n",
      "   micro avg       0.81      0.82      0.82     22262\n",
      "   macro avg       0.70      0.58      0.60     22262\n",
      "weighted avg       0.81      0.82      0.82     22262\n",
      "\n",
      "Classification Report of Custom model 2\n",
      "              precision    recall  f1-score   support\n",
      "\n",
      "         art       0.07      0.02      0.03        62\n",
      "         eve       0.42      0.24      0.30        59\n",
      "         geo       0.84      0.88      0.86      7529\n",
      "         gpe       0.96      0.93      0.95      3196\n",
      "         nat       0.62      0.12      0.20        42\n",
      "         org       0.66      0.69      0.67      3982\n",
      "         per       0.74      0.74      0.74      3356\n",
      "         tim       0.83      0.87      0.85      4036\n",
      "\n",
      "   micro avg       0.81      0.83      0.82     22262\n",
      "   macro avg       0.64      0.56      0.58     22262\n",
      "weighted avg       0.81      0.83      0.82     22262\n",
      "\n"
     ]
    }
   ],
   "source": [
    "print(\"Classification Report of Hyper paramater tuned model\")\n",
    "print(classification_report(test_labels, hypermodel_pred_labels))\n",
    "print(\"Classification Report of Custom model 1\")\n",
    "print(classification_report(test_labels, custom_model_1_labels))\n",
    "print(\"Classification Report of Custom model 2\")\n",
    "print(classification_report(test_labels, custom_model_2_labels))"
   ]
  },
  {
   "cell_type": "code",
   "execution_count": 51,
   "metadata": {},
   "outputs": [
    {
     "name": "stdout",
     "output_type": "stream",
     "text": [
      "Word           True      HM_Pred   C1_Pred   C2_Pred   \n",
      "--------------------------------------------------\n",
      "The            O         O         O         O         \n",
      "Guantanamo     B-geo     B-geo     B-geo     B-geo     \n",
      "facility       O         O         O         O         \n",
      "holds          O         O         O         O         \n",
      "at             O         O         O         O         \n",
      "least          O         O         O         O         \n",
      "275            O         O         O         O         \n",
      "terror         O         O         O         O         \n",
      "suspects       O         O         O         O         \n",
      "captured       O         O         O         O         \n",
      "in             O         O         O         O         \n",
      "Afghanistan    B-geo     B-geo     B-geo     B-geo     \n",
      "and            O         O         O         O         \n",
      "elsewhere      O         O         O         O         \n",
      ".              O         O         O         O         \n"
     ]
    }
   ],
   "source": [
    "#Predictin on Test dataset\n",
    "def get_key(val,diction):\n",
    "    for key, value in diction.items():\n",
    "        if val == value:\n",
    "            return key\n",
    "\n",
    "i = np.random.randint(0, X_test.shape[0])\n",
    "\n",
    "h_p = hypermodel.predict(np.array([X_test[i]]))\n",
    "c1_p = custom_model_1.predict(np.array([X_test[i]]))\n",
    "c2_p = custom_model_2.predict(np.array([X_test[i]]))\n",
    "\n",
    "h_p = np.argmax(h_p, axis=-1)\n",
    "c1_p = np.argmax(c1_p, axis=-1)\n",
    "c2_p = np.argmax(c2_p, axis=-1)\n",
    "\n",
    "y_true = np.argmax(np.array(y_test), axis=-1)[i]\n",
    "\n",
    "print(\"{:15}{:10}{:10}{:10}{:10}\".format(\"Word\", \"True\", \"HM_Pred\",\"C1_Pred\",\"C2_Pred\"))\n",
    "print(\"-\"*50)\n",
    "\n",
    "for (w, t, h_p,c1_p,c2_p) in zip(X_test[i], y_true, h_p[0], c1_p[0],c2_p[0]):\n",
    "    if get_key(w,word2index) == 'PADDING':\n",
    "        pass\n",
    "    else:\n",
    "        print(\"{:15}{:10}{:10}{:10}{:10}\".format(get_key(w,word2index), get_key(t,tag2index), get_key(h_p,tag2index), get_key(c1_p,tag2index), get_key(c2_p,tag2index)))"
   ]
  },
  {
   "cell_type": "code",
   "execution_count": 54,
   "metadata": {},
   "outputs": [
    {
     "name": "stdout",
     "output_type": "stream",
     "text": [
      "Model: \"sequential_6\"\n",
      "_________________________________________________________________\n",
      " Layer (type)                Output Shape              Param #   \n",
      "=================================================================\n",
      " embedding_6 (Embedding)     (None, 40, 60)            2110800   \n",
      "                                                                 \n",
      " spatial_dropout1d_6 (Spatia  (None, 40, 60)           0         \n",
      " lDropout1D)                                                     \n",
      "                                                                 \n",
      " bidirectional_6 (Bidirectio  (None, 40, 150)          81600     \n",
      " nal)                                                            \n",
      "                                                                 \n",
      " time_distributed_6 (TimeDis  (None, 40, 18)           2718      \n",
      " tributed)                                                       \n",
      "                                                                 \n",
      "=================================================================\n",
      "Total params: 2,195,118\n",
      "Trainable params: 2,195,118\n",
      "Non-trainable params: 0\n",
      "_________________________________________________________________\n"
     ]
    }
   ],
   "source": [
    "# Training model on complete dataset \n",
    "# With Hyper parameters \n",
    "# output_dim = 40, units=100 and learning_rate=0.01\n",
    "\n",
    "Final_model = Sequential()\n",
    "Final_model.add(Embedding(input_dim=total_unique_words, output_dim=60 ,input_length=sentence_length))\n",
    "Final_model.add(SpatialDropout1D(0.1))\n",
    "Final_model.add(Bidirectional(LSTM(units=75, return_sequences=True, recurrent_dropout=0.1)))    \n",
    "Final_model.add(TimeDistributed(Dense(18, activation='softmax')))\n",
    "\n",
    "Final_model.compile(optimizer=Adam(learning_rate=0.01), loss='categorical_crossentropy', metrics=['accuracy'])\n",
    "Final_model.summary()"
   ]
  },
  {
   "cell_type": "code",
   "execution_count": 55,
   "metadata": {},
   "outputs": [
    {
     "name": "stdout",
     "output_type": "stream",
     "text": [
      "Epoch 1/2\n",
      "1499/1499 [==============================] - 180s 115ms/step - loss: 0.0909 - accuracy: 0.9748\n",
      "Epoch 2/2\n",
      "1499/1499 [==============================] - 173s 116ms/step - loss: 0.0427 - accuracy: 0.9863\n"
     ]
    },
    {
     "data": {
      "text/plain": [
       "<keras.callbacks.History at 0x1f93bd92148>"
      ]
     },
     "execution_count": 55,
     "metadata": {},
     "output_type": "execute_result"
    }
   ],
   "source": [
    "#Fitting final model for two epochs as all test training was overfitting for more number of epochs\n",
    "Full_X_Train = np.array(X)\n",
    "Full_Y_Train = np.array(y)\n",
    "Final_model.fit(Full_X_Train, Full_Y_Train, epochs=2)"
   ]
  },
  {
   "cell_type": "code",
   "execution_count": 66,
   "metadata": {},
   "outputs": [],
   "source": [
    "#saving the model\n",
    "Final_model.save('TrainedModels/BiLSTM_Final_model.h5')"
   ]
  },
  {
   "cell_type": "markdown",
   "metadata": {},
   "source": [
    "#### Predicting on Climate change dataset"
   ]
  },
  {
   "cell_type": "code",
   "execution_count": 57,
   "metadata": {},
   "outputs": [
    {
     "data": {
      "text/html": [
       "<div>\n",
       "<style scoped>\n",
       "    .dataframe tbody tr th:only-of-type {\n",
       "        vertical-align: middle;\n",
       "    }\n",
       "\n",
       "    .dataframe tbody tr th {\n",
       "        vertical-align: top;\n",
       "    }\n",
       "\n",
       "    .dataframe thead th {\n",
       "        text-align: right;\n",
       "    }\n",
       "</style>\n",
       "<table border=\"1\" class=\"dataframe\">\n",
       "  <thead>\n",
       "    <tr style=\"text-align: right;\">\n",
       "      <th></th>\n",
       "      <th>CleanedTweets</th>\n",
       "    </tr>\n",
       "  </thead>\n",
       "  <tbody>\n",
       "    <tr>\n",
       "      <th>0</th>\n",
       "      <td>News Trends Data Americans are less concerned ...</td>\n",
       "    </tr>\n",
       "    <tr>\n",
       "      <th>1</th>\n",
       "      <td>Do you realize that civil war is the devastati...</td>\n",
       "    </tr>\n",
       "    <tr>\n",
       "      <th>2</th>\n",
       "      <td>Having anxiety over the weather something they...</td>\n",
       "    </tr>\n",
       "    <tr>\n",
       "      <th>3</th>\n",
       "      <td>In the last few years I've noticed that studen...</td>\n",
       "    </tr>\n",
       "    <tr>\n",
       "      <th>4</th>\n",
       "      <td>FULL INTERVIEW BTS ARMY BTSonGMA NEWS EXCLUSIV...</td>\n",
       "    </tr>\n",
       "  </tbody>\n",
       "</table>\n",
       "</div>"
      ],
      "text/plain": [
       "                                       CleanedTweets\n",
       "0  News Trends Data Americans are less concerned ...\n",
       "1  Do you realize that civil war is the devastati...\n",
       "2  Having anxiety over the weather something they...\n",
       "3  In the last few years I've noticed that studen...\n",
       "4  FULL INTERVIEW BTS ARMY BTSonGMA NEWS EXCLUSIV..."
      ]
     },
     "execution_count": 57,
     "metadata": {},
     "output_type": "execute_result"
    },
    {
     "data": {
      "text/plain": [
       "(1557690, 1)"
      ]
     },
     "execution_count": 57,
     "metadata": {},
     "output_type": "execute_result"
    }
   ],
   "source": [
    "#Readig the cleaned dataset\n",
    "ClimateChange_DF = pd.read_csv(\"Cleaned_English_tweets.csv\")\n",
    "#keeping only the tweets\n",
    "ClimateChange_DF = ClimateChange_DF[[\"CleanedTweets\"]]\n",
    "ClimateChange_DF.head()\n",
    "ClimateChange_DF.shape"
   ]
  },
  {
   "cell_type": "code",
   "execution_count": 58,
   "metadata": {},
   "outputs": [],
   "source": [
    "# Creating a list of word index with padding\n",
    "ClimateChange_DF[\"Word\"] = ClimateChange_DF[\"CleanedTweets\"].apply(lambda x: str(x).lower().split())\n",
    "ClimateChange_DF['Word_Index'] = ClimateChange_DF['Word'].apply(lambda x: [word2index[s] if s in word2index else word2index['UNKNOWN_WORD'] for s in x])\n",
    "ClimateChange_DF[\"Padded_Word_Index\"] = ClimateChange_DF[\"Word_Index\"].apply(lambda x: x + [word2index[\"PADDING\"]] * (40 - len(x)) if (len(x) <=40) else x[:40])"
   ]
  },
  {
   "cell_type": "code",
   "execution_count": 59,
   "metadata": {},
   "outputs": [
    {
     "data": {
      "text/html": [
       "<div>\n",
       "<style scoped>\n",
       "    .dataframe tbody tr th:only-of-type {\n",
       "        vertical-align: middle;\n",
       "    }\n",
       "\n",
       "    .dataframe tbody tr th {\n",
       "        vertical-align: top;\n",
       "    }\n",
       "\n",
       "    .dataframe thead th {\n",
       "        text-align: right;\n",
       "    }\n",
       "</style>\n",
       "<table border=\"1\" class=\"dataframe\">\n",
       "  <thead>\n",
       "    <tr style=\"text-align: right;\">\n",
       "      <th></th>\n",
       "      <th>CleanedTweets</th>\n",
       "      <th>Word</th>\n",
       "      <th>Word_Index</th>\n",
       "      <th>Padded_Word_Index</th>\n",
       "    </tr>\n",
       "  </thead>\n",
       "  <tbody>\n",
       "    <tr>\n",
       "      <th>0</th>\n",
       "      <td>News Trends Data Americans are less concerned ...</td>\n",
       "      <td>[news, trends, data, americans, are, less, con...</td>\n",
       "      <td>[31737, 20337, 21177, 0, 23216, 10517, 25944, ...</td>\n",
       "      <td>[31737, 20337, 21177, 0, 23216, 10517, 25944, ...</td>\n",
       "    </tr>\n",
       "    <tr>\n",
       "      <th>1</th>\n",
       "      <td>Do you realize that civil war is the devastati...</td>\n",
       "      <td>[do, you, realize, that, civil, war, is, the, ...</td>\n",
       "      <td>[21405, 14666, 20342, 26653, 2796, 32980, 6563...</td>\n",
       "      <td>[21405, 14666, 20342, 26653, 2796, 32980, 6563...</td>\n",
       "    </tr>\n",
       "    <tr>\n",
       "      <th>2</th>\n",
       "      <td>Having anxiety over the weather something they...</td>\n",
       "      <td>[having, anxiety, over, the, weather, somethin...</td>\n",
       "      <td>[27689, 19769, 29935, 8235, 21182, 2958, 35049...</td>\n",
       "      <td>[27689, 19769, 29935, 8235, 21182, 2958, 35049...</td>\n",
       "    </tr>\n",
       "    <tr>\n",
       "      <th>3</th>\n",
       "      <td>In the last few years I've noticed that studen...</td>\n",
       "      <td>[in, the, last, few, years, i've, noticed, tha...</td>\n",
       "      <td>[20547, 8235, 8856, 29571, 31255, 0, 12021, 26...</td>\n",
       "      <td>[20547, 8235, 8856, 29571, 31255, 0, 12021, 26...</td>\n",
       "    </tr>\n",
       "    <tr>\n",
       "      <th>4</th>\n",
       "      <td>FULL INTERVIEW BTS ARMY BTSonGMA NEWS EXCLUSIV...</td>\n",
       "      <td>[full, interview, bts, army, btsongma, news, e...</td>\n",
       "      <td>[26805, 25014, 0, 35064, 0, 31737, 23664, 3032...</td>\n",
       "      <td>[26805, 25014, 0, 35064, 0, 31737, 23664, 3032...</td>\n",
       "    </tr>\n",
       "  </tbody>\n",
       "</table>\n",
       "</div>"
      ],
      "text/plain": [
       "                                       CleanedTweets  \\\n",
       "0  News Trends Data Americans are less concerned ...   \n",
       "1  Do you realize that civil war is the devastati...   \n",
       "2  Having anxiety over the weather something they...   \n",
       "3  In the last few years I've noticed that studen...   \n",
       "4  FULL INTERVIEW BTS ARMY BTSonGMA NEWS EXCLUSIV...   \n",
       "\n",
       "                                                Word  \\\n",
       "0  [news, trends, data, americans, are, less, con...   \n",
       "1  [do, you, realize, that, civil, war, is, the, ...   \n",
       "2  [having, anxiety, over, the, weather, somethin...   \n",
       "3  [in, the, last, few, years, i've, noticed, tha...   \n",
       "4  [full, interview, bts, army, btsongma, news, e...   \n",
       "\n",
       "                                          Word_Index  \\\n",
       "0  [31737, 20337, 21177, 0, 23216, 10517, 25944, ...   \n",
       "1  [21405, 14666, 20342, 26653, 2796, 32980, 6563...   \n",
       "2  [27689, 19769, 29935, 8235, 21182, 2958, 35049...   \n",
       "3  [20547, 8235, 8856, 29571, 31255, 0, 12021, 26...   \n",
       "4  [26805, 25014, 0, 35064, 0, 31737, 23664, 3032...   \n",
       "\n",
       "                                   Padded_Word_Index  \n",
       "0  [31737, 20337, 21177, 0, 23216, 10517, 25944, ...  \n",
       "1  [21405, 14666, 20342, 26653, 2796, 32980, 6563...  \n",
       "2  [27689, 19769, 29935, 8235, 21182, 2958, 35049...  \n",
       "3  [20547, 8235, 8856, 29571, 31255, 0, 12021, 26...  \n",
       "4  [26805, 25014, 0, 35064, 0, 31737, 23664, 3032...  "
      ]
     },
     "execution_count": 59,
     "metadata": {},
     "output_type": "execute_result"
    }
   ],
   "source": [
    "ClimateChange_DF.head()"
   ]
  },
  {
   "cell_type": "code",
   "execution_count": 65,
   "metadata": {},
   "outputs": [
    {
     "name": "stdout",
     "output_type": "stream",
     "text": [
      "Actual Word         Word                True      \n",
      "------------------------------\n",
      "ive                 UNKNOWN_WORD        O         \n",
      "dedicated           dedicated           O         \n",
      "the                 the                 O         \n",
      "past                past                B-tim     \n",
      "2                   2                   I-tim     \n",
      "years               years               O         \n",
      "to                  to                  O         \n",
      "exposing            exposing            O         \n",
      "the                 the                 O         \n",
      "money               money               O         \n",
      "behind              behind              O         \n",
      "the                 the                 O         \n",
      "conference          conference          O         \n",
      "of                  of                  O         \n",
      "the                 the                 O         \n",
      "parties             parties             O         \n",
      "the                 the                 O         \n",
      "most                most                O         \n",
      "important           important           O         \n",
      "event               event               O         \n",
      "regard              regard              O         \n",
      "unfcc               UNKNOWN_WORD        O         \n",
      "&                   &                   I-org     \n",
      "cop                 UNKNOWN_WORD        I-per     \n",
      "was                 was                 O         \n",
      "formed              formed              O         \n",
      "in                  in                  O         \n",
      "the                 the                 O         \n",
      "80's                UNKNOWN_WORD        O         \n",
      "to                  to                  O         \n",
      "fight               fight               O         \n",
      "climate             climate             O         \n",
      "change              change              O         \n",
      "cop                 UNKNOWN_WORD        O         \n",
      "is                  is                  O         \n",
      "funded              funded              O         \n",
      "&                   &                   B-geo     \n",
      "sponsored           sponsored           O         \n",
      "by                  by                  O         \n",
      "fossil              fossil              B-geo     \n"
     ]
    },
    {
     "data": {
      "text/html": [
       "<span class=\"tex2jax_ignore\"><div class=\"entities\" style=\"line-height: 2.5; direction: ltr\">Ive dedicated \n",
       "<mark class=\"entity\" style=\"background: #bfe1d9; padding: 0.45em 0.6em; margin: 0 0.25em; line-height: 1; border-radius: 0.35em;\">\n",
       "    the past 2 years\n",
       "    <span style=\"font-size: 0.8em; font-weight: bold; line-height: 1; border-radius: 0.35em; vertical-align: middle; margin-left: 0.5rem\">DATE</span>\n",
       "</mark>\n",
       " to exposing the money behind the Conference of the Parties the most important event regard \n",
       "<mark class=\"entity\" style=\"background: #7aecec; padding: 0.45em 0.6em; margin: 0 0.25em; line-height: 1; border-radius: 0.35em;\">\n",
       "    UNFCC &amp; COP\n",
       "    <span style=\"font-size: 0.8em; font-weight: bold; line-height: 1; border-radius: 0.35em; vertical-align: middle; margin-left: 0.5rem\">ORG</span>\n",
       "</mark>\n",
       " was formed in the \n",
       "<mark class=\"entity\" style=\"background: #bfe1d9; padding: 0.45em 0.6em; margin: 0 0.25em; line-height: 1; border-radius: 0.35em;\">\n",
       "    80\n",
       "    <span style=\"font-size: 0.8em; font-weight: bold; line-height: 1; border-radius: 0.35em; vertical-align: middle; margin-left: 0.5rem\">DATE</span>\n",
       "</mark>\n",
       "'s to fight climate change \n",
       "<mark class=\"entity\" style=\"background: #7aecec; padding: 0.45em 0.6em; margin: 0 0.25em; line-height: 1; border-radius: 0.35em;\">\n",
       "    COP\n",
       "    <span style=\"font-size: 0.8em; font-weight: bold; line-height: 1; border-radius: 0.35em; vertical-align: middle; margin-left: 0.5rem\">ORG</span>\n",
       "</mark>\n",
       " is funded &amp; sponsored by fossil fuels We haven't solved the climate crisis in fact we're even more screwed We need to kick pollutersout of \n",
       "<mark class=\"entity\" style=\"background: #bfeeb7; padding: 0.45em 0.6em; margin: 0 0.25em; line-height: 1; border-radius: 0.35em;\">\n",
       "    COP\n",
       "    <span style=\"font-size: 0.8em; font-weight: bold; line-height: 1; border-radius: 0.35em; vertical-align: middle; margin-left: 0.5rem\">PRODUCT</span>\n",
       "</mark>\n",
       " because they're actively preventing progress \n",
       "<mark class=\"entity\" style=\"background: #7aecec; padding: 0.45em 0.6em; margin: 0 0.25em; line-height: 1; border-radius: 0.35em;\">\n",
       "    DEFUNDCOP\n",
       "    <span style=\"font-size: 0.8em; font-weight: bold; line-height: 1; border-radius: 0.35em; vertical-align: middle; margin-left: 0.5rem\">ORG</span>\n",
       "</mark>\n",
       " </div></span>"
      ],
      "text/plain": [
       "<IPython.core.display.HTML object>"
      ]
     },
     "metadata": {},
     "output_type": "display_data"
    }
   ],
   "source": [
    "#Predictin on Test dataset\n",
    "def get_key(val,diction):\n",
    "    for key, value in diction.items():\n",
    "        if val == value:\n",
    "            return key\n",
    "\n",
    "i = np.random.randint(0, ClimateChange_DF.Padded_Word_Index.shape[0])\n",
    "\n",
    "h_p = Final_model_Strict_Clean.predict(np.array([ClimateChange_DF.Padded_Word_Index[i]]))\n",
    "\n",
    "h_p = np.argmax(h_p, axis=-1)\n",
    "\n",
    "print(\"{:20}{:20}{:10}\".format(\"Actual Word\", \"Word\", \"True\",))\n",
    "print(\"-\"*30)\n",
    "for (m, w, t) in itertools.zip_longest(ClimateChange_DF.Word[i][:40], ClimateChange_DF.Padded_Word_Index[i], h_p[0]):\n",
    "    if get_key(w,word2index) == 'PADDING':\n",
    "        pass\n",
    "    else:\n",
    "        print(\"{:20}{:20}{:10}\".format(str(m), get_key(w,word2index), get_key(t,tag2index)))\n",
    "\n",
    "#Using Spacy to cross check for entities\n",
    "nlp = spacy.load('en_core_web_sm')\n",
    "text = nlp(ClimateChange_DF.CleanedTweets[i])\n",
    "displacy.render(text, style = 'ent', jupyter=True)"
   ]
  },
  {
   "cell_type": "code",
   "execution_count": null,
   "metadata": {},
   "outputs": [],
   "source": [
    "#For testing import the model and the index\n",
    "from tensorflow import keras\n",
    "LoadedModel = keras.models.load_model('TrainedModels/Final_model_Strict_Clean')\n",
    "\n",
    "#Reading the dictionaries back \n",
    "with open('word2index', 'r') as fp:\n",
    "    word2index = json.load(fp)\n",
    "    \n",
    "with open('word2index', 'r') as fp:\n",
    "    tag2index = json.load(fp)"
   ]
  }
 ],
 "metadata": {
  "kernelspec": {
   "display_name": "Python 3",
   "language": "python",
   "name": "python3"
  },
  "language_info": {
   "codemirror_mode": {
    "name": "ipython",
    "version": 3
   },
   "file_extension": ".py",
   "mimetype": "text/x-python",
   "name": "python",
   "nbconvert_exporter": "python",
   "pygments_lexer": "ipython3",
   "version": "3.7.6"
  }
 },
 "nbformat": 4,
 "nbformat_minor": 4
}
